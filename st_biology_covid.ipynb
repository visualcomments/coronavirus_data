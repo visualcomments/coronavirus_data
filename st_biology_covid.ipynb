{
  "cells": [
    {
      "cell_type": "markdown",
      "metadata": {
        "id": "view-in-github",
        "colab_type": "text"
      },
      "source": [
        "<a href=\"https://colab.research.google.com/github/visualcomments/coronavirus_data/blob/master/st_biology_covid.ipynb\" target=\"_parent\"><img src=\"https://colab.research.google.com/assets/colab-badge.svg\" alt=\"Open In Colab\"/></a>"
      ]
    },
    {
      "cell_type": "markdown",
      "source": [
        "# О блокноте"
      ],
      "metadata": {
        "id": "Vn2dAgn8C5eM"
      },
      "id": "Vn2dAgn8C5eM"
    },
    {
      "cell_type": "markdown",
      "source": [
        "На примере биологической тематики решается задача семантического поиска. Использование NLI-модели на архитектуре BERT позволяет сравнивать предложения на сходство по смыслу. Из схожих по смыслу предложений можно извлекать нужные словосочетания и отдельные слова. Попарное сходство нужных ключевых слов позволяет построить взвешенный граф и применять к интересующим нас подмножествам сущностей алгоритмы из области комбинаторики."
      ],
      "metadata": {
        "id": "ZxywrzmmDAt4"
      },
      "id": "ZxywrzmmDAt4"
    },
    {
      "cell_type": "markdown",
      "source": [
        "# Шаг 1"
      ],
      "metadata": {
        "id": "rwts-TOxE3I9"
      },
      "id": "rwts-TOxE3I9"
    },
    {
      "cell_type": "markdown",
      "source": [
        "Для более эффективной работы с NLI-моделями помогает их дообучение на размеченном датасете из нужного домена знания."
      ],
      "metadata": {
        "id": "XvNyCY15E59l"
      },
      "id": "XvNyCY15E59l"
    },
    {
      "cell_type": "code",
      "execution_count": null,
      "metadata": {
        "id": "f268a408"
      },
      "outputs": [],
      "source": [
        "import pandas as pd\n",
        "import numpy as np"
      ],
      "id": "f268a408"
    },
    {
      "cell_type": "code",
      "execution_count": null,
      "metadata": {
        "colab": {
          "base_uri": "https://localhost:8080/"
        },
        "id": "KVP4Ve9t70ZW",
        "outputId": "b7866550-626d-4d2b-ee67-da2dc3a95ba6"
      },
      "outputs": [
        {
          "output_type": "stream",
          "name": "stdout",
          "text": [
            "Downloading...\n",
            "From: https://drive.google.com/uc?id=1JHGAwVGTOYLYdVHNkBvVQBychMT1Io30\n",
            "To: /content/train_dataset.zip\n",
            "\r  0% 0.00/11.6k [00:00<?, ?B/s]\r100% 11.6k/11.6k [00:00<00:00, 12.8MB/s]\n"
          ]
        }
      ],
      "source": [
        "!gdown --id 1JHGAwVGTOYLYdVHNkBvVQBychMT1Io30"
      ],
      "id": "KVP4Ve9t70ZW"
    },
    {
      "cell_type": "code",
      "execution_count": null,
      "metadata": {
        "colab": {
          "base_uri": "https://localhost:8080/"
        },
        "id": "cV-H2J9970cs",
        "outputId": "46b740a4-3310-45e8-a21b-aa1177e1c5c2"
      },
      "outputs": [
        {
          "output_type": "stream",
          "name": "stdout",
          "text": [
            "Archive:  /content/train_dataset.zip\n",
            "  inflating: train_dataset .csv      \n"
          ]
        }
      ],
      "source": [
        "!unzip /content/train_dataset.zip"
      ],
      "id": "cV-H2J9970cs"
    },
    {
      "cell_type": "code",
      "execution_count": null,
      "metadata": {
        "id": "AmHVq09g70fz"
      },
      "outputs": [],
      "source": [
        "df = pd.read_csv('/content/train_dataset .csv')"
      ],
      "id": "AmHVq09g70fz"
    },
    {
      "cell_type": "code",
      "execution_count": null,
      "metadata": {
        "id": "7qTIQ1BH70i4"
      },
      "outputs": [],
      "source": [
        "df['mean'] = df['mean'].astype(str)"
      ],
      "id": "7qTIQ1BH70i4"
    },
    {
      "cell_type": "code",
      "execution_count": null,
      "metadata": {
        "id": "Tc9dpbtw70lY"
      },
      "outputs": [],
      "source": [
        "df['mean'] = df['mean'].str.rstrip('%').astype('float') / 100.0"
      ],
      "id": "Tc9dpbtw70lY"
    },
    {
      "cell_type": "code",
      "execution_count": null,
      "metadata": {
        "id": "QVgPbJMO70oS"
      },
      "outputs": [],
      "source": [
        "lst = ['Sentence 1', 'Sentence 2']"
      ],
      "id": "QVgPbJMO70oS"
    },
    {
      "cell_type": "code",
      "execution_count": null,
      "metadata": {
        "id": "sdyZQ6ac70rD"
      },
      "outputs": [],
      "source": [
        "sentences = df[lst]"
      ],
      "id": "sdyZQ6ac70rD"
    },
    {
      "cell_type": "code",
      "execution_count": null,
      "metadata": {
        "id": "95F_xfg6708-"
      },
      "outputs": [],
      "source": [
        "train_label = df['mean']"
      ],
      "id": "95F_xfg6708-"
    },
    {
      "cell_type": "code",
      "execution_count": null,
      "metadata": {
        "colab": {
          "base_uri": "https://localhost:8080/"
        },
        "id": "c4c68156",
        "outputId": "5dc0b193-5f6f-49a5-9aae-f54bac62f78e"
      },
      "outputs": [
        {
          "output_type": "stream",
          "name": "stdout",
          "text": [
            "Collecting sentence_transformers\n",
            "  Downloading sentence-transformers-2.1.0.tar.gz (78 kB)\n",
            "\u001b[K     |████████████████████████████████| 78 kB 3.5 MB/s \n",
            "\u001b[?25hCollecting transformers<5.0.0,>=4.6.0\n",
            "  Downloading transformers-4.16.2-py3-none-any.whl (3.5 MB)\n",
            "\u001b[K     |████████████████████████████████| 3.5 MB 34.7 MB/s \n",
            "\u001b[?25hCollecting tokenizers>=0.10.3\n",
            "  Downloading tokenizers-0.11.4-cp37-cp37m-manylinux_2_12_x86_64.manylinux2010_x86_64.whl (6.8 MB)\n",
            "\u001b[K     |████████████████████████████████| 6.8 MB 27.4 MB/s \n",
            "\u001b[?25hRequirement already satisfied: tqdm in /usr/local/lib/python3.7/dist-packages (from sentence_transformers) (4.62.3)\n",
            "Requirement already satisfied: torch>=1.6.0 in /usr/local/lib/python3.7/dist-packages (from sentence_transformers) (1.10.0+cu111)\n",
            "Requirement already satisfied: torchvision in /usr/local/lib/python3.7/dist-packages (from sentence_transformers) (0.11.1+cu111)\n",
            "Requirement already satisfied: numpy in /usr/local/lib/python3.7/dist-packages (from sentence_transformers) (1.19.5)\n",
            "Requirement already satisfied: scikit-learn in /usr/local/lib/python3.7/dist-packages (from sentence_transformers) (1.0.2)\n",
            "Requirement already satisfied: scipy in /usr/local/lib/python3.7/dist-packages (from sentence_transformers) (1.4.1)\n",
            "Requirement already satisfied: nltk in /usr/local/lib/python3.7/dist-packages (from sentence_transformers) (3.2.5)\n",
            "Collecting sentencepiece\n",
            "  Downloading sentencepiece-0.1.96-cp37-cp37m-manylinux_2_17_x86_64.manylinux2014_x86_64.whl (1.2 MB)\n",
            "\u001b[K     |████████████████████████████████| 1.2 MB 35.4 MB/s \n",
            "\u001b[?25hCollecting huggingface-hub\n",
            "  Downloading huggingface_hub-0.4.0-py3-none-any.whl (67 kB)\n",
            "\u001b[K     |████████████████████████████████| 67 kB 4.7 MB/s \n",
            "\u001b[?25hRequirement already satisfied: typing-extensions in /usr/local/lib/python3.7/dist-packages (from torch>=1.6.0->sentence_transformers) (3.10.0.2)\n",
            "Requirement already satisfied: packaging>=20.0 in /usr/local/lib/python3.7/dist-packages (from transformers<5.0.0,>=4.6.0->sentence_transformers) (21.3)\n",
            "Collecting sacremoses\n",
            "  Downloading sacremoses-0.0.47-py2.py3-none-any.whl (895 kB)\n",
            "\u001b[K     |████████████████████████████████| 895 kB 15.9 MB/s \n",
            "\u001b[?25hRequirement already satisfied: requests in /usr/local/lib/python3.7/dist-packages (from transformers<5.0.0,>=4.6.0->sentence_transformers) (2.23.0)\n",
            "Requirement already satisfied: filelock in /usr/local/lib/python3.7/dist-packages (from transformers<5.0.0,>=4.6.0->sentence_transformers) (3.4.2)\n",
            "Requirement already satisfied: regex!=2019.12.17 in /usr/local/lib/python3.7/dist-packages (from transformers<5.0.0,>=4.6.0->sentence_transformers) (2019.12.20)\n",
            "Collecting pyyaml>=5.1\n",
            "  Downloading PyYAML-6.0-cp37-cp37m-manylinux_2_5_x86_64.manylinux1_x86_64.manylinux_2_12_x86_64.manylinux2010_x86_64.whl (596 kB)\n",
            "\u001b[K     |████████████████████████████████| 596 kB 37.5 MB/s \n",
            "\u001b[?25hRequirement already satisfied: importlib-metadata in /usr/local/lib/python3.7/dist-packages (from transformers<5.0.0,>=4.6.0->sentence_transformers) (4.10.1)\n",
            "Requirement already satisfied: pyparsing!=3.0.5,>=2.0.2 in /usr/local/lib/python3.7/dist-packages (from packaging>=20.0->transformers<5.0.0,>=4.6.0->sentence_transformers) (3.0.7)\n",
            "Requirement already satisfied: zipp>=0.5 in /usr/local/lib/python3.7/dist-packages (from importlib-metadata->transformers<5.0.0,>=4.6.0->sentence_transformers) (3.7.0)\n",
            "Requirement already satisfied: six in /usr/local/lib/python3.7/dist-packages (from nltk->sentence_transformers) (1.15.0)\n",
            "Requirement already satisfied: chardet<4,>=3.0.2 in /usr/local/lib/python3.7/dist-packages (from requests->transformers<5.0.0,>=4.6.0->sentence_transformers) (3.0.4)\n",
            "Requirement already satisfied: certifi>=2017.4.17 in /usr/local/lib/python3.7/dist-packages (from requests->transformers<5.0.0,>=4.6.0->sentence_transformers) (2021.10.8)\n",
            "Requirement already satisfied: urllib3!=1.25.0,!=1.25.1,<1.26,>=1.21.1 in /usr/local/lib/python3.7/dist-packages (from requests->transformers<5.0.0,>=4.6.0->sentence_transformers) (1.24.3)\n",
            "Requirement already satisfied: idna<3,>=2.5 in /usr/local/lib/python3.7/dist-packages (from requests->transformers<5.0.0,>=4.6.0->sentence_transformers) (2.10)\n",
            "Requirement already satisfied: joblib in /usr/local/lib/python3.7/dist-packages (from sacremoses->transformers<5.0.0,>=4.6.0->sentence_transformers) (1.1.0)\n",
            "Requirement already satisfied: click in /usr/local/lib/python3.7/dist-packages (from sacremoses->transformers<5.0.0,>=4.6.0->sentence_transformers) (7.1.2)\n",
            "Requirement already satisfied: threadpoolctl>=2.0.0 in /usr/local/lib/python3.7/dist-packages (from scikit-learn->sentence_transformers) (3.0.0)\n",
            "Requirement already satisfied: pillow!=8.3.0,>=5.3.0 in /usr/local/lib/python3.7/dist-packages (from torchvision->sentence_transformers) (7.1.2)\n",
            "Building wheels for collected packages: sentence-transformers\n",
            "  Building wheel for sentence-transformers (setup.py) ... \u001b[?25l\u001b[?25hdone\n",
            "  Created wheel for sentence-transformers: filename=sentence_transformers-2.1.0-py3-none-any.whl size=120999 sha256=417c58b5867f9de63c96ca8d568b8a5883471a3565dffe65a4b3e40c3f0cbfaf\n",
            "  Stored in directory: /root/.cache/pip/wheels/90/f0/bb/ed1add84da70092ea526466eadc2bfb197c4bcb8d4fa5f7bad\n",
            "Successfully built sentence-transformers\n",
            "Installing collected packages: pyyaml, tokenizers, sacremoses, huggingface-hub, transformers, sentencepiece, sentence-transformers\n",
            "  Attempting uninstall: pyyaml\n",
            "    Found existing installation: PyYAML 3.13\n",
            "    Uninstalling PyYAML-3.13:\n",
            "      Successfully uninstalled PyYAML-3.13\n",
            "Successfully installed huggingface-hub-0.4.0 pyyaml-6.0 sacremoses-0.0.47 sentence-transformers-2.1.0 sentencepiece-0.1.96 tokenizers-0.11.4 transformers-4.16.2\n"
          ]
        }
      ],
      "source": [
        "!pip install sentence_transformers"
      ],
      "id": "c4c68156"
    },
    {
      "cell_type": "code",
      "execution_count": null,
      "metadata": {
        "id": "ccJapofN71AO"
      },
      "outputs": [],
      "source": [
        "from sentence_transformers import SentenceTransformer, SentencesDataset, InputExample, losses"
      ],
      "id": "ccJapofN71AO"
    },
    {
      "cell_type": "code",
      "execution_count": null,
      "metadata": {
        "colab": {
          "base_uri": "https://localhost:8080/",
          "height": 496,
          "referenced_widgets": [
            "c32ba7c3823c4c3b91e34fa8efd0b0fb",
            "d8b11ae32f7a4ea6ac36a481211b89c2",
            "a1bf7364758c48ab8df6f9d9aad9f76f",
            "6e805d6000e84544840ce311c32ccf30",
            "75b98b7e63104728ad67c352dfa16ebb",
            "f57eb4720e244fe38738234d225f634f",
            "bf6449e38c0340ef850c4560cbc7a26c",
            "a4150e5eb1814df4a2a4c064d1b1e675",
            "d718f32d30b04a5391c90de105849ed1",
            "a1cba117f2ee473ab3f8a8e367373e8c",
            "94f06fa9b41b4f8ea54b2a4bc1f40f91",
            "80e0391bc50f4821b4075ce802cab276",
            "691fa8513112491e9d9407931d374620",
            "a33fd27c720048b58c5a849b44c6c8ad",
            "efd855c4c7c54bd29118f71cb228e6bb",
            "656006123045455d8ff3eb979eff052a",
            "b937e9fced8e4d67bc7e8b2777c66acf",
            "546f3144208c492f96cafad9db143732",
            "19708d4f906840a9917e0933ac74281e",
            "60cf7eedcd4f4103bd9305a8af85e65b",
            "412c94f369d442908268465a83d24885",
            "b91a84b56b5741ef9d84ed9118b1e4b8",
            "31f6c86d0122449da81a37880cba5454",
            "066302b47add4cd696034ed33c8e406a",
            "d8d6c2d1bb9145848b01cd06ddfd2af9",
            "18ecb78dcf7f4de48210e8156246614e",
            "6a1f47b63e8946389c5a89cee5225307",
            "2ef550d10b6a4cf7950b8b7624ecd53f",
            "c4dfab095ffa4246b3590532443d52fb",
            "d06f6e9d56da4482be85dd13a30e052b",
            "1bfc0ba227114f3f81aa6db11ba5cc98",
            "7e4712201c41422dae6b97ca30969cfa",
            "548aee2c403c4060b5d53c93d5977564",
            "3625d06fb53b4997828413b1206c9982",
            "986b9daf820249279e481459ecc6f220",
            "1fd5a7d2b0974c9a9633d8ff4406a0f1",
            "5c2f721724cd465296909b47841c6301",
            "0ee921239c764806be8a5964212e1c24",
            "e470538ea4184253bce3782587966ea2",
            "1bdbe185e191456eb58ec6a620c953ed",
            "a4006dffe11b49c59b959c87108c6e4d",
            "09f9da1f7de2461ba53e128597a8a81d",
            "6685e31cb3a84717867e37e1bacbfb8e",
            "465421e329614092a5257c8f92f7f17f",
            "cc4c85edac644ad4b2b2c2c6ddd51ce7",
            "0a75be8a63a24337a159fb322ed1ab2a",
            "309aed061f644cf098930418f10b0659",
            "fed3d0f0631348229e092fdaaac41a06",
            "efec012b8d6e4a9b9a80f83d79c352f4",
            "13c77e835f3d43bfab750fd2d0a8b23f",
            "f21d05a4d3384aa68eff2238d78ae00b",
            "fe4e644a467a47a3962077ddfabe7ddc",
            "9e5f4f21a6e14e27a930f3f0bd8d4cce",
            "9063cc7d217848e395f1bdc014c765c5",
            "da1bec905ac74510b89efce7efc065cc",
            "e7683c89a509400cab3c3aea7a0646e3",
            "ac1a918c1a4e4997be2b6ca8ad9e5783",
            "d125b5d5979745658568af0c3a980a91",
            "b3894645606a4007bf8aef31a2e4e86a",
            "f01653635b6a4208ad1b47c44ecf7558",
            "6918e1330d464ec68e5b4c0fe8dccf9e",
            "226182f09da3424c855c9f2f6c5be8bc",
            "9b67f4d810ed4577a70ca769ae93cd03",
            "c25d79dc03ef45049c7b04066b41a0b5",
            "dabe3c6b84a44e628042c9898ecf80ba",
            "cccb43ad6f8842c3ac399b787380f411",
            "2f1f6a3420e4490daad7bf29e7330687",
            "1e7ab540f1fb4e2ebcdf20ac3a0feb51",
            "76914578563f4df888b679f27852497d",
            "0ead30aee83348ba9921de373fcd753e",
            "d4729d7f139a4583913a49df3b44090e",
            "3c374b4ca9d04e148ac391dd4ced4169",
            "d2ec22ba57b443889fc5716329c14fd8",
            "0b346713b58941f483295c553b0504ea",
            "0aae04a47855432d962c3ceb3cbd19b3",
            "5e5b3ce7ed4248af8794136a9c9d6fa4",
            "2a532dcdc8664a0587d80774abf3cb83",
            "0da312280fb540f7b7871bb4d5178ab9",
            "1fd9a55d2ae94764b8c61cdb645baaca",
            "1d1a5fcd39314182a84803f923fce952",
            "fe3fac7ab00c4b09aa9b5bab68214c82",
            "cedd5953922b47c3a1512d64c77fd491",
            "3c24f34c8e564bb393c0d48763f4dd10",
            "1bd802ace55a4974868ee40894dafea8",
            "d0e0f10b461d49468f47a3674e3e9fb7",
            "f406790dee384024bc511c15d51902f5",
            "d982d89df8404f1ca77a785d12449d17",
            "c2bea9afa4a6486fac30a033bbf3fd54",
            "def2e7bb40cb42308558e56dae44aafb",
            "1f3019c9e1154d2ab93815a34e2bffb1",
            "2e38b218552249468ebd8d4574ecd462",
            "7b31b0c3ec4f4574bff0ab7d9857e811",
            "e6a69e3fdd1c48cca09e60d9c43c1248",
            "f3ba57e4a0d84b0ca81ba0ef6df7e1cc",
            "583139f0426b4f97b4b390c2776f02ff",
            "03fd1919b3ee47ef853d9e180e368329",
            "d777f2a153b441a3b54b20a0fde08078",
            "eee30f4f9d0d4f338759099eae581b26",
            "3c6d059a5b314d48910adddc6e991db7",
            "790a6fbafe9e445ea579f29e13af3493",
            "75fd2a8c8de34fd182e1f344dc827bd1",
            "0022be5561774d4d92fa2f4d9198753d",
            "958e056b612d42bf9b80fe841c33c1e8",
            "b5cc5e6fe22f4c48a7b126c405c9cb20",
            "d079d2988feb41b8ad56e9b20d1c258e",
            "6836e6cf2f9e4ab080e96cb61fa38c23",
            "b756ed643aa64f5fba4a0a65034ab672",
            "0d7b8e1e69324251b918369ebc02aa20",
            "8da48dd4531b415ea6cec9a6fe7d8b04",
            "bb926dc83f6c4279a0f6de2720359a14",
            "aa8d8f1abada40c28a95992f05c3d490",
            "a1f521b00ca2481485c3ddf9bd6a133d",
            "6906e5cc9c204d31b392435649a8ee3c",
            "f4c5600a6eb846e488c23ffb122e7753",
            "69abb548bfca4650b6f3503b54bf197d",
            "7ebac5b931464091ad663d88468ed24e",
            "3646986d2f2544ac946fd7fe7b1f5d47",
            "290799b25c974efb8ab1005e24c2acbe",
            "b6c792d9d4cc4c85af40b53baafb1b25",
            "514730ee74684794882ec39c3d066fd0",
            "3ecf6f037eac4df898aafd0cbd218043",
            "778aabbff6b14f348509cc389d0523a0",
            "9eaf7d33f19a45cd88bbf75922c689c6",
            "e82b34a655594694bd1f80b65ddd2146",
            "8ce6b490442546359dd45a09fe5e87a0",
            "4f049c570ac34e1caef672b91db3aeea",
            "a0225e3190664df6a6b5c85541b8aac5",
            "36a43d4f47134b7e82fe3bcf4d901b6d",
            "ba230d43b9894dfebbaad91a29a5199c",
            "03f2b1d87f90493d919dcac75bf3407e",
            "d8c88ae5ef7f454796da7e64d7061967",
            "9f6b2c16b82e46cd828c6f4b4077876e",
            "72104bd9543e4e8b93d0fde819d2438b",
            "631bdb4150304447b71e39d387f55130",
            "3681568979c94c3187354ead8ea6f50c",
            "c7d5ec1a7ab0482e9361226efd1d10fd",
            "6e618d3c11db42d0b8f1b1c19d33e804",
            "0f9fc9d344b24354b68e5cea94b7317a",
            "a46381cff7ce4e6a974669691aac9be4",
            "172ff2d20c174672988f099c631c017d",
            "1423bb13c1b84ef7a8b26af1f848743b",
            "279f6937ac444352b48dc94b6a371fdb",
            "3b72969b212b4de486e89dcfe01a56cc",
            "442bea69d9af4d89aacda87502dec885",
            "575bf66b4c5c40eea889fd97dc2d8590",
            "46e6ae7f510249458fa2662087c64098",
            "34b80b75b8c74abdab1682fb08cf4b1b",
            "a064bda417724a8e84aeab754471840a",
            "57fda2372cf04d5b8cb2da2fa0dce5c6",
            "31188806b025434bbd1fc7f999c0aba6",
            "3d8b8cae9868453eb7e90318c0c9b81e",
            "e3c4c61c17e94f0db5357f0d7265a480",
            "f86b0f441f1441fb9beded01875d3def",
            "fff985756979444ebc4653a9638e0124",
            "c2a771140d3746f3a1549d330205a885",
            "5ab56b4bed3f48a190e8342a2bd1b3ed",
            "f82f02f5368c4cf49e57637a1fd30824",
            "443b65bff99441c9a3e22cede3dca919",
            "01e10680c05b4f389b9282cd1598209a",
            "bc8dcb35f75c42aba01065ec22cff6ed",
            "d3a569544a11430b967ed47d43118cfb",
            "3e7387fbdb674abba6f923420dbc74e6",
            "60705a41039045f5b478ff6d273015db",
            "28d62ad85fda4d328c5fd3c6e3631157",
            "4e39a88f5f16483d99da8f2cd98aad3e"
          ]
        },
        "id": "6f848e48",
        "outputId": "5410f82d-e1a5-450b-9c53-953ea08886a8"
      },
      "outputs": [
        {
          "output_type": "display_data",
          "data": {
            "application/vnd.jupyter.widget-view+json": {
              "model_id": "c32ba7c3823c4c3b91e34fa8efd0b0fb",
              "version_minor": 0,
              "version_major": 2
            },
            "text/plain": [
              "Downloading:   0%|          | 0.00/737 [00:00<?, ?B/s]"
            ]
          },
          "metadata": {}
        },
        {
          "output_type": "display_data",
          "data": {
            "application/vnd.jupyter.widget-view+json": {
              "model_id": "80e0391bc50f4821b4075ce802cab276",
              "version_minor": 0,
              "version_major": 2
            },
            "text/plain": [
              "Downloading:   0%|          | 0.00/9.86k [00:00<?, ?B/s]"
            ]
          },
          "metadata": {}
        },
        {
          "output_type": "display_data",
          "data": {
            "application/vnd.jupyter.widget-view+json": {
              "model_id": "31f6c86d0122449da81a37880cba5454",
              "version_minor": 0,
              "version_major": 2
            },
            "text/plain": [
              "Downloading:   0%|          | 0.00/653 [00:00<?, ?B/s]"
            ]
          },
          "metadata": {}
        },
        {
          "output_type": "display_data",
          "data": {
            "application/vnd.jupyter.widget-view+json": {
              "model_id": "3625d06fb53b4997828413b1206c9982",
              "version_minor": 0,
              "version_major": 2
            },
            "text/plain": [
              "Downloading:   0%|          | 0.00/116 [00:00<?, ?B/s]"
            ]
          },
          "metadata": {}
        },
        {
          "output_type": "display_data",
          "data": {
            "application/vnd.jupyter.widget-view+json": {
              "model_id": "cc4c85edac644ad4b2b2c2c6ddd51ce7",
              "version_minor": 0,
              "version_major": 2
            },
            "text/plain": [
              "Downloading:   0%|          | 0.00/15.7k [00:00<?, ?B/s]"
            ]
          },
          "metadata": {}
        },
        {
          "output_type": "display_data",
          "data": {
            "application/vnd.jupyter.widget-view+json": {
              "model_id": "e7683c89a509400cab3c3aea7a0646e3",
              "version_minor": 0,
              "version_major": 2
            },
            "text/plain": [
              "Downloading:   0%|          | 0.00/456k [00:00<?, ?B/s]"
            ]
          },
          "metadata": {}
        },
        {
          "output_type": "display_data",
          "data": {
            "application/vnd.jupyter.widget-view+json": {
              "model_id": "2f1f6a3420e4490daad7bf29e7330687",
              "version_minor": 0,
              "version_major": 2
            },
            "text/plain": [
              "Downloading:   0%|          | 0.00/349 [00:00<?, ?B/s]"
            ]
          },
          "metadata": {}
        },
        {
          "output_type": "display_data",
          "data": {
            "application/vnd.jupyter.widget-view+json": {
              "model_id": "0da312280fb540f7b7871bb4d5178ab9",
              "version_minor": 0,
              "version_major": 2
            },
            "text/plain": [
              "Downloading:   0%|          | 0.00/329M [00:00<?, ?B/s]"
            ]
          },
          "metadata": {}
        },
        {
          "output_type": "display_data",
          "data": {
            "application/vnd.jupyter.widget-view+json": {
              "model_id": "def2e7bb40cb42308558e56dae44aafb",
              "version_minor": 0,
              "version_major": 2
            },
            "text/plain": [
              "Downloading:   0%|          | 0.00/53.0 [00:00<?, ?B/s]"
            ]
          },
          "metadata": {}
        },
        {
          "output_type": "display_data",
          "data": {
            "application/vnd.jupyter.widget-view+json": {
              "model_id": "790a6fbafe9e445ea579f29e13af3493",
              "version_minor": 0,
              "version_major": 2
            },
            "text/plain": [
              "Downloading:   0%|          | 0.00/239 [00:00<?, ?B/s]"
            ]
          },
          "metadata": {}
        },
        {
          "output_type": "display_data",
          "data": {
            "application/vnd.jupyter.widget-view+json": {
              "model_id": "aa8d8f1abada40c28a95992f05c3d490",
              "version_minor": 0,
              "version_major": 2
            },
            "text/plain": [
              "Downloading:   0%|          | 0.00/1.36M [00:00<?, ?B/s]"
            ]
          },
          "metadata": {}
        },
        {
          "output_type": "display_data",
          "data": {
            "application/vnd.jupyter.widget-view+json": {
              "model_id": "778aabbff6b14f348509cc389d0523a0",
              "version_minor": 0,
              "version_major": 2
            },
            "text/plain": [
              "Downloading:   0%|          | 0.00/333 [00:00<?, ?B/s]"
            ]
          },
          "metadata": {}
        },
        {
          "output_type": "display_data",
          "data": {
            "application/vnd.jupyter.widget-view+json": {
              "model_id": "72104bd9543e4e8b93d0fde819d2438b",
              "version_minor": 0,
              "version_major": 2
            },
            "text/plain": [
              "Downloading:   0%|          | 0.00/13.1k [00:00<?, ?B/s]"
            ]
          },
          "metadata": {}
        },
        {
          "output_type": "display_data",
          "data": {
            "application/vnd.jupyter.widget-view+json": {
              "model_id": "442bea69d9af4d89aacda87502dec885",
              "version_minor": 0,
              "version_major": 2
            },
            "text/plain": [
              "Downloading:   0%|          | 0.00/798k [00:00<?, ?B/s]"
            ]
          },
          "metadata": {}
        },
        {
          "output_type": "display_data",
          "data": {
            "application/vnd.jupyter.widget-view+json": {
              "model_id": "c2a771140d3746f3a1549d330205a885",
              "version_minor": 0,
              "version_major": 2
            },
            "text/plain": [
              "Downloading:   0%|          | 0.00/190 [00:00<?, ?B/s]"
            ]
          },
          "metadata": {}
        }
      ],
      "source": [
        "model = SentenceTransformer('all-distilroberta-v1')"
      ],
      "id": "6f848e48"
    },
    {
      "cell_type": "code",
      "execution_count": null,
      "metadata": {
        "id": "ADLB6v9N71Dd"
      },
      "outputs": [],
      "source": [
        "def convert_text_to_examples(texts, labels):\n",
        "    InputExamples = []\n",
        "    for text, label in zip(texts, labels):\n",
        "        InputExamples.append(\n",
        "            InputExample(texts=text,label=label)\n",
        "        )\n",
        "    return InputExamples"
      ],
      "id": "ADLB6v9N71Dd"
    },
    {
      "cell_type": "code",
      "execution_count": null,
      "metadata": {
        "id": "aVPvPBoV71GV"
      },
      "outputs": [],
      "source": [
        "train_examples = convert_text_to_examples(sentences, train_label)"
      ],
      "id": "aVPvPBoV71GV"
    },
    {
      "cell_type": "code",
      "execution_count": null,
      "metadata": {
        "id": "Pm1xb0ld8Okf"
      },
      "outputs": [],
      "source": [
        "from torch.utils.data import DataLoader"
      ],
      "id": "Pm1xb0ld8Okf"
    },
    {
      "cell_type": "code",
      "execution_count": null,
      "metadata": {
        "id": "yhK_DGQO8Oro"
      },
      "outputs": [],
      "source": [
        "train_dataloader = DataLoader(train_examples, shuffle=True, batch_size=16)"
      ],
      "id": "yhK_DGQO8Oro"
    },
    {
      "cell_type": "code",
      "execution_count": null,
      "metadata": {
        "id": "B8owrqeW8SFN"
      },
      "outputs": [],
      "source": [
        "train_loss = losses.CosineSimilarityLoss(model)"
      ],
      "id": "B8owrqeW8SFN"
    },
    {
      "cell_type": "code",
      "execution_count": null,
      "metadata": {
        "colab": {
          "base_uri": "https://localhost:8080/",
          "height": 137,
          "referenced_widgets": [
            "8bd388c87e72414e91f54370d6b66cac",
            "342d0f67066c44e49de38662da82681c",
            "7533969ef9614177aa2504cf119cac77",
            "13c407ff20c0487ea3c8fd56352998e9",
            "803acb58d50a4469950a7a31d677447b",
            "82aedd4dbcaa4327a1f6f63aaca54a77",
            "520fce89914a41aa9a9564eb350544d7",
            "b3c909e9631c4d2a9d1c78d72291be76",
            "4b4902b76fff464196525032545e64bf",
            "3ae875897d6e43abb8f03be4106e1d12",
            "4f12e1fae81940b1a6ac2769c1fc9fa5",
            "ebae4d4301d24aa68c8fb46e2803972b",
            "1ea7b1389aae4f6788229af53ff621bd",
            "1f79aa8bb0504cff9f5768c49ad726dc",
            "65ac492957e44cb4975dc2a87bf9f957",
            "b1b4152648804f68a4f33d66ab8a2cae",
            "1c22c4e373a148e08979c0d321e2e6c8",
            "faa2120c967b4bffb535d1f33a1d8c56",
            "4c00822c28174d6b9d816812e5596201",
            "3088025b16e746558e310ef79e09e378",
            "d57a24ea11c041df8109aa30c887a88b",
            "41237568e72a4670a04c63a2acdf0cd5"
          ]
        },
        "id": "PsdUdnyg8SJE",
        "outputId": "0a2508e3-060c-4df8-c704-b963380e47a4"
      },
      "outputs": [
        {
          "output_type": "stream",
          "name": "stderr",
          "text": [
            "/usr/local/lib/python3.7/dist-packages/transformers/optimization.py:309: FutureWarning: This implementation of AdamW is deprecated and will be removed in a future version. Use thePyTorch implementation torch.optim.AdamW instead, or set `no_deprecation_warning=True` to disable this warning\n",
            "  FutureWarning,\n"
          ]
        },
        {
          "output_type": "display_data",
          "data": {
            "application/vnd.jupyter.widget-view+json": {
              "model_id": "8bd388c87e72414e91f54370d6b66cac",
              "version_minor": 0,
              "version_major": 2
            },
            "text/plain": [
              "Epoch:   0%|          | 0/1 [00:00<?, ?it/s]"
            ]
          },
          "metadata": {}
        },
        {
          "output_type": "display_data",
          "data": {
            "application/vnd.jupyter.widget-view+json": {
              "model_id": "ebae4d4301d24aa68c8fb46e2803972b",
              "version_minor": 0,
              "version_major": 2
            },
            "text/plain": [
              "Iteration:   0%|          | 0/1 [00:00<?, ?it/s]"
            ]
          },
          "metadata": {}
        }
      ],
      "source": [
        "model.fit(train_objectives=[(train_dataloader, train_loss)], epochs=1, warmup_steps=100)"
      ],
      "id": "PsdUdnyg8SJE"
    },
    {
      "cell_type": "markdown",
      "source": [
        "# Шаг 2"
      ],
      "metadata": {
        "id": "-E5wc2V6FNXZ"
      },
      "id": "-E5wc2V6FNXZ"
    },
    {
      "cell_type": "markdown",
      "source": [
        "Загружаем текстовые данные и нужные нам наборы ключевых слов."
      ],
      "metadata": {
        "id": "Eu8d-dBtFPck"
      },
      "id": "Eu8d-dBtFPck"
    },
    {
      "cell_type": "code",
      "execution_count": null,
      "metadata": {
        "colab": {
          "base_uri": "https://localhost:8080/"
        },
        "id": "WQqJS6VaRXrU",
        "outputId": "71557970-4266-4cdd-b1dc-6b5d9bffb47e"
      },
      "outputs": [
        {
          "output_type": "stream",
          "name": "stdout",
          "text": [
            "Collecting faiss-gpu\n",
            "  Downloading faiss_gpu-1.7.2-cp37-cp37m-manylinux_2_17_x86_64.manylinux2014_x86_64.whl (85.5 MB)\n",
            "\u001b[K     |████████████████████████████████| 85.5 MB 100 kB/s \n",
            "\u001b[?25hInstalling collected packages: faiss-gpu\n",
            "Successfully installed faiss-gpu-1.7.2\n"
          ]
        }
      ],
      "source": [
        "!pip install faiss-gpu"
      ],
      "id": "WQqJS6VaRXrU"
    },
    {
      "cell_type": "code",
      "execution_count": null,
      "metadata": {
        "id": "534c33f1"
      },
      "outputs": [],
      "source": [
        "from sentence_transformers import SentenceTransformer, util\n",
        "import os\n",
        "import csv\n",
        "import pickle\n",
        "import time\n",
        "import faiss\n",
        "import numpy as np"
      ],
      "id": "534c33f1"
    },
    {
      "cell_type": "code",
      "execution_count": null,
      "metadata": {
        "colab": {
          "base_uri": "https://localhost:8080/"
        },
        "id": "cQYxph3uSOSr",
        "outputId": "e21a9ec7-0ea1-48fe-c45b-02943bbf39f2"
      },
      "outputs": [
        {
          "output_type": "stream",
          "name": "stdout",
          "text": [
            "Downloading...\n",
            "From: https://drive.google.com/uc?id=1bxJ4f2zzxm92nRBldQA2g-SEdjj_vs7o\n",
            "To: /content/genes_covid.zip\n",
            "100% 283M/283M [00:03<00:00, 81.2MB/s]\n"
          ]
        }
      ],
      "source": [
        "!gdown --id 1bxJ4f2zzxm92nRBldQA2g-SEdjj_vs7o"
      ],
      "id": "cQYxph3uSOSr"
    },
    {
      "cell_type": "code",
      "source": [
        "!unzip /content/genes_covid.zip"
      ],
      "metadata": {
        "colab": {
          "base_uri": "https://localhost:8080/"
        },
        "id": "HkSu-Kxz3r6i",
        "outputId": "c75d28d0-edc3-4306-ce42-53a0489c8f6c"
      },
      "id": "HkSu-Kxz3r6i",
      "execution_count": null,
      "outputs": [
        {
          "output_type": "stream",
          "name": "stdout",
          "text": [
            "Archive:  /content/genes_covid.zip\n",
            "  inflating: genes_covid.txt         \n"
          ]
        }
      ]
    },
    {
      "cell_type": "code",
      "execution_count": null,
      "metadata": {
        "id": "50f0f4d8"
      },
      "outputs": [],
      "source": [
        "with open('genes_covid.txt') as f:\n",
        "    data = f.read().lower().splitlines()"
      ],
      "id": "50f0f4d8"
    },
    {
      "cell_type": "code",
      "source": [
        "import random"
      ],
      "metadata": {
        "id": "Pghe62QM5pyU"
      },
      "id": "Pghe62QM5pyU",
      "execution_count": null,
      "outputs": []
    },
    {
      "cell_type": "code",
      "source": [
        "SEED = 123"
      ],
      "metadata": {
        "id": "RJ3Hp8gN6UYr"
      },
      "id": "RJ3Hp8gN6UYr",
      "execution_count": null,
      "outputs": []
    },
    {
      "cell_type": "code",
      "source": [
        "random.seed(SEED)"
      ],
      "metadata": {
        "id": "VneSEZfd6UiV"
      },
      "id": "VneSEZfd6UiV",
      "execution_count": null,
      "outputs": []
    },
    {
      "cell_type": "code",
      "source": [
        "data = random.sample(data, 100000)"
      ],
      "metadata": {
        "id": "AiulpJJ95p7H"
      },
      "id": "AiulpJJ95p7H",
      "execution_count": null,
      "outputs": []
    },
    {
      "cell_type": "code",
      "execution_count": null,
      "metadata": {
        "colab": {
          "base_uri": "https://localhost:8080/"
        },
        "id": "e77cb84f",
        "outputId": "6c47515c-9db4-4749-b88f-86b8086af6b8"
      },
      "outputs": [
        {
          "output_type": "execute_result",
          "data": {
            "text/plain": [
              "100000"
            ]
          },
          "metadata": {},
          "execution_count": 28
        }
      ],
      "source": [
        "len(data)"
      ],
      "id": "e77cb84f"
    },
    {
      "cell_type": "code",
      "execution_count": null,
      "metadata": {
        "id": "91c36ba0"
      },
      "outputs": [],
      "source": [
        "import pandas as pd"
      ],
      "id": "91c36ba0"
    },
    {
      "cell_type": "code",
      "execution_count": null,
      "metadata": {
        "id": "YZPkKDutS8ow",
        "colab": {
          "base_uri": "https://localhost:8080/"
        },
        "outputId": "4ea9fc1e-8a47-4e02-e474-83f0cadcf402"
      },
      "outputs": [
        {
          "output_type": "stream",
          "name": "stdout",
          "text": [
            "Downloading...\n",
            "From: https://drive.google.com/uc?id=1y9d1tRZAf9bXlNhf7NJxV0glHT0hB4_S\n",
            "To: /content/genes_human_58347_used_in_sciPlex2_brief_info_by_mygene_package.csv\n",
            "100% 18.7M/18.7M [00:00<00:00, 32.1MB/s]\n"
          ]
        }
      ],
      "source": [
        "!gdown --id 1y9d1tRZAf9bXlNhf7NJxV0glHT0hB4_S"
      ],
      "id": "YZPkKDutS8ow"
    },
    {
      "cell_type": "code",
      "execution_count": null,
      "metadata": {
        "id": "66be5049"
      },
      "outputs": [],
      "source": [
        "df_genes = pd.read_csv('genes_human_58347_used_in_sciPlex2_brief_info_by_mygene_package.csv')"
      ],
      "id": "66be5049"
    },
    {
      "cell_type": "code",
      "execution_count": null,
      "metadata": {
        "id": "aySuWgGkztPp"
      },
      "outputs": [],
      "source": [
        "df_genes['symbol'] = df_genes['symbol'].dropna()"
      ],
      "id": "aySuWgGkztPp"
    },
    {
      "cell_type": "code",
      "source": [
        "df_genes_sort = df_genes.sort_values(by=['count pubmed'], ascending=False)"
      ],
      "metadata": {
        "id": "c4OMxM3iOYhs"
      },
      "id": "c4OMxM3iOYhs",
      "execution_count": null,
      "outputs": []
    },
    {
      "cell_type": "code",
      "execution_count": null,
      "metadata": {
        "id": "xBMbVPRJTNEc"
      },
      "outputs": [],
      "source": [
        "words_1 = list(df_genes_sort['symbol'].str.lower().unique())"
      ],
      "id": "xBMbVPRJTNEc"
    },
    {
      "cell_type": "code",
      "source": [
        "words_1 = words_1[:5000]"
      ],
      "metadata": {
        "id": "1Ja02ieoOneY"
      },
      "id": "1Ja02ieoOneY",
      "execution_count": null,
      "outputs": []
    },
    {
      "cell_type": "code",
      "source": [
        "len(words_1)"
      ],
      "metadata": {
        "colab": {
          "base_uri": "https://localhost:8080/"
        },
        "id": "ywtx82UfCPhd",
        "outputId": "29a790a8-4d31-40e2-e86b-c4f8a8bd9b92"
      },
      "id": "ywtx82UfCPhd",
      "execution_count": null,
      "outputs": [
        {
          "output_type": "execute_result",
          "data": {
            "text/plain": [
              "5000"
            ]
          },
          "metadata": {},
          "execution_count": 36
        }
      ]
    },
    {
      "cell_type": "code",
      "source": [
        "target_words = [\n",
        "           \n",
        "'SLC6A20',\n",
        "'LZTFL1',\n",
        "'CCR9',\n",
        "'FYCO1',\n",
        "'CXCR6',\n",
        "'XCR1',\n",
        "'ABO',\n",
        "'IFNAR2',\n",
        "'OAS3',\n",
        "'OAS1',\n",
        "'DPP9',\n",
        "'ICAM5',\n",
        "'TYK2',\n",
        "'HLA-G',\n",
        "'CCHCR1',\n",
        "'HLA-DPB1',\n",
        "'ACE2',\n",
        "'MUC5B',\n",
        "'FOXP4'\n",
        "\n",
        "]"
      ],
      "metadata": {
        "id": "05fJ1z1_Bwer"
      },
      "id": "05fJ1z1_Bwer",
      "execution_count": null,
      "outputs": []
    },
    {
      "cell_type": "code",
      "source": [
        "target_words = [x.lower() for x in target_words]"
      ],
      "metadata": {
        "id": "jgZvVTmBCJkF"
      },
      "id": "jgZvVTmBCJkF",
      "execution_count": null,
      "outputs": []
    },
    {
      "cell_type": "code",
      "execution_count": null,
      "metadata": {
        "colab": {
          "base_uri": "https://localhost:8080/"
        },
        "id": "D5Q9x3SJbO_r",
        "outputId": "6fe426a8-3b48-4875-e24e-204fe67781f5"
      },
      "outputs": [
        {
          "output_type": "stream",
          "name": "stdout",
          "text": [
            "Downloading...\n",
            "From: https://drive.google.com/uc?id=1-ieKGEsRMNze5GYkAenASEeW2IDe0-XM\n",
            "To: /content/medicines.csv\n",
            "\r  0% 0.00/3.74k [00:00<?, ?B/s]\r100% 3.74k/3.74k [00:00<00:00, 6.31MB/s]\n"
          ]
        }
      ],
      "source": [
        "!gdown --id 1-ieKGEsRMNze5GYkAenASEeW2IDe0-XM"
      ],
      "id": "D5Q9x3SJbO_r"
    },
    {
      "cell_type": "code",
      "execution_count": null,
      "metadata": {
        "id": "N8V9cbrwbPJI"
      },
      "outputs": [],
      "source": [
        "df_med = pd.read_csv('medicines.csv')"
      ],
      "id": "N8V9cbrwbPJI"
    },
    {
      "cell_type": "code",
      "execution_count": null,
      "metadata": {
        "id": "HI7vtshxbPSM"
      },
      "outputs": [],
      "source": [
        "df_med['Generic Name'] = df_med['Generic Name'].dropna()"
      ],
      "id": "HI7vtshxbPSM"
    },
    {
      "cell_type": "code",
      "execution_count": null,
      "metadata": {
        "id": "JJ3qS2Gcb13O"
      },
      "outputs": [],
      "source": [
        "words_2 = list(df_med['Generic Name'].str.lower().unique())"
      ],
      "id": "JJ3qS2Gcb13O"
    },
    {
      "cell_type": "code",
      "execution_count": null,
      "metadata": {
        "colab": {
          "base_uri": "https://localhost:8080/"
        },
        "id": "80Wro-JmwpfJ",
        "outputId": "f675b507-2412-41d9-df9e-f5eeefd447fa"
      },
      "outputs": [
        {
          "output_type": "stream",
          "name": "stdout",
          "text": [
            "Downloading...\n",
            "From: https://drive.google.com/uc?id=1igFyXIlh0RRruchgkDMrhIyT7rVBOgPW\n",
            "To: /content/dia_t.csv\n",
            "\r  0% 0.00/52.9k [00:00<?, ?B/s]\r100% 52.9k/52.9k [00:00<00:00, 51.3MB/s]\n"
          ]
        }
      ],
      "source": [
        "!gdown --id 1igFyXIlh0RRruchgkDMrhIyT7rVBOgPW"
      ],
      "id": "80Wro-JmwpfJ"
    },
    {
      "cell_type": "code",
      "execution_count": null,
      "metadata": {
        "id": "Yj1VJhPJwpnx"
      },
      "outputs": [],
      "source": [
        "df_dis = pd.read_csv('dia_t.csv')"
      ],
      "id": "Yj1VJhPJwpnx"
    },
    {
      "cell_type": "code",
      "execution_count": null,
      "metadata": {
        "id": "hQLy8VTtwp2f"
      },
      "outputs": [],
      "source": [
        "df_dis['diagnose'] = df_dis['diagnose'].dropna()"
      ],
      "id": "hQLy8VTtwp2f"
    },
    {
      "cell_type": "code",
      "execution_count": null,
      "metadata": {
        "id": "vNO3Ic8xxrrU"
      },
      "outputs": [],
      "source": [
        "words_3 = list(df_dis['diagnose'].str.lower().unique())"
      ],
      "id": "vNO3Ic8xxrrU"
    },
    {
      "cell_type": "code",
      "source": [
        "len(words_3)"
      ],
      "metadata": {
        "colab": {
          "base_uri": "https://localhost:8080/"
        },
        "id": "miC-h3K9VSCV",
        "outputId": "00cb42af-50ee-4047-e81c-c1202bd6aac5"
      },
      "id": "miC-h3K9VSCV",
      "execution_count": null,
      "outputs": [
        {
          "output_type": "execute_result",
          "data": {
            "text/plain": [
              "1166"
            ]
          },
          "metadata": {},
          "execution_count": 47
        }
      ]
    },
    {
      "cell_type": "code",
      "execution_count": null,
      "metadata": {
        "colab": {
          "base_uri": "https://localhost:8080/"
        },
        "id": "pJ13XcsFdHUb",
        "outputId": "0bc79c8f-14bd-4666-a53d-dfb165ac788b"
      },
      "outputs": [
        {
          "output_type": "stream",
          "name": "stdout",
          "text": [
            "Downloading...\n",
            "From: https://drive.google.com/uc?id=1gz7d6NvMqrVn6YilWoo1E3vL5n3ZLwwK\n",
            "To: /content/cells.csv\n",
            "\r  0% 0.00/8.81k [00:00<?, ?B/s]\r100% 8.81k/8.81k [00:00<00:00, 12.4MB/s]\n"
          ]
        }
      ],
      "source": [
        "!gdown --id 1gz7d6NvMqrVn6YilWoo1E3vL5n3ZLwwK"
      ],
      "id": "pJ13XcsFdHUb"
    },
    {
      "cell_type": "code",
      "execution_count": null,
      "metadata": {
        "id": "Wi1_AXZ-dHdE"
      },
      "outputs": [],
      "source": [
        "df_cells = pd.read_csv('cells.csv')"
      ],
      "id": "Wi1_AXZ-dHdE"
    },
    {
      "cell_type": "code",
      "execution_count": null,
      "metadata": {
        "id": "L5rZasBmdHj4"
      },
      "outputs": [],
      "source": [
        "df_cells['name'] = df_cells['name'].dropna()"
      ],
      "id": "L5rZasBmdHj4"
    },
    {
      "cell_type": "code",
      "execution_count": null,
      "metadata": {
        "id": "GtO1A4nldHrM"
      },
      "outputs": [],
      "source": [
        "words_4 = list(df_cells['name'].str.lower().unique())"
      ],
      "id": "GtO1A4nldHrM"
    },
    {
      "cell_type": "code",
      "source": [
        "len(words_4)"
      ],
      "metadata": {
        "colab": {
          "base_uri": "https://localhost:8080/"
        },
        "id": "nlY1V_c5VZAq",
        "outputId": "adcd792c-9be5-4da5-86be-01c30d71cbbd"
      },
      "id": "nlY1V_c5VZAq",
      "execution_count": null,
      "outputs": [
        {
          "output_type": "execute_result",
          "data": {
            "text/plain": [
              "397"
            ]
          },
          "metadata": {},
          "execution_count": 52
        }
      ]
    },
    {
      "cell_type": "code",
      "source": [
        "!gdown --id 1KzyCFlIVqFzqnq7mehmSPYIVobFfDIEw"
      ],
      "metadata": {
        "colab": {
          "base_uri": "https://localhost:8080/"
        },
        "id": "Kk5mTeNhgz5w",
        "outputId": "0c01b876-9c04-4387-b181-e0954753137d"
      },
      "id": "Kk5mTeNhgz5w",
      "execution_count": null,
      "outputs": [
        {
          "output_type": "stream",
          "name": "stdout",
          "text": [
            "Downloading...\n",
            "From: https://drive.google.com/uc?id=1KzyCFlIVqFzqnq7mehmSPYIVobFfDIEw\n",
            "To: /content/symptoms.csv\n",
            "\r  0% 0.00/4.50k [00:00<?, ?B/s]\r100% 4.50k/4.50k [00:00<00:00, 6.49MB/s]\n"
          ]
        }
      ]
    },
    {
      "cell_type": "code",
      "source": [
        "df_symptoms = pd.read_csv('symptoms.csv')"
      ],
      "metadata": {
        "id": "OL8BlJn-g0A_"
      },
      "id": "OL8BlJn-g0A_",
      "execution_count": null,
      "outputs": []
    },
    {
      "cell_type": "code",
      "source": [
        "df_symptoms['symptom'] = df_symptoms['symptom'].dropna()"
      ],
      "metadata": {
        "id": "XGbQykFNg0HY"
      },
      "id": "XGbQykFNg0HY",
      "execution_count": null,
      "outputs": []
    },
    {
      "cell_type": "code",
      "source": [
        "words_5 = list(df_symptoms['symptom'].str.lower().unique())"
      ],
      "metadata": {
        "id": "ndsG59-tg0PH"
      },
      "id": "ndsG59-tg0PH",
      "execution_count": null,
      "outputs": []
    },
    {
      "cell_type": "code",
      "source": [
        "!gdown --id 122IDn2U73I6GTAzUDmMk-Yq7Sx709Yd3"
      ],
      "metadata": {
        "colab": {
          "base_uri": "https://localhost:8080/"
        },
        "id": "MayBmcrcEMDH",
        "outputId": "ccb381d7-6d63-4bac-edd7-a8bfe55cfdfe"
      },
      "id": "MayBmcrcEMDH",
      "execution_count": null,
      "outputs": [
        {
          "output_type": "stream",
          "name": "stdout",
          "text": [
            "Downloading...\n",
            "From: https://drive.google.com/uc?id=122IDn2U73I6GTAzUDmMk-Yq7Sx709Yd3\n",
            "To: /content/biomolecules.csv\n",
            "\r  0% 0.00/7.08k [00:00<?, ?B/s]\r100% 7.08k/7.08k [00:00<00:00, 11.3MB/s]\n"
          ]
        }
      ]
    },
    {
      "cell_type": "code",
      "source": [
        "df_biomol = pd.read_csv('biomolecules.csv')"
      ],
      "metadata": {
        "id": "yzW-Z4eqEMLR"
      },
      "id": "yzW-Z4eqEMLR",
      "execution_count": null,
      "outputs": []
    },
    {
      "cell_type": "code",
      "source": [
        "df_biomol['name'] = df_biomol['name'].dropna()"
      ],
      "metadata": {
        "id": "0uar2vKtEMSc"
      },
      "id": "0uar2vKtEMSc",
      "execution_count": null,
      "outputs": []
    },
    {
      "cell_type": "code",
      "source": [
        "words_6 = list(df_biomol['name'].str.lower().unique())"
      ],
      "metadata": {
        "id": "GOA4E28EEMZ8"
      },
      "id": "GOA4E28EEMZ8",
      "execution_count": null,
      "outputs": []
    },
    {
      "cell_type": "code",
      "source": [
        "!gdown --id 1NOUc3vFC8QKE_MNJ1R68NmO1omJE0Aku"
      ],
      "metadata": {
        "colab": {
          "base_uri": "https://localhost:8080/"
        },
        "id": "oPa-zsO3VtPg",
        "outputId": "e548e46d-ec4e-48db-c48b-5a0e7033d54d"
      },
      "id": "oPa-zsO3VtPg",
      "execution_count": null,
      "outputs": [
        {
          "output_type": "stream",
          "name": "stdout",
          "text": [
            "Downloading...\n",
            "From: https://drive.google.com/uc?id=1NOUc3vFC8QKE_MNJ1R68NmO1omJE0Aku\n",
            "To: /content/viruses.csv\n",
            "\r  0% 0.00/39.7k [00:00<?, ?B/s]\r100% 39.7k/39.7k [00:00<00:00, 49.8MB/s]\n"
          ]
        }
      ]
    },
    {
      "cell_type": "code",
      "source": [
        "df_viruses = pd.read_csv('viruses.csv')"
      ],
      "metadata": {
        "id": "2H7uhefPVtTn"
      },
      "id": "2H7uhefPVtTn",
      "execution_count": null,
      "outputs": []
    },
    {
      "cell_type": "code",
      "source": [
        "df_viruses['name'] = df_viruses['name'].dropna()"
      ],
      "metadata": {
        "id": "vC8AhkbMVtXY"
      },
      "id": "vC8AhkbMVtXY",
      "execution_count": null,
      "outputs": []
    },
    {
      "cell_type": "code",
      "source": [
        "words_7 = list(df_viruses['name'].str.lower().unique())"
      ],
      "metadata": {
        "id": "_fuvxMTlVtd3"
      },
      "id": "_fuvxMTlVtd3",
      "execution_count": null,
      "outputs": []
    },
    {
      "cell_type": "code",
      "source": [
        "words = words_1 + words_2 + words_3 + words_4 + words_5 + words_6 + words_7"
      ],
      "metadata": {
        "id": "WUNnbSCWEmlB"
      },
      "id": "WUNnbSCWEmlB",
      "execution_count": null,
      "outputs": []
    },
    {
      "cell_type": "code",
      "execution_count": null,
      "metadata": {
        "colab": {
          "base_uri": "https://localhost:8080/"
        },
        "id": "J40ZUIAvb1-M",
        "outputId": "5fe3520f-4840-4118-a506-ef634a101b1e"
      },
      "outputs": [
        {
          "output_type": "execute_result",
          "data": {
            "text/plain": [
              "9480"
            ]
          },
          "metadata": {},
          "execution_count": 66
        }
      ],
      "source": [
        "len(words)"
      ],
      "id": "J40ZUIAvb1-M"
    },
    {
      "cell_type": "markdown",
      "source": [
        "# Шаг 3"
      ],
      "metadata": {
        "id": "uOu-_ZlwFhxk"
      },
      "id": "uOu-_ZlwFhxk"
    },
    {
      "cell_type": "markdown",
      "source": [
        "Получаем эмбеддинги и основанный на них индекс, который будем использовать для определения сходства предложений."
      ],
      "metadata": {
        "id": "qg2QHDTPFmSZ"
      },
      "id": "qg2QHDTPFmSZ"
    },
    {
      "cell_type": "code",
      "execution_count": null,
      "metadata": {
        "colab": {
          "base_uri": "https://localhost:8080/",
          "height": 49,
          "referenced_widgets": [
            "114ba47bca874a0e94e9962023ff31ad",
            "c7adc758e2bb482e8b5997bc7bd506f4",
            "191529e71f45441593e7a7189507c7a8",
            "c93c731b29274499ac286161cadc7913",
            "8d6a4b898d4a4a79a2c5146c16e7b329",
            "aedb92be62054dd39bfe78ea27bfe1c3",
            "65d60cb0b61446e4ac9fab6d0844bd7f",
            "02bc5330a09541e2a6073573c59139b1",
            "0336e09b7eb0419b8e359850d5fdbb39",
            "44add614855048ce904c8c1654b7ecee",
            "5986db3147aa4a27b48615f6139bd02b"
          ]
        },
        "id": "3c5490c2",
        "outputId": "89dd80ba-cace-4d53-aca4-f3eb93b9ff04"
      },
      "outputs": [
        {
          "output_type": "display_data",
          "data": {
            "application/vnd.jupyter.widget-view+json": {
              "model_id": "114ba47bca874a0e94e9962023ff31ad",
              "version_minor": 0,
              "version_major": 2
            },
            "text/plain": [
              "Batches:   0%|          | 0/3125 [00:00<?, ?it/s]"
            ]
          },
          "metadata": {}
        }
      ],
      "source": [
        "corpus_embeddings = model.encode(data, show_progress_bar=True)"
      ],
      "id": "3c5490c2"
    },
    {
      "cell_type": "code",
      "execution_count": null,
      "metadata": {
        "id": "5363299a"
      },
      "outputs": [],
      "source": [
        "faiss.normalize_L2(corpus_embeddings)"
      ],
      "id": "5363299a"
    },
    {
      "cell_type": "code",
      "execution_count": null,
      "metadata": {
        "id": "99acb51c"
      },
      "outputs": [],
      "source": [
        "d = corpus_embeddings.shape[1]\n",
        "\n",
        "# у этой версии индекса неточный результат, но зато быстро работает на больших данных\n",
        "\n",
        "nlist = 50\n",
        "m = 8  \n",
        "bits = 8 \n",
        "\n",
        "quantizer = faiss.IndexFlatIP(d)  \n",
        "index = faiss.IndexIVFPQ(quantizer, d, nlist, m, bits) "
      ],
      "id": "99acb51c"
    },
    {
      "cell_type": "code",
      "execution_count": null,
      "metadata": {
        "id": "UPhAKb2XPnRS"
      },
      "outputs": [],
      "source": [
        "#index = faiss.IndexFlatL2(d)"
      ],
      "id": "UPhAKb2XPnRS"
    },
    {
      "cell_type": "code",
      "execution_count": null,
      "metadata": {
        "colab": {
          "base_uri": "https://localhost:8080/"
        },
        "id": "be90fa71",
        "outputId": "c948b1b2-9847-4c21-bec3-2ef9fa0da176"
      },
      "outputs": [
        {
          "output_type": "execute_result",
          "data": {
            "text/plain": [
              "False"
            ]
          },
          "metadata": {},
          "execution_count": 71
        }
      ],
      "source": [
        "index.is_trained"
      ],
      "id": "be90fa71"
    },
    {
      "cell_type": "code",
      "execution_count": null,
      "metadata": {
        "id": "6a849652"
      },
      "outputs": [],
      "source": [
        "index.train(corpus_embeddings)"
      ],
      "id": "6a849652"
    },
    {
      "cell_type": "code",
      "execution_count": null,
      "metadata": {
        "id": "8c6ab076"
      },
      "outputs": [],
      "source": [
        "index.add(corpus_embeddings)"
      ],
      "id": "8c6ab076"
    },
    {
      "cell_type": "code",
      "execution_count": null,
      "metadata": {
        "colab": {
          "base_uri": "https://localhost:8080/"
        },
        "id": "32dd997e",
        "outputId": "a603b532-6a00-4d4f-a173-c2379a3234c1"
      },
      "outputs": [
        {
          "output_type": "execute_result",
          "data": {
            "text/plain": [
              "100000"
            ]
          },
          "metadata": {},
          "execution_count": 74
        }
      ],
      "source": [
        "index.ntotal"
      ],
      "id": "32dd997e"
    },
    {
      "cell_type": "code",
      "execution_count": null,
      "metadata": {
        "id": "6309e731"
      },
      "outputs": [],
      "source": [
        "def search(query):\n",
        "    query_vector = model.encode([query])\n",
        "    faiss.normalize_L2(query_vector)\n",
        "    k = 30\n",
        "    similarities, similarities_ids = index.search(query_vector.astype(np.float32), k)\n",
        "    similarities = np.around(np.clip(similarities, 0, 1), decimals=4)\n",
        "    highest_val_idx = np.argmax([sum(sim_vec) for sim_vec in similarities])\n",
        "    l1 = [data[_id] for _id in similarities_ids.tolist()[0]]\n",
        "    l2 = similarities[highest_val_idx].tolist()\n",
        "    return list(zip(l1,l2))"
      ],
      "id": "6309e731"
    },
    {
      "cell_type": "code",
      "execution_count": null,
      "metadata": {
        "id": "70b37017"
      },
      "outputs": [],
      "source": [
        "from tqdm import tqdm"
      ],
      "id": "70b37017"
    },
    {
      "cell_type": "code",
      "execution_count": null,
      "metadata": {
        "colab": {
          "base_uri": "https://localhost:8080/"
        },
        "id": "8b20d291",
        "outputId": "fd7742dd-41d9-463c-8ba7-7f4e9f762b48"
      },
      "outputs": [
        {
          "output_type": "stream",
          "name": "stderr",
          "text": [
            "100%|██████████| 100000/100000 [23:09<00:00, 71.98it/s]\n"
          ]
        }
      ],
      "source": [
        "edgelist = []\n",
        "for word in tqdm(data):\n",
        "    edges = []\n",
        "    for s, w in search(word):\n",
        "        edges.extend((word, s, w))\n",
        "    edgelist.append(edges)"
      ],
      "id": "8b20d291"
    },
    {
      "cell_type": "markdown",
      "source": [
        "# Шаг 4"
      ],
      "metadata": {
        "id": "XWhhxZFSF8Im"
      },
      "id": "XWhhxZFSF8Im"
    },
    {
      "cell_type": "markdown",
      "source": [
        "Извлекаем из предложений нужные нам сущности"
      ],
      "metadata": {
        "id": "etx0iqveF-hL"
      },
      "id": "etx0iqveF-hL"
    },
    {
      "cell_type": "code",
      "execution_count": null,
      "metadata": {
        "id": "4750b1d2"
      },
      "outputs": [],
      "source": [
        "flat_edgelist = [item for sublist in edgelist for item in sublist]"
      ],
      "id": "4750b1d2"
    },
    {
      "cell_type": "code",
      "execution_count": null,
      "metadata": {
        "id": "c4316c7c"
      },
      "outputs": [],
      "source": [
        "edgelist_3 = [list(flat_edgelist[i:i+3]) for i in range(0, len(flat_edgelist), 3)]"
      ],
      "id": "c4316c7c"
    },
    {
      "cell_type": "code",
      "execution_count": null,
      "metadata": {
        "colab": {
          "base_uri": "https://localhost:8080/"
        },
        "id": "44a2a95e",
        "outputId": "cc00b642-507e-4812-934e-e9600e43da8c"
      },
      "outputs": [
        {
          "output_type": "execute_result",
          "data": {
            "text/plain": [
              "3000000"
            ]
          },
          "metadata": {},
          "execution_count": 80
        }
      ],
      "source": [
        "len(edgelist_3)"
      ],
      "id": "44a2a95e"
    },
    {
      "cell_type": "code",
      "execution_count": null,
      "metadata": {
        "id": "dDEwjBXKWhen"
      },
      "outputs": [],
      "source": [
        "import re"
      ],
      "id": "dDEwjBXKWhen"
    },
    {
      "cell_type": "code",
      "execution_count": null,
      "metadata": {
        "id": "1lWqCWd6Whi9"
      },
      "outputs": [],
      "source": [
        "pattern = re.compile(r'\\b({})\\b'.format(\n",
        "    '|'.join([re.escape(word) for word in words]))\n",
        ")"
      ],
      "id": "1lWqCWd6Whi9"
    },
    {
      "cell_type": "code",
      "execution_count": null,
      "metadata": {
        "id": "hVv91hDIWpdb",
        "colab": {
          "base_uri": "https://localhost:8080/"
        },
        "outputId": "de1703b0-cf2f-4924-a5fd-e1ace9344412"
      },
      "outputs": [
        {
          "output_type": "stream",
          "name": "stdout",
          "text": [
            "CPU times: user 34min 16s, sys: 8.4 s, total: 34min 24s\n",
            "Wall time: 34min 21s\n"
          ]
        }
      ],
      "source": [
        "%%time\n",
        "\n",
        "lst2 = [num for num in edgelist_3 if re.match(pattern, num[0]) and re.match(pattern, num[1])]"
      ],
      "id": "hVv91hDIWpdb"
    },
    {
      "cell_type": "code",
      "execution_count": null,
      "metadata": {
        "colab": {
          "base_uri": "https://localhost:8080/"
        },
        "id": "aAe5fUI-WphG",
        "outputId": "b0ee07fc-0408-4dd5-ee0e-8fccd61b66ba"
      },
      "outputs": [
        {
          "output_type": "execute_result",
          "data": {
            "text/plain": [
              "15147"
            ]
          },
          "metadata": {},
          "execution_count": 84
        }
      ],
      "source": [
        "len(lst2)"
      ],
      "id": "aAe5fUI-WphG"
    },
    {
      "cell_type": "code",
      "execution_count": null,
      "metadata": {
        "id": "UjitBc-LWpkf"
      },
      "outputs": [],
      "source": [
        "lst3 = [[pattern.findall(i), pattern.findall(j), k] for i,j,k in lst2]"
      ],
      "id": "UjitBc-LWpkf"
    },
    {
      "cell_type": "code",
      "execution_count": null,
      "metadata": {
        "id": "IT1maMgjWpnP"
      },
      "outputs": [],
      "source": [
        "import itertools"
      ],
      "id": "IT1maMgjWpnP"
    },
    {
      "cell_type": "code",
      "execution_count": null,
      "metadata": {
        "id": "AhRz02EDWhmv"
      },
      "outputs": [],
      "source": [
        "lst4 = [list(itertools.product(a, b, [c])) for a, b, c in lst3]"
      ],
      "id": "AhRz02EDWhmv"
    },
    {
      "cell_type": "code",
      "execution_count": null,
      "metadata": {
        "id": "EHyhpk8pWhsj"
      },
      "outputs": [],
      "source": [
        "flat_edgelist_2 = [item for sublist in lst4 for item in sublist]"
      ],
      "id": "EHyhpk8pWhsj"
    },
    {
      "cell_type": "code",
      "execution_count": null,
      "metadata": {
        "colab": {
          "base_uri": "https://localhost:8080/"
        },
        "id": "EYi1RIA7W0MN",
        "outputId": "2da73661-3865-4dd6-af0b-43e7568b5d90"
      },
      "outputs": [
        {
          "output_type": "execute_result",
          "data": {
            "text/plain": [
              "126240"
            ]
          },
          "metadata": {},
          "execution_count": 89
        }
      ],
      "source": [
        "len(flat_edgelist_2)"
      ],
      "id": "EYi1RIA7W0MN"
    },
    {
      "cell_type": "code",
      "execution_count": null,
      "metadata": {
        "id": "a3ec3ca0"
      },
      "outputs": [],
      "source": [
        "edgelist_3_filtered = [x for x in flat_edgelist_2 if x[0] != x[1]]"
      ],
      "id": "a3ec3ca0"
    },
    {
      "cell_type": "code",
      "execution_count": null,
      "metadata": {
        "colab": {
          "base_uri": "https://localhost:8080/"
        },
        "id": "ad545921",
        "outputId": "82a5cfce-6ec8-4b11-af10-4930a28cecf0"
      },
      "outputs": [
        {
          "output_type": "execute_result",
          "data": {
            "text/plain": [
              "102767"
            ]
          },
          "metadata": {},
          "execution_count": 91
        }
      ],
      "source": [
        "len(edgelist_3_filtered)"
      ],
      "id": "ad545921"
    },
    {
      "cell_type": "markdown",
      "source": [
        "# Шаг 5"
      ],
      "metadata": {
        "id": "uJuzS9qQGFvc"
      },
      "id": "uJuzS9qQGFvc"
    },
    {
      "cell_type": "markdown",
      "source": [
        "Путем суммирования весов ребер строим из найденных пар сущностей граф и применяем к данным алгоритмы определения мер центральностей и обнаружения сообществ."
      ],
      "metadata": {
        "id": "HVKNv74MGLWz"
      },
      "id": "HVKNv74MGLWz"
    },
    {
      "cell_type": "code",
      "execution_count": null,
      "metadata": {
        "id": "8e3a2357"
      },
      "outputs": [],
      "source": [
        "import networkx as nx"
      ],
      "id": "8e3a2357"
    },
    {
      "cell_type": "code",
      "execution_count": null,
      "metadata": {
        "id": "I6J88-McDAiE"
      },
      "outputs": [],
      "source": [
        "M = nx.MultiGraph()\n",
        "\n",
        "M.add_weighted_edges_from(edgelist_3_filtered)"
      ],
      "id": "I6J88-McDAiE"
    },
    {
      "cell_type": "code",
      "execution_count": null,
      "metadata": {
        "id": "0QLR_v_YFKpJ"
      },
      "outputs": [],
      "source": [
        "G = nx.Graph()\n",
        "for u,v,data in M.edges(data=True):\n",
        "    w = data['weight'] if 'weight' in data else 1.0\n",
        "    if G.has_edge(u,v):\n",
        "        G[u][v]['weight'] += w\n",
        "    else:\n",
        "        G.add_edge(u, v, weight=w)"
      ],
      "id": "0QLR_v_YFKpJ"
    },
    {
      "cell_type": "code",
      "execution_count": null,
      "metadata": {
        "id": "5Bn0LsovtJpn"
      },
      "outputs": [],
      "source": [
        "#to_remove = [(a,b) for a, b, attrs in G.edges(data=True) if 0.8 >= attrs[\"weight\"]]\n",
        "#G.remove_edges_from(to_remove)"
      ],
      "id": "5Bn0LsovtJpn"
    },
    {
      "cell_type": "code",
      "execution_count": null,
      "metadata": {
        "id": "QKcKCJFdt-NB"
      },
      "outputs": [],
      "source": [
        "#G.remove_nodes_from(list(nx.isolates(G)))"
      ],
      "id": "QKcKCJFdt-NB"
    },
    {
      "cell_type": "code",
      "execution_count": null,
      "metadata": {
        "id": "s0sVfDtUT2tl"
      },
      "outputs": [],
      "source": [
        "remove = ['was', 't']"
      ],
      "id": "s0sVfDtUT2tl"
    },
    {
      "cell_type": "code",
      "execution_count": null,
      "metadata": {
        "id": "Zz-Z8j7bT5Gp"
      },
      "outputs": [],
      "source": [
        "G.remove_nodes_from(remove)"
      ],
      "id": "Zz-Z8j7bT5Gp"
    },
    {
      "cell_type": "code",
      "execution_count": null,
      "metadata": {
        "colab": {
          "base_uri": "https://localhost:8080/"
        },
        "id": "acce807f",
        "outputId": "a6182346-7de8-4c8d-e388-e5203d85c0de"
      },
      "outputs": [
        {
          "output_type": "stream",
          "name": "stdout",
          "text": [
            "Graph with 1661 nodes and 25139 edges\n"
          ]
        }
      ],
      "source": [
        "print(nx.info(G))"
      ],
      "id": "acce807f"
    },
    {
      "cell_type": "code",
      "execution_count": null,
      "metadata": {
        "colab": {
          "base_uri": "https://localhost:8080/"
        },
        "id": "gZjYhJnuceL_",
        "outputId": "d982cc44-544f-491f-ff1c-1eeb9c38d511"
      },
      "outputs": [
        {
          "output_type": "execute_result",
          "data": {
            "text/plain": [
              "NodeView(('trpa1', 'ca2', 'tlr9', 'ethanol', 'rho', 'gtpase', 'neurons', 'fetal alcohol syndrome', 'coenzyme', 'ace2', 'enzyme', 'ccr4', 'ceacam5', 'cxcr3', 'granzyme', 'peptidase', 'trpc6', 'muscle cells', 'orai1', 'trpc4', 'trpc3', 'epithelial cells', 'astrocytes', 'sphingosine', 'cxcl1', 'protein', 'kinase', 'growth factor', 'stress', 'hydrogen peroxide', 'androgen', 'water', 'psmb8', 'histone', 'oxidase', 'quinone', 'lox', 'loxl2', 'lysine', 'nucleic acid', 'p53', 'mtor', 'park7', 'estrogen', 'peptide', 'ang', 'ace', 'mrna', 'lung', 'infection', 'bpifa1', 'coronavirus', 'foxm1', 'cd68', 'gfap', 'vasopressin', 'constipation', 'usp18', 'interferon', 'btk', 'tnf', 'lymphocytes', 'vaccination', 'nrxn3', 'cholesterol', 'set', 'enzymes', 'star', 'vdac2', 'lipid', 'grb2', 'postn', 'asthma', 'suicide', 'casein', 'interleukin', 'cytokine', 'ins', 'actin', 'muc5ac', 'sipa1', 'tab1', 'cxcl8', 'apcs', 'cd4', 'hla-dqb1', 'mafa', 'mafb', 'glucose', 'rna', 'maf', 'insulin', 'ormdl3', 'hla-dmb', 'hla-e', 'ifih1', 'stim1', 'notch1', 'collagen', 'tnfrsf1b', 'hla-g', 'smad2', 'nucleus', 'leptin', 'stat6', 'messenger rna', 'obesity', 'agr2', 'usf1', 'met', 'stat3', 'myd88', 'cxcl16', 'cytoplasm', 'htr1a', '5-hydroxytryptamine', 'serotonin', 'anxiety', 'ghrelin', 'cxcl10', 'hepatocytes', 'mucus secretion', 'hiv', 'hepatitis c virus', 'cxcl14', 'dna', 'hr', 'ripk2', 'ulk1', 'sqstm1', 'sirt2', 'foxo3', 'nlrp3', 'mefv', 'becn1', 'nlrp1', 'cellulase', 'sugars', 'cellulose', 'lactose', 'muc1', 'cough', 'smooth muscle cell', 'enalapril', 'hla-c', 'il1a', 'il1b', 'il4', 'il1r1', 'il1rn', 'il2rb', 'il10ra', 'ccl13', 'ccl18', 'ccl20', 'tnfrsf10b', 'tnfrsf10c', 'cytochrome', 'cybb', 'ifngr2', 'erythrocytes', 'adrenal gland', 'nervous system', 'aldosterone', 'allopurinol', 'wnt7a', 'tia1', 'melatonin', 'nanog', 'cyp11b1', 'cortisol', 'ccl21', 'cxcl9', 'lymphoid tissues', 'pten', 'proc', 'foxp2', 'cxcr4', 'cxcr1', 'cxcr2', 'cxcl11', 'endothelial cells', 'ccl2', 'cxcl12', 'cd34', 'stem cell', 'cdkn2a', 'dkk3', 'cxcl13', 'cxcr5', 'tyrosine kinase', 'csk', 'src', 'kcne3', 'hes1', 'agap2', 'ccne2', 'cdk5r1', 'cdkn1a', 'erbb3', 'nrg1', 'ppp1r1b', 'rapgef4', 'socs3', 'trib1', 'lyn', 'platelets', 'syk', 'pik3cg', 'dkk2', 'pcm1', 'jak2', 'nlk', 'csf1r', 'tyrosine', 'phenylalanine', 'traf2', 'ttk', 'vitamin d deficiency', 'hgf', 'tyk2', 'fyn', 'mertk', 'axl', 'tyro3', 'ikbkb', 'nfkbil1', 'ebf1', 'tnfrsf10a', 'pik3ca', 'polypeptide', 'jak1', 'jak3', 'biotin', 'egfr', 'erbb4', 'progesterone', 'c5ar1', 'ccr1', 'ifnar1', 'hmmr', 'kcnj6', 'cbl', 'ubiquitin', 'ligase', 'stk11', 'keap1', 'kras', 'neuroblastoma', 'mycn', 'bone', 'ahi1', 'bdnf', 'ghr', 'agt', 'pah', 'tryptophan', 'tph1', 'budesonide', 'col1a1', 'col1a2', 'col3a1', 'dexamethasone', 'igf2bp1', 'allantoin', 'nucleotide', 'inosine', 'purine', 'rp2', 'ywhab', 'aplp2', 'cyp21a2', 'nrgn', 'sindbis virus', 'vcp', 'membrane protein', 'gata4', 'vascular endothelial cells', 'hyaluronic acid', 'lyve1', 'prox1', 'icam3', 'integrin', 'clec4m', 'foxp3', 'serpine1', 'nme1', 'apex1', 'hmgb2', 'lif', 'phosphatase', 'ptprd', 'ptprg', 'kmt2c', 'tnfrsf17', 'glutathione', 'gsta1', 'tollip', 'growth hormone', 'hormone', 'ghrhr', 'glutamate', 'grm4', 'cadm1', 'clca1', 'muc2', 'ptpn11', 'plp1', 'pla2g7', 'tbxas1', 'thromboxane', 'gpi', 'rara', 'coronaviridae', 'sv40', 'irf3', 'irf7', 'stat1', 'isg15', 'thymus', 'myosin', 'anterior', 'btc', 'kif11', 'braf', 'ar', 'csf2ra', 'igfbp2', 'ltbp1', 'smad3', 'tlr7', 'doxycycline', 'doxorubicin', 'rad50', 'xrcc4', 'ribozyme', 'poli', 'amino acid', 'carbohydrate', 'epha2', 'mx2', 'brd2', 'rpl5', 'renin', 'gfra1', 'gdnf', 'socs6', 'pim3', 'pancreatic islets', 'folic acid', 'usp28', 'protease', 'serine', 'threonine', 'rictor', 'abo', 'glycoprotein', 'caspase', 'tubulin', 'irf5', 'pkp1', 'rhinovirus', 'g6pd', 'ywhaz', 'squalene', 'muc5b', 'mrc2', 'tgfbi', 'angiotensinogen', 'adrenocorticotropic hormone', 'spironolactone', 'palmitic acid', 'cdc42', 'pak2', 'limk2', 'mapk13', 'iqgap1', 'itga3', 'cd3d', 'apc', 'hla-dpa1', 'mylk', 'wipf1', 'baiap2', 'fcer1g', 'pard3', 'clip1', 'muc4', 'erbb2', 'cyclooxygenase', 'pak4', 'serpinb4', 'lilrb2', 'cga', 'acly', 'cxcl5', 'atm', 'slc9a3r1', 'apobec3f', 'apobec3g', 'glycine', 'dnmt1', 'cxcl2', 'mip', 'ccl24', 'ccr3', 'irf4', 'irf8', 'langat virus', 'stat2', 'ifnar2', 'ifngr1', 'glucagon', 'mx1', 'lentivirus', 'npy1r', 'gab1', 'gab2', 'hspa5', 'cat', 's100a12', 'tnfrsf1a', 'dclre1c', 'cd83', 'mir155', 'il6', 'creb3', 'atg5', 'vitamin d', 'gc', 'gnao1', 'guanine', 'bax', 'proteasome', 'gapdh', 'kit', 'gaa', 'gcg', 'protamine', 'central nervous system', 'prc1', 'tapbp', 'cyclophosphamide', 'prnp', 'prion', 'gpr143', 'pgm1', 'psap', 'cx3cr1', 'mrc1', 'cxcl3', 'cxcl6', 'cxcr6', 'thy1', 'ids', 'traf6', 'allergy', 'low density lipoprotein', 'spp1', 'rnf213', 'ptges', 'adam17', 'oas1', 'tg', 'podocyte', 'cdk9', 'dendritic cell', 'ebola virus', 'tlr3', 'monocyte', 'mmp9', 'sst', 'ptgs2', 'mavs', 'influenza b virus', 'adiponectin', 'crp', 'zeb2', 'nfil3', 'id2', 'stat4', 'mbd2', 'senp1', 'sumo1', 'actb', 'cd209', 'cd14', 'ptx3', 'igf1', 'jun', 'hla-b', 'adenine', 'wt1', 'proline', 'isomerase', 'plasma protein', 'per3', 'rsad2', 'methionine', 'trim27', 'cr1', 'wnt5a', 'rac1', 'rhoa', 'dvl2', 'daam1', 'ritonavir', 'gpx2', 'rash', 'dpp9', 'dpp4', 'trypsin', 'alanine', 'haptoglobin', 'prdm1', 'tbx21', 'arsb', 'hpse', 'chst6', 'pim1', 'hspg2', 'vcan', 'propionic acid', 'gata3', 'gch1', 'grm5', 'il10', 'slc22a4', 'uts2', 'olr1', 'thbs1', 'ptpn22', 'timp2', 'nr5a2', 'igfbp5', 'cysteine', 'thbd', 'hdac5', 'acta1', 'ifi16', 'trpm1', 'gfi1', 'id1', 'flt3', 'il7r', 'foxo1', 'trim25', 'edil3', 'egf', 'cd8a', 'irf9', 'mt2a', 'metallothionein', 'glutamine', 'cap1', 'tp53', 'tf', 'cx3cl1', 'dab2', 'gstp1', 'nphs1', 'ctnnd1', 'bacterial infection', 'elane', 'hmgb1', 'nucleosome', 'stomach', 'sparc', 'dcx', 'pole', 'ifit1', 'cd274', 'tmem173', 'marco', 'adam8', 'adam33', 'aspirin', 'abl1', 'cenpc', 'etv6', 'foxp1', 'nup153', 'nup214', 'ranbp2', 'sfpq', 'sptan1', 'b cell', 'gpr68', 'rarres1', 'ptgs1', 'foxc2', 'hmga2', 'aim2', 'tbk1', 'integral membrane protein', 'gpc5', 'slc28a3', 'nucleoside', 'klrk1', 'dmpk', 'klf10', 'myc', 'siah1', 'ksr1', 'nos3', 'map2k3', 'potassium chloride', 'atp1b1', 'kdm1a', 'calcr', 'calcitonin', 'epo', 'erythropoietin', 'tpo', 'thrombopoietin', 'prl', 'prolactin', 'osm', 'fas', 'slc7a11', 'cckar', 'kir2dl3', 'sstr1', 'ccl5', 'neutropenia', 'kcnq1', 'retn', 'bcl11b', 'cd28', 'mr1', 'hla-f', 'slc22a3', 'pnp', 'tpsab1', 'tdgf1', 'tlr2', 'tap2', 'atg16l1', 'tlr4', 'slc22a6', 'cd22', 'tlr6', 'nrp1', 'cd2', 'th', 'ccr9', 'cd58', 'nek1', 'ccr2', 'cd44', 'hematoxylin', 'pregnancy', 'nodal', 'ldlr', 'cyp7a1', 'mbp', 'gal', 'cd24', 'nod2', 'cd19', 'cd38', 'calu', 'sucrose', 'green fluorescent protein', 'tnfsf15', 'tnfrsf25', 'autoimmune disease', 'cd3e', 'cd3g', 'cd6', 'regulatory t cell', 'ret', 'bglap', 'rs1', 'il6st', 'tgfbr2', 'ccnd3', 'defa5', 'runx3', 'mica', 'il10rb', 'tymp', 'sox7', 'aire', 'ribosomal rna', 'bad', 'prep', 'rorc', 'gli2', 'ccl3', 'ccr5', 'kir2dl4', 'cd160', 'lilrb1', 'irf2', 'prf1', 'gzmb', 'fcgr3a', 'hematopoietic stem cells', 'tlr8', 'cel', 'ctsk', 'egr2', 'timp3', 'weight loss', 'ets1', 'des', 'fhl2', 'myh7', 'tsc2', 'ccr7', 'torque teno virus', 'eomes', 'natural killer cell', 'apoa1', 'apob', 'cetp', 'fgb', 'hmgcr', 'lpl', 'vav3', 'aimp1', 'dock8', 'ccl4', 'mmp1', 'coro1a', 'rac2', 'apod', 'ifng', 'trem1', 'lbp', 'xcl1', 'angpt2', 'zfp36', 'tnfaip6', 'cd55', 'cfb', 'cfi', 'calcrl', 'egr1', 'ptprc', 'lepr', 'nr4a3', 'zeb1', 'camk4', 'rasgrp1', 'vnn1', 'inpp5d', 'fcgr2a', 'fcgr2b', 'vav1', 'acta2', 'nr4a1', 'sfrp2', 'ogn', 'pln', 'ptgis', 'pax1', 'ccl25', 'dll4', 'glutamic acid', 'f12', 'spn', 'ccr6', 'ahr', 'runx1', 'col6a3', 'inflammatory conditions', 'glul', 'human cytomegalovirus', 'vwf', 'cytosine', 'lta', 'ltb4r', 'il5ra', 'ing2', 'plcd1', 'whole blood', 'ier3', 'nos1', 'eya1', 'ccl1', 'atf2', 'hmga1', 'alphavirus', 'dmbt1', 'srf', 'rassf5', 'cdc7', 'tgfbr3', 'cdc6', 'tnc', 'estradiol', 'itgb3', 'ccnd1', 'b2m', 'slc2a2', 'mst1', 'molluscum contagiosum', 'failure to thrive', 'itk', 'cd27', 'dpysl2', 'htr1b', 'ube2l3', 'cdo1', 'ifna2', 'leukotriene', 'alox12', 'corticosterone', 'tmprss2', 'hsf1', 'tp53inp1', 'btg1', 'tsc1', 'ccnb1', 'dux4', 'fcgr1a', 'nfkbia', 'apoe', 'tas2r38', 'mmp7', 'c3', 'atxn2', 'prkg1', 'allergic reaction', 'il21r', 'il24', 'snhg1', 'procr', 'cp', 'ifnb1', 'ifit3', 'irf1', 'lck', 'xylose', 'dhx58', 'krt18', 'etv1', 'nos2', 'tnk2', 'oas3', 'npm1', 'ung', 'mast cell', 'fatty acid', 'arginine', 'prostaglandins', 'azathioprine', 'white blood cell', 'nausea', 'vomiting', 'diarrhea', 'rab27b', 'rab35', 'epcam', 'heme', 'cobalamin', 'vitamin b12', 'red blood cells', 'glycan', 'ren', 'vitamin e', 'adenosine', 'adar', 'fut2', 'ddx17', 'ddx1', 'telomerase', 'glycogen', 'hepatitis b virus', 'rbfox1', 'cntnap2', 'hepacivirus', 'flaviviridae', 'cirrhosis', 'reverse transcriptase', 'ribose', 'h19', 'ltf', 'apoh', 'acetylcholine', 'glycolipid', 'sftpa2', 'adra2a', 'catecholamine', 'adenylate cyclase', 'adcy5', 'cdkal1', 'grb10', 'tcf7l2', 'cul3', 'rela', 'atrx', 'pla2g6', 'uridine', 'cdkn1b', 'cdkn1c', 'isoleucine', 'c2', 'hla-a', 'cyp17a1', 'foxa2', 'xrcc1', 'cyp2e1', 'prodh', 'hla-drb1', 'infectious pancreatic necrosis', 'hearing loss', 'chd7', 'hair', 'ear', 'losartan', 'ketamine', 'dehydroepiandrosterone', 'keratinocyte', 'f2', 'cast', 'swelling', 'glycerol', 'simvastatin', 'indomethacin', 'sodium bicarbonate', 'norovirus', 'lectin', 'afp', 'asparagine', 'saa1', 'penicillin', 'streptomycin', 'dengue virus', 'west nile virus', 'hemoglobin', 'erythrocyte', 'hamp', 'hfe', 'jaundice', 'red blood cell', 'ncam1', 'eml4', 'alk', 'coil', 'tetrodotoxin', 'ercc4', 'duck enteritis virus', 'tgfb1', 'nipah virus', 'vitamin a', 'mammary glands', 'nov', 'fever', 'dehydration', 'rotavirus', 'malnutrition', 'fap', 'hla antigen', 'muc6', 'mif', 'f7', 'c1qb', 'e2f1', 'lrp1', 'bst2', 'lef1', 'leucine', 'cdh13', 'bone marrow cells', 'zika virus', 'flavivirus', 'mumps', 'cpe', 'apoc1', 'capn10', 'il12a', 'cfp', 'kir3dl2', 'parechovirus', 'actc1', 'akt3', 'ccna2', 'ces1', 'ccl19', 'ceacam1', 'tranexamic acid', 'peg10', 'miscarriage', 'phospholipid', 'max', 'bid', 'cck', 'card8', 'kir2ds4', 'choline', 'vasoactive intestinal peptide', 'vip', 'ccl26', 'il5', 'slc6a4', 'ahnak', 'adh1b', 'jup', 'efnb1', 'rpa2', 'il6r', 'traf1', 'ciapin1', 'eng', 'myo6', 'sgpl1', 'tnfrsf9', 'phactr1', 'valine', 'add1', 'ccr8', 'circulatory system', 'gnmt', 'agxt', 'globulin', 'tert', 'stc2', 'selp', 'slc16a2', 'sall1', 'il2', 'il21', 'bcl6', 'ccl22', 'hsp90aa1', 'prg2', 'fut1', 'ctnnb1', 'impdh2', 'il32', 'ikzf1', 'ifitm3', 'ifitm1', 'il1rap', 'itgb1', 'il17c', 'il13ra2', 'il12b', 'il18', 'il22', 'ctla4', 'padi4', 'tnfaip3', 'blk', 'igfbp6', 'il23a', 'insig2', 'chia', 'adipoq', 'birc5', 'xrcc6', 'il17f', 'pi3', 'ifna1', 'tap1', 'nlgn3', 'il1r2', 'fcrl3', 'slco1b1', 'samhd1', 'igf2r', 'fat1', 'sf3b1', 'lgals3bp', 'siah2', 'arid5b', 'pdia3', 'gh1', 'ppargc1a', 'rag2', 'defb1', 'grin3a', 'col17a1', 'rad18', 'adam15', 'nkx3-1', 'nfkb1', 'gnb1', 'il1rl1', 'ido1', 'phb', 'kcne2', 'hspa1b', 'flna', 'hspa1a', 'pde5a', 'aldh1a1', 'sdc1', 'jund', 'chrna7', 'gnb3', 'eif2ak2', 'ddah1', 'cyr61', 'msr1', 'lcn2', 'il9', 'usp4', 'alox5', 'kmt2a', 'ugt2b15', 'mir486-1', 'arrb1', 'tcf4', 'gstm3', 'c2orf40', 'golm1', 'serpinf1', 'tyrp1', 'abca4', 'bub1b', 'htr2c', 'fbln1', 'sulf1', 'cldn2', 'prlr', 'loxl1', 'slco1b3', 'otx2', 'dlg4', 'nt5e', 'fbxw7', 'fdps', 'fgf1', 'fgf2', 'fgf4', 'fgf7', 'ntrk3', 'prkdc', 'tln1', 'akt1', 'pgf', 'lgr4', 'lhcgr', 'fshr', 'tshr', 'rxfp1', 'exo1', 'exonuclease', 'pdcd1', 'cyba', 'cyp2c9', 'id4', 'gnrhr', 'plcg1', 'fgf9', 'fgfr3', 'hdac1', 'hira', 'huwe1', 'kif2c', 'lgals1', 'mcl1', 'crhr2', 'cysltr1', 'asf1a', 'cst3', 'hcn1', 'rpgr', 'pkhd1', 'jazf1', 'sp1', 'nfib', 'micb', 'pin1', 'hmox1', 'krt14', 'siglec9', 'wrap53', 'ms4a1', 'homer1', 'kcne1', 'myh9', 'fgf21', 'hdac9', 'vcam1', 'itgb2', 'gp6', 'ifi27', 'urea', 'rfc1', 'pmepa1', 'cma1', 'plau', 'pdgfra', 'vegfa', 'ctgf', 'itga5', 'fibronectin', 'il2ra', 'itgb8', 'fgf23', 'fh', 'ndrg2', 'bhlhe40', 'sim2', 'nr4a2', 'ptpro', 'ntrk1', 'hsd11b1', 'cnr2', 'commd1', 'c4b', 'c7', 'cd1a', 'cd1b', 'cd1c', 'ndrg1', 'robo2', 'c4a', 'dpp10', 'ccl8', 'chd1', 'csf1', 'mmp13', 'ppbp', 'ehf', 's100a9', 'timp1', 'plaur', 'plat', 'egr3', 'cd248', 'fgfr4', 'rarb', 'ephb6', 'gja8', 'ccnd2', 'nf2', 'gfpt1', 'kcnh1', 'klf6', 'slc19a1', 'dusp1', 'icam1', 'prss3', 'btrc', 'slc26a4', 'ppp1r15a', 'il13ra1', 'cd151', 'gpc1', 'serpine2', 'fgf18', 'fkbp5', 'col11a1', 'col11a2', 'chek1', 'ccl28', 'ednrb', 'trip6', 'dek', 'foxl2', 'kat6b', 'mtrr', 'sdhc', 'ube2c', 'gsk3b', 'adrb2', 'ecm1', 'csf2', 'csf2rb', 'cfl1', 'slc1a1', 'camkk2', 'fth1', 'ncf4', 'il17a', 'cebpd', 'arsa', 'card9', 'bmp6', 'rnase3', 'lrrk2', 'rnasel', 'il13', 'jam3', 'mas1', 'foxc1', 'scnn1a', 'klrd1', 'wars', 'fhl1', 'serping1', 'gpr39', 'viral infections', 'lamb3', 'bcr', 'casp1', 'brca2', 'actn1', 'scn5a', 'dsg2', 'sod2', 'slit2', 'scn2a', 'mrgprx2', 'p2rx2', 'cebpb', 'plscr1', 'dnm2', 'coxsackievirus', 'porcine epidemic diarrhea virus', 'deltacoronavirus', 'transmissible gastroenteritis virus', 'paramyxoviridae', 'measles', 'betacoronavirus', 'bovine coronavirus', 'tick-borne encephalitis virus', 'deer tick virus', 'omsk hemorrhagic fever virus', 'kyasanur forest disease virus', 'louping ill virus', 'japanese encephalitis virus', 'headache', 'muscle pain', 'chikungunya virus', 'bcl2', 'fancd2', 'mybl2', 'tpx2', 'top2a', 'espl1', 'mad2l1', 'kif4a', 'plk1', 'bub1', 'cdc20', 'polq', 'racgap1', 'aurkb', 'cenpa', 'mki67', 'knl1', 'cdk1', 'tacc3', 'plk4', 'e2f2', 'cenpf', 'aurka', 'kif23', 'nek2', 'cdc45', 'ndc80', 'cdc25a', 'cks1b', 'kpna2', 'rad54l', 'cenpe', 'stil', 'lmnb1', 'cdkn3', 'pttg1', 'stmn1', 'ezh2', 'fbxo5', 'mcm2', 'odc1', 'nsd2', 'h2afx', 'mcm6', 'bard1', 'chaf1a', 'suv39h1', 'fbp1', 'fructose', 'fcgr3b', 'syne1', 'hla-dpb1', 'blood loss', 'furosemide', 'hydroxyurea', 'pik3r3', 'tnfsf10', 'apol1', 'lama2', 'aqp9', 'dnmt3a', 'ppp2r2b', 'adam19', 'cps1', 'dsg1', 'lrrc8a', 'tnfrsf4', 'hip1', 'neat1', 'asns', 'glp1r', 'gpx1', 'rgs2', 'msmb', 'cdkn2b', 'adh7', 'ece1', 'hla-dqa1', 'hla-dma', 'pparg', 'hspa6', 'psmb9', 'ciita', 'hla-dra', 'mb', 'hbegf', 'ttn', 'dhx9', 'drd2', 'ino80', 'gnas', 'hp', 'mettl3', 'hdgf', 'socs1', 'hfe2', 'bbs1', 'eef1a1', 'aldob', 'cd33', 'cd36', 'ddx3x', 'ptgdr', 'hbg1', 'pax3', 'krt7', 'ctss', 'il12rb1', 'cd81', 'cdh1', 'cdt1', 'lag3', 'defb4a', 'oocyte', 'infertility', 'eif2ak4', 'usp22', 'ada', 'dextran', 'ubd', 'erap2', 'ephb2', 'ccl17', 'atf6', 'hsp90b1', 'cfh', 'tlr5', 'tgfb2', 'transmembrane receptor', 'enterovirus', 'comt', 'acvr2a', 'mapk3', 'cask', 'atp2a2', 'emp2', 'a2m', 'hif1a', 'epm2a', 'fos', 'gpc3', 'lsp1', 'cops5', 'hdac4', 'cysltr2', 'ptpn2', 'abcb11', 'plk2', 'meg3', 'grm7', 'steap4', 'plod2', 'ep300', 'wwp1', 'egln3', 'csnk2a1', 'mef2a', 'vdr', 'cyp24a1', 'klk6', 'gadd45a', 'cebpa', 'ncoa1', 'igfbp3', 'igfbp1', 'sema3b', 'cst6', 'prkd1', 'ryr3', 'card10', 'inhba', 'hspb8', 'bcl2l1', 'cacna1d', 'rab6a', 'etfdh', 'pfn1', 'lifr', 'cd163', 'lmo2', 'ptn', 'mir30a', 'wnk1', 'bcl2l2', 'human herpesvirus 6', 'high density lipoprotein', 'azithromycin', 'grin1', 'back pain', 'erg', 'etv4', 'slc14a1', 'lnpep', 'chuk', 'setd2', 'ddx58', 'cd93', 'sox10', 'sh2b3', 'casp6', 'skp2', 'pcsk9', 'aicda', 'rgs1', 'oligodendrocytes', 'arenavirus', 'burns', 'bcg vaccine', 'lymphadenitis', 'hepatitis e virus', 'tp63', 'klk3', 'epb41l3', 'palb2', 'camp', 'atp2b4', 'mmp2', 'mtss1', 'diphtheria', 'aif1', 'pde4d', 'pck1', 'map4', 'laceration', 'fbn1', 'ing4', 'irgm', 'tbp', 'nfia', 'itgax', 'itgal', 'corticosteroid', 'nt5c2', 'slc29a3', 'methotrexate', 'ionomycin', 'tamoxifen', 'oxytocin', 'amh', 'avpr1b', 'parn', 'mthfr', 'sox4', 'foxo4', 'pax2', 'pappa', 'tetanus', 'bmp7', 'retinitis pigmentosa', 'testosterone', 'cd74', 'dio3', 'bronchial asthma', 'bk virus', 'picornaviridae', 'ddc', 'cdk4', 'fstl1', 'fancc', 'cubn', 'gna11', 'furin', 'cardiovirus', 'pemphigoid', 'stip1', 'slc4a2', 'sox5', 'cit', 'pdcd6ip', 'bnip3', 'cd69', 'pcna', 'aldoa', 'warfarin', 'trim22', 'corin', 'mcm5', 'clock', 'kcnj2', 'btnl2', 'cpb2', 'fancg', 'fanci', 'fancm', 'fbxo11', 'fanca', 'nog', 'atg7', 'xist', 'tbx20', 'prkca', 'prostate gland', 'neurotensin', 'cd80', 'chl1', 'trim24', 'il15', 'rb1', 'mmp8', 'gelatin', 'tp73', 'mia', 'citrinin', 'ochratoxin a', 'plasma cell', 'f11', 'murine norovirus', 'picornavirus', 'mouth', 'neuropeptide y', 'kif20a', 'fabp1', 'smad4', 'mgmt', 'mlkl', 'tirap', 'optn', 'vhl', 'stat5a', 'yap1', 'ran', 'card11', 'cep290', 'trna', 'gars', 'msn', 'mmp10', 'atr', 'crh', 'cytomegalovirus', 'ano1', 'fgg', 'dysf', 'bag3', 'sh3kbp1', 'sirpa', 'inulin', 'cpt1a', 'rel', 'corticotropin-releasing hormone'))"
            ]
          },
          "metadata": {},
          "execution_count": 100
        }
      ],
      "source": [
        "G.nodes"
      ],
      "id": "gZjYhJnuceL_"
    },
    {
      "cell_type": "code",
      "execution_count": null,
      "metadata": {
        "id": "mtveRWFMH7LF"
      },
      "outputs": [],
      "source": [
        "#G = G.subgraph(nx.shortest_path(G.to_undirected(),'histamine'))"
      ],
      "id": "mtveRWFMH7LF"
    },
    {
      "cell_type": "code",
      "execution_count": null,
      "metadata": {
        "colab": {
          "base_uri": "https://localhost:8080/"
        },
        "id": "f564b604",
        "outputId": "06a969c9-12dc-48fe-a4bc-7d9fc1b640b7"
      },
      "outputs": [
        {
          "output_type": "execute_result",
          "data": {
            "text/plain": [
              "['stress',\n",
              " 'tyrosine kinase',\n",
              " 'protein',\n",
              " 'kinase',\n",
              " 'lipid',\n",
              " 'rna',\n",
              " 'nucleotide',\n",
              " 'kit',\n",
              " 'ethanol',\n",
              " 'serine',\n",
              " 'tyrosine',\n",
              " 'ifih1',\n",
              " 'ifit1',\n",
              " 'growth factor',\n",
              " 'cxcr2',\n",
              " 'cxcr4',\n",
              " 'cxcl10',\n",
              " 'cxcl16',\n",
              " 'cxcl8',\n",
              " 'cxcl9',\n",
              " 'ccl2',\n",
              " 'cxcr3',\n",
              " 'interferon',\n",
              " 'dengue virus',\n",
              " 'hla-g',\n",
              " 'ccr9',\n",
              " 'mrna',\n",
              " 'lymphocytes',\n",
              " 'th',\n",
              " 'b cell',\n",
              " 'bcl11b',\n",
              " 'cd28',\n",
              " 'cd4',\n",
              " 'enzyme',\n",
              " 'ace2',\n",
              " 'cd38',\n",
              " 'hiv',\n",
              " 'protease',\n",
              " 'lung',\n",
              " 'epo',\n",
              " 'peptide',\n",
              " 'ang',\n",
              " 'infection',\n",
              " 'tyk2',\n",
              " 'lilrb2',\n",
              " 'interleukin',\n",
              " 'kir2dl4',\n",
              " 'irf5',\n",
              " 'tnf',\n",
              " 'ketamine',\n",
              " 'foxp3',\n",
              " 'cxcl12',\n",
              " 'cd34',\n",
              " 'stem cell',\n",
              " 'ccr2',\n",
              " 'cxcr1',\n",
              " 'cp',\n",
              " 'jak3',\n",
              " 'jak1',\n",
              " 'jak2',\n",
              " 'hepatocytes',\n",
              " 'stat1',\n",
              " 'stat2',\n",
              " 'hepatitis c virus',\n",
              " 'hepatitis b virus',\n",
              " 'ionomycin',\n",
              " 'hla-e',\n",
              " 'cxcr5',\n",
              " 'cd19',\n",
              " 'calu',\n",
              " 'sucrose',\n",
              " 'green fluorescent protein',\n",
              " 'nucleus',\n",
              " 'apc',\n",
              " 'tnfsf15',\n",
              " 'tnfrsf25',\n",
              " 'bacterial infection',\n",
              " 'mbd2',\n",
              " 'ret',\n",
              " 'muc5ac',\n",
              " 'mafa',\n",
              " 'mafb',\n",
              " 'glucose',\n",
              " 'maf',\n",
              " 'insulin',\n",
              " 'ormdl3',\n",
              " 'hla-dmb',\n",
              " 'histone',\n",
              " 'stat3',\n",
              " 'bone',\n",
              " 'ritonavir',\n",
              " 'ubiquitin',\n",
              " 'proteasome',\n",
              " 'cd160',\n",
              " 'endothelial cells',\n",
              " 'lilrb1',\n",
              " 'corticosteroid',\n",
              " 'dextran',\n",
              " 'pappa',\n",
              " 'stim1',\n",
              " 'notch1',\n",
              " 'set',\n",
              " 'collagen',\n",
              " 'tnfrsf1b',\n",
              " 'bax',\n",
              " 'ets1',\n",
              " 'erythropoietin',\n",
              " 'tpo',\n",
              " 'thrombopoietin',\n",
              " 'growth hormone',\n",
              " 'prl',\n",
              " 'prolactin',\n",
              " 'osm',\n",
              " 'fas',\n",
              " 'monocyte',\n",
              " 'cd2',\n",
              " 'socs1',\n",
              " 'tamoxifen',\n",
              " 'tetanus',\n",
              " 'tsc2',\n",
              " 'procr',\n",
              " 'cd274',\n",
              " 'leptin',\n",
              " 'stat6',\n",
              " 'messenger rna',\n",
              " 'obesity',\n",
              " 'cholesterol',\n",
              " 'epithelial cells',\n",
              " 'f12',\n",
              " 'syk',\n",
              " 'cytoplasm',\n",
              " 'neutropenia',\n",
              " 'crp',\n",
              " 'cxcl11',\n",
              " 'ciapin1',\n",
              " 'mr1',\n",
              " 'inflammatory conditions',\n",
              " 'xcl1',\n",
              " 'ccl1',\n",
              " 'rorc',\n",
              " 'atf2',\n",
              " 'hmga1',\n",
              " 'tlr3',\n",
              " 'ccl20',\n",
              " 'cd68',\n",
              " 'gfap',\n",
              " 'dendritic cell',\n",
              " 'il1a',\n",
              " 'usp18',\n",
              " 'ccr7',\n",
              " 'egf']"
            ]
          },
          "metadata": {},
          "execution_count": 102
        }
      ],
      "source": [
        "[n for n in G.neighbors('cytokine')]"
      ],
      "id": "f564b604"
    },
    {
      "cell_type": "code",
      "execution_count": null,
      "metadata": {
        "id": "1f1eb85a"
      },
      "outputs": [],
      "source": [
        "#G = nx.read_gexf(\"test.gexf\")"
      ],
      "id": "1f1eb85a"
    },
    {
      "cell_type": "code",
      "execution_count": null,
      "metadata": {
        "id": "ea7e2b1b"
      },
      "outputs": [],
      "source": [
        "import matplotlib.pyplot as plt\n",
        "import matplotlib.cm as cm\n",
        "%matplotlib inline"
      ],
      "id": "ea7e2b1b"
    },
    {
      "cell_type": "code",
      "source": [
        "l = ['coronavirus']"
      ],
      "metadata": {
        "id": "A3OQmV49RsCa"
      },
      "id": "A3OQmV49RsCa",
      "execution_count": null,
      "outputs": []
    },
    {
      "cell_type": "code",
      "source": [
        "deg_l = {i:G.degree(i) for i in l}    \n",
        "highest_centrality_node = max(deg_l.items(), key=lambda x: x[1])[0]"
      ],
      "metadata": {
        "id": "QDEnZCtyRyv6"
      },
      "id": "QDEnZCtyRyv6",
      "execution_count": null,
      "outputs": []
    },
    {
      "cell_type": "code",
      "source": [
        "ego_g = nx.ego_graph(G, highest_centrality_node)"
      ],
      "metadata": {
        "id": "EBquacs4R1VC"
      },
      "id": "EBquacs4R1VC",
      "execution_count": null,
      "outputs": []
    },
    {
      "cell_type": "code",
      "execution_count": null,
      "metadata": {
        "id": "223663dc"
      },
      "outputs": [],
      "source": [
        "from community import community_louvain\n",
        "communities =community_louvain.best_partition(ego_g)"
      ],
      "id": "223663dc"
    },
    {
      "cell_type": "code",
      "execution_count": null,
      "metadata": {
        "id": "65cb1b9a"
      },
      "outputs": [],
      "source": [
        "community_id = [communities[node] for node in ego_g.nodes()]"
      ],
      "id": "65cb1b9a"
    },
    {
      "cell_type": "code",
      "execution_count": null,
      "metadata": {
        "colab": {
          "base_uri": "https://localhost:8080/",
          "height": 751
        },
        "id": "8d1f0545",
        "outputId": "7cb29d34-dbe3-4b86-cd6f-35d3d0a8243d"
      },
      "outputs": [
        {
          "output_type": "display_data",
          "data": {
            "image/png": "[encoded data removed]",
            "text/plain": [
              "<Figure size 720x720 with 1 Axes>"
            ]
          },
          "metadata": {}
        }
      ],
      "source": [
        "fig = plt.figure(figsize=(10, 10))\n",
        "d = dict(ego_g.degree)\n",
        "nx.draw(\n",
        "    ego_g,\n",
        "    with_labels=True,\n",
        "    edge_color=['silver'] * len(ego_g.edges()),\n",
        "    cmap=plt.cm.tab20,\n",
        "    node_color=community_id,\n",
        "    nodelist=d.keys(), \n",
        "    node_size=150\n",
        ")"
      ],
      "id": "8d1f0545"
    },
    {
      "cell_type": "code",
      "source": [
        "def pr_summary(G):\n",
        "    pr = nx.pagerank(G)\n",
        "    df = pd.DataFrame.from_dict({\n",
        "        'node': list(pr.keys()),\n",
        "        'centrality_pr': list(pr.values())\n",
        "    })\n",
        "    return df.sort_values('centrality_pr', ascending=False)"
      ],
      "metadata": {
        "id": "MUcfzj_3fvHC"
      },
      "id": "MUcfzj_3fvHC",
      "execution_count": null,
      "outputs": []
    },
    {
      "cell_type": "code",
      "source": [
        "pr = pd.DataFrame(pr_summary(G), columns=['node', 'centrality_pr'])"
      ],
      "metadata": {
        "id": "s4-uhmMSf9JB"
      },
      "id": "s4-uhmMSf9JB",
      "execution_count": null,
      "outputs": []
    },
    {
      "cell_type": "code",
      "source": [
        "pr.head()"
      ],
      "metadata": {
        "id": "O9NjfCktf9SS",
        "colab": {
          "base_uri": "https://localhost:8080/",
          "height": 198
        },
        "outputId": "5e4b1929-5e30-4cb3-c069-2f0dafb83cae"
      },
      "id": "O9NjfCktf9SS",
      "execution_count": null,
      "outputs": [
        {
          "output_type": "execute_result",
          "data": {
            "text/html": [
              "\n",
              "  <div id=\"df-e6b03f7f-c817-43ff-9abb-f7bbe5a949a6\">\n",
              "    <div class=\"colab-df-container\">\n",
              "      <div>\n",
              "<style scoped>\n",
              "    .dataframe tbody tr th:only-of-type {\n",
              "        vertical-align: middle;\n",
              "    }\n",
              "\n",
              "    .dataframe tbody tr th {\n",
              "        vertical-align: top;\n",
              "    }\n",
              "\n",
              "    .dataframe thead th {\n",
              "        text-align: right;\n",
              "    }\n",
              "</style>\n",
              "<table border=\"1\" class=\"dataframe\">\n",
              "  <thead>\n",
              "    <tr style=\"text-align: right;\">\n",
              "      <th></th>\n",
              "      <th>node</th>\n",
              "      <th>centrality_pr</th>\n",
              "    </tr>\n",
              "  </thead>\n",
              "  <tbody>\n",
              "    <tr>\n",
              "      <th>25</th>\n",
              "      <td>protein</td>\n",
              "      <td>0.025671</td>\n",
              "    </tr>\n",
              "    <tr>\n",
              "      <th>9</th>\n",
              "      <td>ace2</td>\n",
              "      <td>0.014494</td>\n",
              "    </tr>\n",
              "    <tr>\n",
              "      <th>89</th>\n",
              "      <td>rna</td>\n",
              "      <td>0.010421</td>\n",
              "    </tr>\n",
              "    <tr>\n",
              "      <th>45</th>\n",
              "      <td>ang</td>\n",
              "      <td>0.009692</td>\n",
              "    </tr>\n",
              "    <tr>\n",
              "      <th>49</th>\n",
              "      <td>infection</td>\n",
              "      <td>0.008674</td>\n",
              "    </tr>\n",
              "  </tbody>\n",
              "</table>\n",
              "</div>\n",
              "      <button class=\"colab-df-convert\" onclick=\"convertToInteractive('df-e6b03f7f-c817-43ff-9abb-f7bbe5a949a6')\"\n",
              "              title=\"Convert this dataframe to an interactive table.\"\n",
              "              style=\"display:none;\">\n",
              "        \n",
              "  <svg xmlns=\"http://www.w3.org/2000/svg\" height=\"24px\"viewBox=\"0 0 24 24\"\n",
              "       width=\"24px\">\n",
              "    <path d=\"M0 0h24v24H0V0z\" fill=\"none\"/>\n",
              "    <path d=\"M18.56 5.44l.94 2.06.94-2.06 2.06-.94-2.06-.94-.94-2.06-.94 2.06-2.06.94zm-11 1L8.5 8.5l.94-2.06 2.06-.94-2.06-.94L8.5 2.5l-.94 2.06-2.06.94zm10 10l.94 2.06.94-2.06 2.06-.94-2.06-.94-.94-2.06-.94 2.06-2.06.94z\"/><path d=\"M17.41 7.96l-1.37-1.37c-.4-.4-.92-.59-1.43-.59-.52 0-1.04.2-1.43.59L10.3 9.45l-7.72 7.72c-.78.78-.78 2.05 0 2.83L4 21.41c.39.39.9.59 1.41.59.51 0 1.02-.2 1.41-.59l7.78-7.78 2.81-2.81c.8-.78.8-2.07 0-2.86zM5.41 20L4 18.59l7.72-7.72 1.47 1.35L5.41 20z\"/>\n",
              "  </svg>\n",
              "      </button>\n",
              "      \n",
              "  <style>\n",
              "    .colab-df-container {\n",
              "      display:flex;\n",
              "      flex-wrap:wrap;\n",
              "      gap: 12px;\n",
              "    }\n",
              "\n",
              "    .colab-df-convert {\n",
              "      background-color: #E8F0FE;\n",
              "      border: none;\n",
              "      border-radius: 50%;\n",
              "      cursor: pointer;\n",
              "      display: none;\n",
              "      fill: #1967D2;\n",
              "      height: 32px;\n",
              "      padding: 0 0 0 0;\n",
              "      width: 32px;\n",
              "    }\n",
              "\n",
              "    .colab-df-convert:hover {\n",
              "      background-color: #E2EBFA;\n",
              "      box-shadow: 0px 1px 2px rgba(60, 64, 67, 0.3), 0px 1px 3px 1px rgba(60, 64, 67, 0.15);\n",
              "      fill: #174EA6;\n",
              "    }\n",
              "\n",
              "    [theme=dark] .colab-df-convert {\n",
              "      background-color: #3B4455;\n",
              "      fill: #D2E3FC;\n",
              "    }\n",
              "\n",
              "    [theme=dark] .colab-df-convert:hover {\n",
              "      background-color: #434B5C;\n",
              "      box-shadow: 0px 1px 3px 1px rgba(0, 0, 0, 0.15);\n",
              "      filter: drop-shadow(0px 1px 2px rgba(0, 0, 0, 0.3));\n",
              "      fill: #FFFFFF;\n",
              "    }\n",
              "  </style>\n",
              "\n",
              "      <script>\n",
              "        const buttonEl =\n",
              "          document.querySelector('#df-e6b03f7f-c817-43ff-9abb-f7bbe5a949a6 button.colab-df-convert');\n",
              "        buttonEl.style.display =\n",
              "          google.colab.kernel.accessAllowed ? 'block' : 'none';\n",
              "\n",
              "        async function convertToInteractive(key) {\n",
              "          const element = document.querySelector('#df-e6b03f7f-c817-43ff-9abb-f7bbe5a949a6');\n",
              "          const dataTable =\n",
              "            await google.colab.kernel.invokeFunction('convertToInteractive',\n",
              "                                                     [key], {});\n",
              "          if (!dataTable) return;\n",
              "\n",
              "          const docLinkHtml = 'Like what you see? Visit the ' +\n",
              "            '<a target=\"_blank\" href=https://colab.research.google.com/notebooks/data_table.ipynb>data table notebook</a>'\n",
              "            + ' to learn more about interactive tables.';\n",
              "          element.innerHTML = '';\n",
              "          dataTable['output_type'] = 'display_data';\n",
              "          await google.colab.output.renderOutput(dataTable, element);\n",
              "          const docLink = document.createElement('div');\n",
              "          docLink.innerHTML = docLinkHtml;\n",
              "          element.appendChild(docLink);\n",
              "        }\n",
              "      </script>\n",
              "    </div>\n",
              "  </div>\n",
              "  "
            ],
            "text/plain": [
              "         node  centrality_pr\n",
              "25    protein       0.025671\n",
              "9        ace2       0.014494\n",
              "89        rna       0.010421\n",
              "45        ang       0.009692\n",
              "49  infection       0.008674"
            ]
          },
          "metadata": {},
          "execution_count": 113
        }
      ]
    },
    {
      "cell_type": "code",
      "source": [
        "def bc_summary(G):\n",
        "    bc = nx.betweenness_centrality(G)\n",
        "    df = pd.DataFrame.from_dict({\n",
        "        'node': list(bc.keys()),\n",
        "        'centrality_bc': list(bc.values())\n",
        "    })\n",
        "    return df.sort_values('centrality_bc', ascending=False)"
      ],
      "metadata": {
        "id": "OhpS8eEqf9b9"
      },
      "id": "OhpS8eEqf9b9",
      "execution_count": null,
      "outputs": []
    },
    {
      "cell_type": "code",
      "source": [
        "bc = pd.DataFrame(bc_summary(G), columns=['node', 'centrality_bc'])"
      ],
      "metadata": {
        "id": "GlS1rB7Of9hO"
      },
      "id": "GlS1rB7Of9hO",
      "execution_count": null,
      "outputs": []
    },
    {
      "cell_type": "code",
      "source": [
        "bc.head()"
      ],
      "metadata": {
        "id": "qjouuWeVf9lF",
        "colab": {
          "base_uri": "https://localhost:8080/",
          "height": 198
        },
        "outputId": "44e4d25b-60ce-4158-b071-f9dcb194c938"
      },
      "id": "qjouuWeVf9lF",
      "execution_count": null,
      "outputs": [
        {
          "output_type": "execute_result",
          "data": {
            "text/html": [
              "\n",
              "  <div id=\"df-e29c7b01-c644-4948-82d3-f5e9b4e1b87e\">\n",
              "    <div class=\"colab-df-container\">\n",
              "      <div>\n",
              "<style scoped>\n",
              "    .dataframe tbody tr th:only-of-type {\n",
              "        vertical-align: middle;\n",
              "    }\n",
              "\n",
              "    .dataframe tbody tr th {\n",
              "        vertical-align: top;\n",
              "    }\n",
              "\n",
              "    .dataframe thead th {\n",
              "        text-align: right;\n",
              "    }\n",
              "</style>\n",
              "<table border=\"1\" class=\"dataframe\">\n",
              "  <thead>\n",
              "    <tr style=\"text-align: right;\">\n",
              "      <th></th>\n",
              "      <th>node</th>\n",
              "      <th>centrality_bc</th>\n",
              "    </tr>\n",
              "  </thead>\n",
              "  <tbody>\n",
              "    <tr>\n",
              "      <th>25</th>\n",
              "      <td>protein</td>\n",
              "      <td>0.177360</td>\n",
              "    </tr>\n",
              "    <tr>\n",
              "      <th>49</th>\n",
              "      <td>infection</td>\n",
              "      <td>0.051093</td>\n",
              "    </tr>\n",
              "    <tr>\n",
              "      <th>84</th>\n",
              "      <td>cd4</td>\n",
              "      <td>0.030643</td>\n",
              "    </tr>\n",
              "    <tr>\n",
              "      <th>26</th>\n",
              "      <td>kinase</td>\n",
              "      <td>0.025909</td>\n",
              "    </tr>\n",
              "    <tr>\n",
              "      <th>28</th>\n",
              "      <td>stress</td>\n",
              "      <td>0.025783</td>\n",
              "    </tr>\n",
              "  </tbody>\n",
              "</table>\n",
              "</div>\n",
              "      <button class=\"colab-df-convert\" onclick=\"convertToInteractive('df-e29c7b01-c644-4948-82d3-f5e9b4e1b87e')\"\n",
              "              title=\"Convert this dataframe to an interactive table.\"\n",
              "              style=\"display:none;\">\n",
              "        \n",
              "  <svg xmlns=\"http://www.w3.org/2000/svg\" height=\"24px\"viewBox=\"0 0 24 24\"\n",
              "       width=\"24px\">\n",
              "    <path d=\"M0 0h24v24H0V0z\" fill=\"none\"/>\n",
              "    <path d=\"M18.56 5.44l.94 2.06.94-2.06 2.06-.94-2.06-.94-.94-2.06-.94 2.06-2.06.94zm-11 1L8.5 8.5l.94-2.06 2.06-.94-2.06-.94L8.5 2.5l-.94 2.06-2.06.94zm10 10l.94 2.06.94-2.06 2.06-.94-2.06-.94-.94-2.06-.94 2.06-2.06.94z\"/><path d=\"M17.41 7.96l-1.37-1.37c-.4-.4-.92-.59-1.43-.59-.52 0-1.04.2-1.43.59L10.3 9.45l-7.72 7.72c-.78.78-.78 2.05 0 2.83L4 21.41c.39.39.9.59 1.41.59.51 0 1.02-.2 1.41-.59l7.78-7.78 2.81-2.81c.8-.78.8-2.07 0-2.86zM5.41 20L4 18.59l7.72-7.72 1.47 1.35L5.41 20z\"/>\n",
              "  </svg>\n",
              "      </button>\n",
              "      \n",
              "  <style>\n",
              "    .colab-df-container {\n",
              "      display:flex;\n",
              "      flex-wrap:wrap;\n",
              "      gap: 12px;\n",
              "    }\n",
              "\n",
              "    .colab-df-convert {\n",
              "      background-color: #E8F0FE;\n",
              "      border: none;\n",
              "      border-radius: 50%;\n",
              "      cursor: pointer;\n",
              "      display: none;\n",
              "      fill: #1967D2;\n",
              "      height: 32px;\n",
              "      padding: 0 0 0 0;\n",
              "      width: 32px;\n",
              "    }\n",
              "\n",
              "    .colab-df-convert:hover {\n",
              "      background-color: #E2EBFA;\n",
              "      box-shadow: 0px 1px 2px rgba(60, 64, 67, 0.3), 0px 1px 3px 1px rgba(60, 64, 67, 0.15);\n",
              "      fill: #174EA6;\n",
              "    }\n",
              "\n",
              "    [theme=dark] .colab-df-convert {\n",
              "      background-color: #3B4455;\n",
              "      fill: #D2E3FC;\n",
              "    }\n",
              "\n",
              "    [theme=dark] .colab-df-convert:hover {\n",
              "      background-color: #434B5C;\n",
              "      box-shadow: 0px 1px 3px 1px rgba(0, 0, 0, 0.15);\n",
              "      filter: drop-shadow(0px 1px 2px rgba(0, 0, 0, 0.3));\n",
              "      fill: #FFFFFF;\n",
              "    }\n",
              "  </style>\n",
              "\n",
              "      <script>\n",
              "        const buttonEl =\n",
              "          document.querySelector('#df-e29c7b01-c644-4948-82d3-f5e9b4e1b87e button.colab-df-convert');\n",
              "        buttonEl.style.display =\n",
              "          google.colab.kernel.accessAllowed ? 'block' : 'none';\n",
              "\n",
              "        async function convertToInteractive(key) {\n",
              "          const element = document.querySelector('#df-e29c7b01-c644-4948-82d3-f5e9b4e1b87e');\n",
              "          const dataTable =\n",
              "            await google.colab.kernel.invokeFunction('convertToInteractive',\n",
              "                                                     [key], {});\n",
              "          if (!dataTable) return;\n",
              "\n",
              "          const docLinkHtml = 'Like what you see? Visit the ' +\n",
              "            '<a target=\"_blank\" href=https://colab.research.google.com/notebooks/data_table.ipynb>data table notebook</a>'\n",
              "            + ' to learn more about interactive tables.';\n",
              "          element.innerHTML = '';\n",
              "          dataTable['output_type'] = 'display_data';\n",
              "          await google.colab.output.renderOutput(dataTable, element);\n",
              "          const docLink = document.createElement('div');\n",
              "          docLink.innerHTML = docLinkHtml;\n",
              "          element.appendChild(docLink);\n",
              "        }\n",
              "      </script>\n",
              "    </div>\n",
              "  </div>\n",
              "  "
            ],
            "text/plain": [
              "         node  centrality_bc\n",
              "25    protein       0.177360\n",
              "49  infection       0.051093\n",
              "84        cd4       0.030643\n",
              "26     kinase       0.025909\n",
              "28     stress       0.025783"
            ]
          },
          "metadata": {},
          "execution_count": 116
        }
      ]
    },
    {
      "cell_type": "markdown",
      "source": [
        "(дополнительно)\n",
        "# Шаг 6"
      ],
      "metadata": {
        "id": "9aPDGkrRG1t4"
      },
      "id": "9aPDGkrRG1t4"
    },
    {
      "cell_type": "markdown",
      "source": [
        "Обучем на графе графовую нейронную сеть, которую можно использовать для получения эмбеддингов вершин графа."
      ],
      "metadata": {
        "id": "kGQYtjK-G5kD"
      },
      "id": "kGQYtjK-G5kD"
    },
    {
      "cell_type": "code",
      "source": [
        "!pip install node2vec"
      ],
      "metadata": {
        "id": "LxM4xJcOPozB",
        "colab": {
          "base_uri": "https://localhost:8080/"
        },
        "outputId": "a308db00-a6f5-4cf1-a07a-893738a1522c"
      },
      "id": "LxM4xJcOPozB",
      "execution_count": null,
      "outputs": [
        {
          "output_type": "stream",
          "name": "stdout",
          "text": [
            "Collecting node2vec\n",
            "  Downloading node2vec-0.4.3.tar.gz (4.6 kB)\n",
            "Requirement already satisfied: networkx in /usr/local/lib/python3.7/dist-packages (from node2vec) (2.6.3)\n",
            "Requirement already satisfied: gensim in /usr/local/lib/python3.7/dist-packages (from node2vec) (3.6.0)\n",
            "Requirement already satisfied: numpy in /usr/local/lib/python3.7/dist-packages (from node2vec) (1.19.5)\n",
            "Requirement already satisfied: tqdm in /usr/local/lib/python3.7/dist-packages (from node2vec) (4.62.3)\n",
            "Requirement already satisfied: joblib>=0.13.2 in /usr/local/lib/python3.7/dist-packages (from node2vec) (1.1.0)\n",
            "Requirement already satisfied: six>=1.5.0 in /usr/local/lib/python3.7/dist-packages (from gensim->node2vec) (1.15.0)\n",
            "Requirement already satisfied: scipy>=0.18.1 in /usr/local/lib/python3.7/dist-packages (from gensim->node2vec) (1.4.1)\n",
            "Requirement already satisfied: smart-open>=1.2.1 in /usr/local/lib/python3.7/dist-packages (from gensim->node2vec) (5.2.1)\n",
            "Building wheels for collected packages: node2vec\n",
            "  Building wheel for node2vec (setup.py) ... \u001b[?25l\u001b[?25hdone\n",
            "  Created wheel for node2vec: filename=node2vec-0.4.3-py3-none-any.whl size=5980 sha256=1e1a8c55311cf8f2b0b4393dddb72cea46e643b9774850fce8e7352c3ae6af4f\n",
            "  Stored in directory: /root/.cache/pip/wheels/07/62/78/5202cb8c03cbf1593b48a8a442fca8ceec2a8c80e22318bae9\n",
            "Successfully built node2vec\n",
            "Installing collected packages: node2vec\n",
            "Successfully installed node2vec-0.4.3\n"
          ]
        }
      ]
    },
    {
      "cell_type": "code",
      "source": [
        "from node2vec import Node2Vec\n",
        "from sklearn.decomposition import PCA\n",
        "import matplotlib.pyplot as plt\n",
        "%matplotlib inline"
      ],
      "metadata": {
        "id": "QHVFJVJsPo2W"
      },
      "id": "QHVFJVJsPo2W",
      "execution_count": null,
      "outputs": []
    },
    {
      "cell_type": "code",
      "source": [
        "node2vec = Node2Vec(G, dimensions=100, walk_length=30, num_walks=200, workers=4)"
      ],
      "metadata": {
        "id": "HT2aPhgTPo5c",
        "colab": {
          "base_uri": "https://localhost:8080/",
          "height": 49,
          "referenced_widgets": [
            "3e33d55c2c3f4d92974c28b7c4f15436",
            "b0f1aac7f26b4020b70de56179d96bc4",
            "732cafb91e6c49f6bcf34524c7ed41c2",
            "a160bf130c754f70ad4336481affd236",
            "32d0625dc9e0449a8668073eeb78761f",
            "4375c10211094aab8bc6f731ebd9dfb2",
            "e664f7cc00db43febcd2daa107c7b7d6",
            "f529c09a68494e13881c4962a03e0fde",
            "45364563ab42404b8b679f4f58396cc1",
            "d321708ece4b429f84ab1d708fbf5186",
            "89d5f9d3d5f3400ab1c1e0a75e24d29c"
          ]
        },
        "outputId": "dd179697-7649-4251-97cd-b7014df56f75"
      },
      "id": "HT2aPhgTPo5c",
      "execution_count": null,
      "outputs": [
        {
          "output_type": "display_data",
          "data": {
            "application/vnd.jupyter.widget-view+json": {
              "model_id": "3e33d55c2c3f4d92974c28b7c4f15436",
              "version_minor": 0,
              "version_major": 2
            },
            "text/plain": [
              "Computing transition probabilities:   0%|          | 0/1661 [00:00<?, ?it/s]"
            ]
          },
          "metadata": {}
        }
      ]
    },
    {
      "cell_type": "code",
      "source": [
        "n2v_model = node2vec.fit(window=10, min_count=1, batch_words=4)"
      ],
      "metadata": {
        "id": "7TN0xH6BPo_H"
      },
      "id": "7TN0xH6BPo_H",
      "execution_count": null,
      "outputs": []
    },
    {
      "cell_type": "code",
      "source": [
        "query = [target_words[i] for i in range(len(target_words)) if (target_words[i] in n2v_model.wv.vocab)]"
      ],
      "metadata": {
        "id": "lx_N0tVMrr4c"
      },
      "id": "lx_N0tVMrr4c",
      "execution_count": null,
      "outputs": []
    },
    {
      "cell_type": "code",
      "source": [
        "query"
      ],
      "metadata": {
        "colab": {
          "base_uri": "https://localhost:8080/"
        },
        "id": "LCmwsEg-kp42",
        "outputId": "651e1196-96e7-4cf7-c97c-8f05ac4d0d86"
      },
      "id": "LCmwsEg-kp42",
      "execution_count": null,
      "outputs": [
        {
          "output_type": "execute_result",
          "data": {
            "text/plain": [
              "['ccr9',\n",
              " 'cxcr6',\n",
              " 'abo',\n",
              " 'ifnar2',\n",
              " 'oas3',\n",
              " 'oas1',\n",
              " 'dpp9',\n",
              " 'tyk2',\n",
              " 'hla-g',\n",
              " 'hla-dpb1',\n",
              " 'ace2',\n",
              " 'muc5b']"
            ]
          },
          "metadata": {},
          "execution_count": 122
        }
      ]
    },
    {
      "cell_type": "code",
      "source": [
        "n2v_output = pd.DataFrame(n2v_model.wv.most_similar(positive = query, topn=30), columns=['упоминания', 'коэффициент'])"
      ],
      "metadata": {
        "id": "_gCWL2FtPpCR"
      },
      "id": "_gCWL2FtPpCR",
      "execution_count": null,
      "outputs": []
    },
    {
      "cell_type": "code",
      "source": [
        "import seaborn as sns\n",
        "sns.set_theme(style=\"ticks\", color_codes=True)"
      ],
      "metadata": {
        "id": "I6oYZ-M-PpFk"
      },
      "id": "I6oYZ-M-PpFk",
      "execution_count": null,
      "outputs": []
    },
    {
      "cell_type": "code",
      "source": [
        "g=sns.catplot(x='упоминания', y='коэффициент', data=n2v_output)\n",
        "g.set_xticklabels(rotation=90)\n",
        "g.fig.set_size_inches(15,5)\n",
        "plt.title('упоминания, похожие на запрос')"
      ],
      "metadata": {
        "id": "XOAUQ0rLPpH_",
        "colab": {
          "base_uri": "https://localhost:8080/",
          "height": 552
        },
        "outputId": "5d8c6e39-ce83-4adc-f5c0-d02939a4e88e"
      },
      "id": "XOAUQ0rLPpH_",
      "execution_count": null,
      "outputs": [
        {
          "output_type": "execute_result",
          "data": {
            "text/plain": [
              "Text(0.5, 1.0, 'упоминания, похожие на запрос')"
            ]
          },
          "metadata": {},
          "execution_count": 125
        },
        {
          "output_type": "display_data",
          "data": {
            "image/png": "[encoded data removed]",
            "text/plain": [
              "<Figure size 1080x360 with 1 Axes>"
            ]
          },
          "metadata": {}
        }
      ]
    },
    {
      "cell_type": "code",
      "source": [
        "communities =community_louvain.best_partition(G)"
      ],
      "metadata": {
        "id": "OVIloqM4vn2a"
      },
      "id": "OVIloqM4vn2a",
      "execution_count": null,
      "outputs": []
    },
    {
      "cell_type": "code",
      "source": [
        "community_id = [communities[node] for node in G.nodes()]"
      ],
      "metadata": {
        "id": "8u7B2jdnvoBl"
      },
      "id": "8u7B2jdnvoBl",
      "execution_count": null,
      "outputs": []
    },
    {
      "cell_type": "code",
      "source": [
        "community_list = pd.DataFrame(np.column_stack([G.nodes, community_id]), \n",
        "                               columns=['node', 'community'])\n",
        "\n",
        "community_list.community = community_list.community.astype(int)"
      ],
      "metadata": {
        "id": "raWOOLRp8lOW"
      },
      "id": "raWOOLRp8lOW",
      "execution_count": null,
      "outputs": []
    },
    {
      "cell_type": "code",
      "source": [
        "community_list.community.value_counts()"
      ],
      "metadata": {
        "colab": {
          "base_uri": "https://localhost:8080/"
        },
        "id": "ev2gPyYC8lSK",
        "outputId": "76727e62-d09a-4f90-9a52-c32e21ae7c41"
      },
      "id": "ev2gPyYC8lSK",
      "execution_count": null,
      "outputs": [
        {
          "output_type": "execute_result",
          "data": {
            "text/plain": [
              "4     360\n",
              "15    226\n",
              "2     204\n",
              "7     175\n",
              "8     110\n",
              "5      97\n",
              "11     84\n",
              "3      78\n",
              "13     77\n",
              "16     70\n",
              "10     70\n",
              "14     66\n",
              "6      36\n",
              "1       3\n",
              "9       2\n",
              "17      1\n",
              "0       1\n",
              "12      1\n",
              "Name: community, dtype: int64"
            ]
          },
          "metadata": {},
          "execution_count": 129
        }
      ]
    },
    {
      "cell_type": "code",
      "source": [
        "community_filter_word = community_list.loc[community_list['node'].str.contains('coronavirus')]"
      ],
      "metadata": {
        "id": "zBSE63V38lWz"
      },
      "id": "zBSE63V38lWz",
      "execution_count": null,
      "outputs": []
    },
    {
      "cell_type": "code",
      "source": [
        "community_filter_word"
      ],
      "metadata": {
        "colab": {
          "base_uri": "https://localhost:8080/",
          "height": 168
        },
        "id": "C7DVBpAL8lcq",
        "outputId": "0cb4d852-9201-473a-df4d-188dd0ab00c3"
      },
      "id": "C7DVBpAL8lcq",
      "execution_count": null,
      "outputs": [
        {
          "output_type": "execute_result",
          "data": {
            "text/html": [
              "\n",
              "  <div id=\"df-5443ae95-005d-4ae4-acaf-e8237b21ae91\">\n",
              "    <div class=\"colab-df-container\">\n",
              "      <div>\n",
              "<style scoped>\n",
              "    .dataframe tbody tr th:only-of-type {\n",
              "        vertical-align: middle;\n",
              "    }\n",
              "\n",
              "    .dataframe tbody tr th {\n",
              "        vertical-align: top;\n",
              "    }\n",
              "\n",
              "    .dataframe thead th {\n",
              "        text-align: right;\n",
              "    }\n",
              "</style>\n",
              "<table border=\"1\" class=\"dataframe\">\n",
              "  <thead>\n",
              "    <tr style=\"text-align: right;\">\n",
              "      <th></th>\n",
              "      <th>node</th>\n",
              "      <th>community</th>\n",
              "    </tr>\n",
              "  </thead>\n",
              "  <tbody>\n",
              "    <tr>\n",
              "      <th>51</th>\n",
              "      <td>coronavirus</td>\n",
              "      <td>4</td>\n",
              "    </tr>\n",
              "    <tr>\n",
              "      <th>1306</th>\n",
              "      <td>deltacoronavirus</td>\n",
              "      <td>4</td>\n",
              "    </tr>\n",
              "    <tr>\n",
              "      <th>1310</th>\n",
              "      <td>betacoronavirus</td>\n",
              "      <td>16</td>\n",
              "    </tr>\n",
              "    <tr>\n",
              "      <th>1311</th>\n",
              "      <td>bovine coronavirus</td>\n",
              "      <td>16</td>\n",
              "    </tr>\n",
              "  </tbody>\n",
              "</table>\n",
              "</div>\n",
              "      <button class=\"colab-df-convert\" onclick=\"convertToInteractive('df-5443ae95-005d-4ae4-acaf-e8237b21ae91')\"\n",
              "              title=\"Convert this dataframe to an interactive table.\"\n",
              "              style=\"display:none;\">\n",
              "        \n",
              "  <svg xmlns=\"http://www.w3.org/2000/svg\" height=\"24px\"viewBox=\"0 0 24 24\"\n",
              "       width=\"24px\">\n",
              "    <path d=\"M0 0h24v24H0V0z\" fill=\"none\"/>\n",
              "    <path d=\"M18.56 5.44l.94 2.06.94-2.06 2.06-.94-2.06-.94-.94-2.06-.94 2.06-2.06.94zm-11 1L8.5 8.5l.94-2.06 2.06-.94-2.06-.94L8.5 2.5l-.94 2.06-2.06.94zm10 10l.94 2.06.94-2.06 2.06-.94-2.06-.94-.94-2.06-.94 2.06-2.06.94z\"/><path d=\"M17.41 7.96l-1.37-1.37c-.4-.4-.92-.59-1.43-.59-.52 0-1.04.2-1.43.59L10.3 9.45l-7.72 7.72c-.78.78-.78 2.05 0 2.83L4 21.41c.39.39.9.59 1.41.59.51 0 1.02-.2 1.41-.59l7.78-7.78 2.81-2.81c.8-.78.8-2.07 0-2.86zM5.41 20L4 18.59l7.72-7.72 1.47 1.35L5.41 20z\"/>\n",
              "  </svg>\n",
              "      </button>\n",
              "      \n",
              "  <style>\n",
              "    .colab-df-container {\n",
              "      display:flex;\n",
              "      flex-wrap:wrap;\n",
              "      gap: 12px;\n",
              "    }\n",
              "\n",
              "    .colab-df-convert {\n",
              "      background-color: #E8F0FE;\n",
              "      border: none;\n",
              "      border-radius: 50%;\n",
              "      cursor: pointer;\n",
              "      display: none;\n",
              "      fill: #1967D2;\n",
              "      height: 32px;\n",
              "      padding: 0 0 0 0;\n",
              "      width: 32px;\n",
              "    }\n",
              "\n",
              "    .colab-df-convert:hover {\n",
              "      background-color: #E2EBFA;\n",
              "      box-shadow: 0px 1px 2px rgba(60, 64, 67, 0.3), 0px 1px 3px 1px rgba(60, 64, 67, 0.15);\n",
              "      fill: #174EA6;\n",
              "    }\n",
              "\n",
              "    [theme=dark] .colab-df-convert {\n",
              "      background-color: #3B4455;\n",
              "      fill: #D2E3FC;\n",
              "    }\n",
              "\n",
              "    [theme=dark] .colab-df-convert:hover {\n",
              "      background-color: #434B5C;\n",
              "      box-shadow: 0px 1px 3px 1px rgba(0, 0, 0, 0.15);\n",
              "      filter: drop-shadow(0px 1px 2px rgba(0, 0, 0, 0.3));\n",
              "      fill: #FFFFFF;\n",
              "    }\n",
              "  </style>\n",
              "\n",
              "      <script>\n",
              "        const buttonEl =\n",
              "          document.querySelector('#df-5443ae95-005d-4ae4-acaf-e8237b21ae91 button.colab-df-convert');\n",
              "        buttonEl.style.display =\n",
              "          google.colab.kernel.accessAllowed ? 'block' : 'none';\n",
              "\n",
              "        async function convertToInteractive(key) {\n",
              "          const element = document.querySelector('#df-5443ae95-005d-4ae4-acaf-e8237b21ae91');\n",
              "          const dataTable =\n",
              "            await google.colab.kernel.invokeFunction('convertToInteractive',\n",
              "                                                     [key], {});\n",
              "          if (!dataTable) return;\n",
              "\n",
              "          const docLinkHtml = 'Like what you see? Visit the ' +\n",
              "            '<a target=\"_blank\" href=https://colab.research.google.com/notebooks/data_table.ipynb>data table notebook</a>'\n",
              "            + ' to learn more about interactive tables.';\n",
              "          element.innerHTML = '';\n",
              "          dataTable['output_type'] = 'display_data';\n",
              "          await google.colab.output.renderOutput(dataTable, element);\n",
              "          const docLink = document.createElement('div');\n",
              "          docLink.innerHTML = docLinkHtml;\n",
              "          element.appendChild(docLink);\n",
              "        }\n",
              "      </script>\n",
              "    </div>\n",
              "  </div>\n",
              "  "
            ],
            "text/plain": [
              "                    node  community\n",
              "51           coronavirus          4\n",
              "1306    deltacoronavirus          4\n",
              "1310     betacoronavirus         16\n",
              "1311  bovine coronavirus         16"
            ]
          },
          "metadata": {},
          "execution_count": 131
        }
      ]
    },
    {
      "cell_type": "code",
      "source": [
        "community_filter = community_list.loc[community_list['community'] == 5]"
      ],
      "metadata": {
        "id": "C0bXGXwzjtn-"
      },
      "id": "C0bXGXwzjtn-",
      "execution_count": null,
      "outputs": []
    },
    {
      "cell_type": "code",
      "source": [
        "community_filter[:30]"
      ],
      "metadata": {
        "colab": {
          "base_uri": "https://localhost:8080/",
          "height": 948
        },
        "id": "bVlnRqKWj41r",
        "outputId": "1ca7b444-230c-4986-b27a-8ff5dbfd6362"
      },
      "id": "bVlnRqKWj41r",
      "execution_count": null,
      "outputs": [
        {
          "output_type": "execute_result",
          "data": {
            "text/html": [
              "\n",
              "  <div id=\"df-ffbdfceb-0842-4ecf-91aa-fa9d8f4e7ca1\">\n",
              "    <div class=\"colab-df-container\">\n",
              "      <div>\n",
              "<style scoped>\n",
              "    .dataframe tbody tr th:only-of-type {\n",
              "        vertical-align: middle;\n",
              "    }\n",
              "\n",
              "    .dataframe tbody tr th {\n",
              "        vertical-align: top;\n",
              "    }\n",
              "\n",
              "    .dataframe thead th {\n",
              "        text-align: right;\n",
              "    }\n",
              "</style>\n",
              "<table border=\"1\" class=\"dataframe\">\n",
              "  <thead>\n",
              "    <tr style=\"text-align: right;\">\n",
              "      <th></th>\n",
              "      <th>node</th>\n",
              "      <th>community</th>\n",
              "    </tr>\n",
              "  </thead>\n",
              "  <tbody>\n",
              "    <tr>\n",
              "      <th>9</th>\n",
              "      <td>ace2</td>\n",
              "      <td>5</td>\n",
              "    </tr>\n",
              "    <tr>\n",
              "      <th>10</th>\n",
              "      <td>enzyme</td>\n",
              "      <td>5</td>\n",
              "    </tr>\n",
              "    <tr>\n",
              "      <th>28</th>\n",
              "      <td>stress</td>\n",
              "      <td>5</td>\n",
              "    </tr>\n",
              "    <tr>\n",
              "      <th>44</th>\n",
              "      <td>peptide</td>\n",
              "      <td>5</td>\n",
              "    </tr>\n",
              "    <tr>\n",
              "      <th>45</th>\n",
              "      <td>ang</td>\n",
              "      <td>5</td>\n",
              "    </tr>\n",
              "    <tr>\n",
              "      <th>46</th>\n",
              "      <td>ace</td>\n",
              "      <td>5</td>\n",
              "    </tr>\n",
              "    <tr>\n",
              "      <th>47</th>\n",
              "      <td>mrna</td>\n",
              "      <td>5</td>\n",
              "    </tr>\n",
              "    <tr>\n",
              "      <th>48</th>\n",
              "      <td>lung</td>\n",
              "      <td>5</td>\n",
              "    </tr>\n",
              "    <tr>\n",
              "      <th>54</th>\n",
              "      <td>gfap</td>\n",
              "      <td>5</td>\n",
              "    </tr>\n",
              "    <tr>\n",
              "      <th>55</th>\n",
              "      <td>vasopressin</td>\n",
              "      <td>5</td>\n",
              "    </tr>\n",
              "    <tr>\n",
              "      <th>56</th>\n",
              "      <td>constipation</td>\n",
              "      <td>5</td>\n",
              "    </tr>\n",
              "    <tr>\n",
              "      <th>73</th>\n",
              "      <td>suicide</td>\n",
              "      <td>5</td>\n",
              "    </tr>\n",
              "    <tr>\n",
              "      <th>74</th>\n",
              "      <td>casein</td>\n",
              "      <td>5</td>\n",
              "    </tr>\n",
              "    <tr>\n",
              "      <th>77</th>\n",
              "      <td>ins</td>\n",
              "      <td>5</td>\n",
              "    </tr>\n",
              "    <tr>\n",
              "      <th>116</th>\n",
              "      <td>serotonin</td>\n",
              "      <td>5</td>\n",
              "    </tr>\n",
              "    <tr>\n",
              "      <th>141</th>\n",
              "      <td>cough</td>\n",
              "      <td>5</td>\n",
              "    </tr>\n",
              "    <tr>\n",
              "      <th>142</th>\n",
              "      <td>smooth muscle cell</td>\n",
              "      <td>5</td>\n",
              "    </tr>\n",
              "    <tr>\n",
              "      <th>143</th>\n",
              "      <td>enalapril</td>\n",
              "      <td>5</td>\n",
              "    </tr>\n",
              "    <tr>\n",
              "      <th>161</th>\n",
              "      <td>adrenal gland</td>\n",
              "      <td>5</td>\n",
              "    </tr>\n",
              "    <tr>\n",
              "      <th>162</th>\n",
              "      <td>nervous system</td>\n",
              "      <td>5</td>\n",
              "    </tr>\n",
              "    <tr>\n",
              "      <th>163</th>\n",
              "      <td>aldosterone</td>\n",
              "      <td>5</td>\n",
              "    </tr>\n",
              "    <tr>\n",
              "      <th>164</th>\n",
              "      <td>allopurinol</td>\n",
              "      <td>5</td>\n",
              "    </tr>\n",
              "    <tr>\n",
              "      <th>167</th>\n",
              "      <td>melatonin</td>\n",
              "      <td>5</td>\n",
              "    </tr>\n",
              "    <tr>\n",
              "      <th>192</th>\n",
              "      <td>src</td>\n",
              "      <td>5</td>\n",
              "    </tr>\n",
              "    <tr>\n",
              "      <th>234</th>\n",
              "      <td>egfr</td>\n",
              "      <td>5</td>\n",
              "    </tr>\n",
              "    <tr>\n",
              "      <th>251</th>\n",
              "      <td>ahi1</td>\n",
              "      <td>5</td>\n",
              "    </tr>\n",
              "    <tr>\n",
              "      <th>252</th>\n",
              "      <td>bdnf</td>\n",
              "      <td>5</td>\n",
              "    </tr>\n",
              "    <tr>\n",
              "      <th>255</th>\n",
              "      <td>pah</td>\n",
              "      <td>5</td>\n",
              "    </tr>\n",
              "    <tr>\n",
              "      <th>256</th>\n",
              "      <td>tryptophan</td>\n",
              "      <td>5</td>\n",
              "    </tr>\n",
              "    <tr>\n",
              "      <th>257</th>\n",
              "      <td>tph1</td>\n",
              "      <td>5</td>\n",
              "    </tr>\n",
              "  </tbody>\n",
              "</table>\n",
              "</div>\n",
              "      <button class=\"colab-df-convert\" onclick=\"convertToInteractive('df-ffbdfceb-0842-4ecf-91aa-fa9d8f4e7ca1')\"\n",
              "              title=\"Convert this dataframe to an interactive table.\"\n",
              "              style=\"display:none;\">\n",
              "        \n",
              "  <svg xmlns=\"http://www.w3.org/2000/svg\" height=\"24px\"viewBox=\"0 0 24 24\"\n",
              "       width=\"24px\">\n",
              "    <path d=\"M0 0h24v24H0V0z\" fill=\"none\"/>\n",
              "    <path d=\"M18.56 5.44l.94 2.06.94-2.06 2.06-.94-2.06-.94-.94-2.06-.94 2.06-2.06.94zm-11 1L8.5 8.5l.94-2.06 2.06-.94-2.06-.94L8.5 2.5l-.94 2.06-2.06.94zm10 10l.94 2.06.94-2.06 2.06-.94-2.06-.94-.94-2.06-.94 2.06-2.06.94z\"/><path d=\"M17.41 7.96l-1.37-1.37c-.4-.4-.92-.59-1.43-.59-.52 0-1.04.2-1.43.59L10.3 9.45l-7.72 7.72c-.78.78-.78 2.05 0 2.83L4 21.41c.39.39.9.59 1.41.59.51 0 1.02-.2 1.41-.59l7.78-7.78 2.81-2.81c.8-.78.8-2.07 0-2.86zM5.41 20L4 18.59l7.72-7.72 1.47 1.35L5.41 20z\"/>\n",
              "  </svg>\n",
              "      </button>\n",
              "      \n",
              "  <style>\n",
              "    .colab-df-container {\n",
              "      display:flex;\n",
              "      flex-wrap:wrap;\n",
              "      gap: 12px;\n",
              "    }\n",
              "\n",
              "    .colab-df-convert {\n",
              "      background-color: #E8F0FE;\n",
              "      border: none;\n",
              "      border-radius: 50%;\n",
              "      cursor: pointer;\n",
              "      display: none;\n",
              "      fill: #1967D2;\n",
              "      height: 32px;\n",
              "      padding: 0 0 0 0;\n",
              "      width: 32px;\n",
              "    }\n",
              "\n",
              "    .colab-df-convert:hover {\n",
              "      background-color: #E2EBFA;\n",
              "      box-shadow: 0px 1px 2px rgba(60, 64, 67, 0.3), 0px 1px 3px 1px rgba(60, 64, 67, 0.15);\n",
              "      fill: #174EA6;\n",
              "    }\n",
              "\n",
              "    [theme=dark] .colab-df-convert {\n",
              "      background-color: #3B4455;\n",
              "      fill: #D2E3FC;\n",
              "    }\n",
              "\n",
              "    [theme=dark] .colab-df-convert:hover {\n",
              "      background-color: #434B5C;\n",
              "      box-shadow: 0px 1px 3px 1px rgba(0, 0, 0, 0.15);\n",
              "      filter: drop-shadow(0px 1px 2px rgba(0, 0, 0, 0.3));\n",
              "      fill: #FFFFFF;\n",
              "    }\n",
              "  </style>\n",
              "\n",
              "      <script>\n",
              "        const buttonEl =\n",
              "          document.querySelector('#df-ffbdfceb-0842-4ecf-91aa-fa9d8f4e7ca1 button.colab-df-convert');\n",
              "        buttonEl.style.display =\n",
              "          google.colab.kernel.accessAllowed ? 'block' : 'none';\n",
              "\n",
              "        async function convertToInteractive(key) {\n",
              "          const element = document.querySelector('#df-ffbdfceb-0842-4ecf-91aa-fa9d8f4e7ca1');\n",
              "          const dataTable =\n",
              "            await google.colab.kernel.invokeFunction('convertToInteractive',\n",
              "                                                     [key], {});\n",
              "          if (!dataTable) return;\n",
              "\n",
              "          const docLinkHtml = 'Like what you see? Visit the ' +\n",
              "            '<a target=\"_blank\" href=https://colab.research.google.com/notebooks/data_table.ipynb>data table notebook</a>'\n",
              "            + ' to learn more about interactive tables.';\n",
              "          element.innerHTML = '';\n",
              "          dataTable['output_type'] = 'display_data';\n",
              "          await google.colab.output.renderOutput(dataTable, element);\n",
              "          const docLink = document.createElement('div');\n",
              "          docLink.innerHTML = docLinkHtml;\n",
              "          element.appendChild(docLink);\n",
              "        }\n",
              "      </script>\n",
              "    </div>\n",
              "  </div>\n",
              "  "
            ],
            "text/plain": [
              "                   node  community\n",
              "9                  ace2          5\n",
              "10               enzyme          5\n",
              "28               stress          5\n",
              "44              peptide          5\n",
              "45                  ang          5\n",
              "46                  ace          5\n",
              "47                 mrna          5\n",
              "48                 lung          5\n",
              "54                 gfap          5\n",
              "55          vasopressin          5\n",
              "56         constipation          5\n",
              "73              suicide          5\n",
              "74               casein          5\n",
              "77                  ins          5\n",
              "116           serotonin          5\n",
              "141               cough          5\n",
              "142  smooth muscle cell          5\n",
              "143           enalapril          5\n",
              "161       adrenal gland          5\n",
              "162      nervous system          5\n",
              "163         aldosterone          5\n",
              "164         allopurinol          5\n",
              "167           melatonin          5\n",
              "192                 src          5\n",
              "234                egfr          5\n",
              "251                ahi1          5\n",
              "252                bdnf          5\n",
              "255                 pah          5\n",
              "256          tryptophan          5\n",
              "257                tph1          5"
            ]
          },
          "metadata": {},
          "execution_count": 133
        }
      ]
    },
    {
      "cell_type": "markdown",
      "source": [
        "(дополнительно)\n",
        "# Шаг 7"
      ],
      "metadata": {
        "id": "XOrfOAxXHamB"
      },
      "id": "XOrfOAxXHamB"
    },
    {
      "cell_type": "markdown",
      "source": [
        "Используем эмбеддинги графа для задачи мультиклассификации с помощью моделей классического машинного обучения (градиентного бустинга)"
      ],
      "metadata": {
        "id": "uD3p3MAMHd8P"
      },
      "id": "uD3p3MAMHd8P"
    },
    {
      "cell_type": "code",
      "source": [
        "df_target = community_list.copy()"
      ],
      "metadata": {
        "id": "J4lgTxR68lhD"
      },
      "id": "J4lgTxR68lhD",
      "execution_count": null,
      "outputs": []
    },
    {
      "cell_type": "code",
      "source": [
        "df_target.head()"
      ],
      "metadata": {
        "colab": {
          "base_uri": "https://localhost:8080/",
          "height": 198
        },
        "id": "nz8RHNv78lk1",
        "outputId": "20d7c1c4-2647-4c94-b6d0-86c9bad54d0f"
      },
      "id": "nz8RHNv78lk1",
      "execution_count": null,
      "outputs": [
        {
          "output_type": "execute_result",
          "data": {
            "text/html": [
              "\n",
              "  <div id=\"df-86e18dae-e57b-4daa-bf80-493215ad6984\">\n",
              "    <div class=\"colab-df-container\">\n",
              "      <div>\n",
              "<style scoped>\n",
              "    .dataframe tbody tr th:only-of-type {\n",
              "        vertical-align: middle;\n",
              "    }\n",
              "\n",
              "    .dataframe tbody tr th {\n",
              "        vertical-align: top;\n",
              "    }\n",
              "\n",
              "    .dataframe thead th {\n",
              "        text-align: right;\n",
              "    }\n",
              "</style>\n",
              "<table border=\"1\" class=\"dataframe\">\n",
              "  <thead>\n",
              "    <tr style=\"text-align: right;\">\n",
              "      <th></th>\n",
              "      <th>node</th>\n",
              "      <th>community</th>\n",
              "    </tr>\n",
              "  </thead>\n",
              "  <tbody>\n",
              "    <tr>\n",
              "      <th>0</th>\n",
              "      <td>trpa1</td>\n",
              "      <td>6</td>\n",
              "    </tr>\n",
              "    <tr>\n",
              "      <th>1</th>\n",
              "      <td>ca2</td>\n",
              "      <td>4</td>\n",
              "    </tr>\n",
              "    <tr>\n",
              "      <th>2</th>\n",
              "      <td>tlr9</td>\n",
              "      <td>2</td>\n",
              "    </tr>\n",
              "    <tr>\n",
              "      <th>3</th>\n",
              "      <td>ethanol</td>\n",
              "      <td>3</td>\n",
              "    </tr>\n",
              "    <tr>\n",
              "      <th>4</th>\n",
              "      <td>rho</td>\n",
              "      <td>6</td>\n",
              "    </tr>\n",
              "  </tbody>\n",
              "</table>\n",
              "</div>\n",
              "      <button class=\"colab-df-convert\" onclick=\"convertToInteractive('df-86e18dae-e57b-4daa-bf80-493215ad6984')\"\n",
              "              title=\"Convert this dataframe to an interactive table.\"\n",
              "              style=\"display:none;\">\n",
              "        \n",
              "  <svg xmlns=\"http://www.w3.org/2000/svg\" height=\"24px\"viewBox=\"0 0 24 24\"\n",
              "       width=\"24px\">\n",
              "    <path d=\"M0 0h24v24H0V0z\" fill=\"none\"/>\n",
              "    <path d=\"M18.56 5.44l.94 2.06.94-2.06 2.06-.94-2.06-.94-.94-2.06-.94 2.06-2.06.94zm-11 1L8.5 8.5l.94-2.06 2.06-.94-2.06-.94L8.5 2.5l-.94 2.06-2.06.94zm10 10l.94 2.06.94-2.06 2.06-.94-2.06-.94-.94-2.06-.94 2.06-2.06.94z\"/><path d=\"M17.41 7.96l-1.37-1.37c-.4-.4-.92-.59-1.43-.59-.52 0-1.04.2-1.43.59L10.3 9.45l-7.72 7.72c-.78.78-.78 2.05 0 2.83L4 21.41c.39.39.9.59 1.41.59.51 0 1.02-.2 1.41-.59l7.78-7.78 2.81-2.81c.8-.78.8-2.07 0-2.86zM5.41 20L4 18.59l7.72-7.72 1.47 1.35L5.41 20z\"/>\n",
              "  </svg>\n",
              "      </button>\n",
              "      \n",
              "  <style>\n",
              "    .colab-df-container {\n",
              "      display:flex;\n",
              "      flex-wrap:wrap;\n",
              "      gap: 12px;\n",
              "    }\n",
              "\n",
              "    .colab-df-convert {\n",
              "      background-color: #E8F0FE;\n",
              "      border: none;\n",
              "      border-radius: 50%;\n",
              "      cursor: pointer;\n",
              "      display: none;\n",
              "      fill: #1967D2;\n",
              "      height: 32px;\n",
              "      padding: 0 0 0 0;\n",
              "      width: 32px;\n",
              "    }\n",
              "\n",
              "    .colab-df-convert:hover {\n",
              "      background-color: #E2EBFA;\n",
              "      box-shadow: 0px 1px 2px rgba(60, 64, 67, 0.3), 0px 1px 3px 1px rgba(60, 64, 67, 0.15);\n",
              "      fill: #174EA6;\n",
              "    }\n",
              "\n",
              "    [theme=dark] .colab-df-convert {\n",
              "      background-color: #3B4455;\n",
              "      fill: #D2E3FC;\n",
              "    }\n",
              "\n",
              "    [theme=dark] .colab-df-convert:hover {\n",
              "      background-color: #434B5C;\n",
              "      box-shadow: 0px 1px 3px 1px rgba(0, 0, 0, 0.15);\n",
              "      filter: drop-shadow(0px 1px 2px rgba(0, 0, 0, 0.3));\n",
              "      fill: #FFFFFF;\n",
              "    }\n",
              "  </style>\n",
              "\n",
              "      <script>\n",
              "        const buttonEl =\n",
              "          document.querySelector('#df-86e18dae-e57b-4daa-bf80-493215ad6984 button.colab-df-convert');\n",
              "        buttonEl.style.display =\n",
              "          google.colab.kernel.accessAllowed ? 'block' : 'none';\n",
              "\n",
              "        async function convertToInteractive(key) {\n",
              "          const element = document.querySelector('#df-86e18dae-e57b-4daa-bf80-493215ad6984');\n",
              "          const dataTable =\n",
              "            await google.colab.kernel.invokeFunction('convertToInteractive',\n",
              "                                                     [key], {});\n",
              "          if (!dataTable) return;\n",
              "\n",
              "          const docLinkHtml = 'Like what you see? Visit the ' +\n",
              "            '<a target=\"_blank\" href=https://colab.research.google.com/notebooks/data_table.ipynb>data table notebook</a>'\n",
              "            + ' to learn more about interactive tables.';\n",
              "          element.innerHTML = '';\n",
              "          dataTable['output_type'] = 'display_data';\n",
              "          await google.colab.output.renderOutput(dataTable, element);\n",
              "          const docLink = document.createElement('div');\n",
              "          docLink.innerHTML = docLinkHtml;\n",
              "          element.appendChild(docLink);\n",
              "        }\n",
              "      </script>\n",
              "    </div>\n",
              "  </div>\n",
              "  "
            ],
            "text/plain": [
              "      node  community\n",
              "0    trpa1          6\n",
              "1      ca2          4\n",
              "2     tlr9          2\n",
              "3  ethanol          3\n",
              "4      rho          6"
            ]
          },
          "metadata": {},
          "execution_count": 135
        }
      ]
    },
    {
      "cell_type": "code",
      "source": [
        "x = [(n2v_model.wv[str(i)]) for i in df_target['node']]"
      ],
      "metadata": {
        "id": "QWyG5a6N8lnB"
      },
      "id": "QWyG5a6N8lnB",
      "execution_count": null,
      "outputs": []
    },
    {
      "cell_type": "code",
      "source": [
        "emb_df_untarget = pd.DataFrame(x, index = df_target['node'])"
      ],
      "metadata": {
        "id": "ZAaU8o4V8lp_"
      },
      "id": "ZAaU8o4V8lp_",
      "execution_count": null,
      "outputs": []
    },
    {
      "cell_type": "code",
      "source": [
        "df_target.set_index('node', inplace=True)"
      ],
      "metadata": {
        "id": "SRHQj6xZ8lsz"
      },
      "id": "SRHQj6xZ8lsz",
      "execution_count": null,
      "outputs": []
    },
    {
      "cell_type": "code",
      "source": [
        "emb_df_target = df_target.join(emb_df_untarget)"
      ],
      "metadata": {
        "id": "C3VdIycT8l8j"
      },
      "id": "C3VdIycT8l8j",
      "execution_count": null,
      "outputs": []
    },
    {
      "cell_type": "code",
      "source": [
        "df_train = emb_df_target"
      ],
      "metadata": {
        "id": "G96p-FrJ8l_n"
      },
      "id": "G96p-FrJ8l_n",
      "execution_count": null,
      "outputs": []
    },
    {
      "cell_type": "code",
      "source": [
        "from sklearn.model_selection import train_test_split"
      ],
      "metadata": {
        "id": "yyUH7ZIm9MZL"
      },
      "id": "yyUH7ZIm9MZL",
      "execution_count": null,
      "outputs": []
    },
    {
      "cell_type": "code",
      "source": [
        "data_full = df_train.copy()\n",
        "X_data = data_full.drop('community', axis=1)\n",
        "y = data_full.community"
      ],
      "metadata": {
        "id": "y5ejRAD19Mc3"
      },
      "id": "y5ejRAD19Mc3",
      "execution_count": null,
      "outputs": []
    },
    {
      "cell_type": "code",
      "source": [
        "from xgboost import XGBClassifier\n",
        "from sklearn.model_selection import train_test_split\n",
        "from sklearn.metrics import accuracy_score\n",
        "from sklearn.preprocessing import LabelEncoder"
      ],
      "metadata": {
        "id": "F9vqMgHRAwJJ"
      },
      "id": "F9vqMgHRAwJJ",
      "execution_count": null,
      "outputs": []
    },
    {
      "cell_type": "code",
      "source": [
        "label_encoder = LabelEncoder()\n",
        "label_encoder = label_encoder.fit(y)\n",
        "label_encoded_y = label_encoder.transform(y)\n",
        "seed = 7\n",
        "test_size = 0.33\n",
        "X_train, X_test, y_train, y_test = train_test_split(X_data, label_encoded_y,test_size=test_size, random_state=seed)\n",
        "xgb = XGBClassifier(\n",
        "    #max_depth=2,\n",
        "    #gamma=2,\n",
        "    #eta=0.8,\n",
        "    #reg_alpha=0.5,\n",
        "    #reg_lambda=0.5\n",
        ")\n",
        "xgb.fit(X_train, y_train)"
      ],
      "metadata": {
        "colab": {
          "base_uri": "https://localhost:8080/"
        },
        "id": "f_kGBaXgAwMW",
        "outputId": "0de60004-c625-4f14-d277-211fa385e815"
      },
      "id": "f_kGBaXgAwMW",
      "execution_count": null,
      "outputs": [
        {
          "output_type": "execute_result",
          "data": {
            "text/plain": [
              "XGBClassifier(objective='multi:softprob')"
            ]
          },
          "metadata": {},
          "execution_count": 144
        }
      ]
    },
    {
      "cell_type": "code",
      "source": [
        "predictions = xgb.predict(X_test)\n",
        "accuracy = accuracy_score(y_test, predictions)\n",
        "print(\"Accuracy: %.2f%%\" % (accuracy * 100.0))"
      ],
      "metadata": {
        "colab": {
          "base_uri": "https://localhost:8080/"
        },
        "id": "ioCkTx4GAwPP",
        "outputId": "bed6de00-fe7f-4c64-a5ac-5f7e730f77d9"
      },
      "id": "ioCkTx4GAwPP",
      "execution_count": null,
      "outputs": [
        {
          "output_type": "stream",
          "name": "stdout",
          "text": [
            "Accuracy: 83.79%\n"
          ]
        }
      ]
    }
  ],
  "metadata": {
    "colab": {
      "collapsed_sections": [],
      "name": "st_biology_covid.ipynb",
      "provenance": [],
      "include_colab_link": true
    },
    "kernelspec": {
      "display_name": "Python 3",
      "language": "python",
      "name": "python3"
    },
    "language_info": {
      "codemirror_mode": {
        "name": "ipython",
        "version": 3
      },
      "file_extension": ".py",
      "mimetype": "text/x-python",
      "name": "python",
      "nbconvert_exporter": "python",
      "pygments_lexer": "ipython3",
      "version": "3.8.8"
    },
    "widgets": {
      "application/vnd.jupyter.widget-state+json": {
        "c32ba7c3823c4c3b91e34fa8efd0b0fb": {
          "model_module": "@jupyter-widgets/controls",
          "model_name": "HBoxModel",
          "model_module_version": "1.5.0",
          "state": {
            "_view_name": "HBoxView",
            "_dom_classes": [],
            "_model_name": "HBoxModel",
            "_view_module": "@jupyter-widgets/controls",
            "_model_module_version": "1.5.0",
            "_view_count": null,
            "_view_module_version": "1.5.0",
            "box_style": "",
            "layout": "IPY_MODEL_d8b11ae32f7a4ea6ac36a481211b89c2",
            "_model_module": "@jupyter-widgets/controls",
            "children": [
              "IPY_MODEL_a1bf7364758c48ab8df6f9d9aad9f76f",
              "IPY_MODEL_6e805d6000e84544840ce311c32ccf30",
              "IPY_MODEL_75b98b7e63104728ad67c352dfa16ebb"
            ]
          }
        },
        "d8b11ae32f7a4ea6ac36a481211b89c2": {
          "model_module": "@jupyter-widgets/base",
          "model_name": "LayoutModel",
          "model_module_version": "1.2.0",
          "state": {
            "_view_name": "LayoutView",
            "grid_template_rows": null,
            "right": null,
            "justify_content": null,
            "_view_module": "@jupyter-widgets/base",
            "overflow": null,
            "_model_module_version": "1.2.0",
            "_view_count": null,
            "flex_flow": null,
            "width": null,
            "min_width": null,
            "border": null,
            "align_items": null,
            "bottom": null,
            "_model_module": "@jupyter-widgets/base",
            "top": null,
            "grid_column": null,
            "overflow_y": null,
            "overflow_x": null,
            "grid_auto_flow": null,
            "grid_area": null,
            "grid_template_columns": null,
            "flex": null,
            "_model_name": "LayoutModel",
            "justify_items": null,
            "grid_row": null,
            "max_height": null,
            "align_content": null,
            "visibility": null,
            "align_self": null,
            "height": null,
            "min_height": null,
            "padding": null,
            "grid_auto_rows": null,
            "grid_gap": null,
            "max_width": null,
            "order": null,
            "_view_module_version": "1.2.0",
            "grid_template_areas": null,
            "object_position": null,
            "object_fit": null,
            "grid_auto_columns": null,
            "margin": null,
            "display": null,
            "left": null
          }
        },
        "a1bf7364758c48ab8df6f9d9aad9f76f": {
          "model_module": "@jupyter-widgets/controls",
          "model_name": "HTMLModel",
          "model_module_version": "1.5.0",
          "state": {
            "_view_name": "HTMLView",
            "style": "IPY_MODEL_f57eb4720e244fe38738234d225f634f",
            "_dom_classes": [],
            "description": "",
            "_model_name": "HTMLModel",
            "placeholder": "​",
            "_view_module": "@jupyter-widgets/controls",
            "_model_module_version": "1.5.0",
            "value": "Downloading: 100%",
            "_view_count": null,
            "_view_module_version": "1.5.0",
            "description_tooltip": null,
            "_model_module": "@jupyter-widgets/controls",
            "layout": "IPY_MODEL_bf6449e38c0340ef850c4560cbc7a26c"
          }
        },
        "6e805d6000e84544840ce311c32ccf30": {
          "model_module": "@jupyter-widgets/controls",
          "model_name": "FloatProgressModel",
          "model_module_version": "1.5.0",
          "state": {
            "_view_name": "ProgressView",
            "style": "IPY_MODEL_a4150e5eb1814df4a2a4c064d1b1e675",
            "_dom_classes": [],
            "description": "",
            "_model_name": "FloatProgressModel",
            "bar_style": "success",
            "max": 737,
            "_view_module": "@jupyter-widgets/controls",
            "_model_module_version": "1.5.0",
            "value": 737,
            "_view_count": null,
            "_view_module_version": "1.5.0",
            "orientation": "horizontal",
            "min": 0,
            "description_tooltip": null,
            "_model_module": "@jupyter-widgets/controls",
            "layout": "IPY_MODEL_d718f32d30b04a5391c90de105849ed1"
          }
        },
        "75b98b7e63104728ad67c352dfa16ebb": {
          "model_module": "@jupyter-widgets/controls",
          "model_name": "HTMLModel",
          "model_module_version": "1.5.0",
          "state": {
            "_view_name": "HTMLView",
            "style": "IPY_MODEL_a1cba117f2ee473ab3f8a8e367373e8c",
            "_dom_classes": [],
            "description": "",
            "_model_name": "HTMLModel",
            "placeholder": "​",
            "_view_module": "@jupyter-widgets/controls",
            "_model_module_version": "1.5.0",
            "value": " 737/737 [00:00&lt;00:00, 5.75kB/s]",
            "_view_count": null,
            "_view_module_version": "1.5.0",
            "description_tooltip": null,
            "_model_module": "@jupyter-widgets/controls",
            "layout": "IPY_MODEL_94f06fa9b41b4f8ea54b2a4bc1f40f91"
          }
        },
        "f57eb4720e244fe38738234d225f634f": {
          "model_module": "@jupyter-widgets/controls",
          "model_name": "DescriptionStyleModel",
          "model_module_version": "1.5.0",
          "state": {
            "_view_name": "StyleView",
            "_model_name": "DescriptionStyleModel",
            "description_width": "",
            "_view_module": "@jupyter-widgets/base",
            "_model_module_version": "1.5.0",
            "_view_count": null,
            "_view_module_version": "1.2.0",
            "_model_module": "@jupyter-widgets/controls"
          }
        },
        "bf6449e38c0340ef850c4560cbc7a26c": {
          "model_module": "@jupyter-widgets/base",
          "model_name": "LayoutModel",
          "model_module_version": "1.2.0",
          "state": {
            "_view_name": "LayoutView",
            "grid_template_rows": null,
            "right": null,
            "justify_content": null,
            "_view_module": "@jupyter-widgets/base",
            "overflow": null,
            "_model_module_version": "1.2.0",
            "_view_count": null,
            "flex_flow": null,
            "width": null,
            "min_width": null,
            "border": null,
            "align_items": null,
            "bottom": null,
            "_model_module": "@jupyter-widgets/base",
            "top": null,
            "grid_column": null,
            "overflow_y": null,
            "overflow_x": null,
            "grid_auto_flow": null,
            "grid_area": null,
            "grid_template_columns": null,
            "flex": null,
            "_model_name": "LayoutModel",
            "justify_items": null,
            "grid_row": null,
            "max_height": null,
            "align_content": null,
            "visibility": null,
            "align_self": null,
            "height": null,
            "min_height": null,
            "padding": null,
            "grid_auto_rows": null,
            "grid_gap": null,
            "max_width": null,
            "order": null,
            "_view_module_version": "1.2.0",
            "grid_template_areas": null,
            "object_position": null,
            "object_fit": null,
            "grid_auto_columns": null,
            "margin": null,
            "display": null,
            "left": null
          }
        },
        "a4150e5eb1814df4a2a4c064d1b1e675": {
          "model_module": "@jupyter-widgets/controls",
          "model_name": "ProgressStyleModel",
          "model_module_version": "1.5.0",
          "state": {
            "_view_name": "StyleView",
            "_model_name": "ProgressStyleModel",
            "description_width": "",
            "_view_module": "@jupyter-widgets/base",
            "_model_module_version": "1.5.0",
            "_view_count": null,
            "_view_module_version": "1.2.0",
            "bar_color": null,
            "_model_module": "@jupyter-widgets/controls"
          }
        },
        "d718f32d30b04a5391c90de105849ed1": {
          "model_module": "@jupyter-widgets/base",
          "model_name": "LayoutModel",
          "model_module_version": "1.2.0",
          "state": {
            "_view_name": "LayoutView",
            "grid_template_rows": null,
            "right": null,
            "justify_content": null,
            "_view_module": "@jupyter-widgets/base",
            "overflow": null,
            "_model_module_version": "1.2.0",
            "_view_count": null,
            "flex_flow": null,
            "width": null,
            "min_width": null,
            "border": null,
            "align_items": null,
            "bottom": null,
            "_model_module": "@jupyter-widgets/base",
            "top": null,
            "grid_column": null,
            "overflow_y": null,
            "overflow_x": null,
            "grid_auto_flow": null,
            "grid_area": null,
            "grid_template_columns": null,
            "flex": null,
            "_model_name": "LayoutModel",
            "justify_items": null,
            "grid_row": null,
            "max_height": null,
            "align_content": null,
            "visibility": null,
            "align_self": null,
            "height": null,
            "min_height": null,
            "padding": null,
            "grid_auto_rows": null,
            "grid_gap": null,
            "max_width": null,
            "order": null,
            "_view_module_version": "1.2.0",
            "grid_template_areas": null,
            "object_position": null,
            "object_fit": null,
            "grid_auto_columns": null,
            "margin": null,
            "display": null,
            "left": null
          }
        },
        "a1cba117f2ee473ab3f8a8e367373e8c": {
          "model_module": "@jupyter-widgets/controls",
          "model_name": "DescriptionStyleModel",
          "model_module_version": "1.5.0",
          "state": {
            "_view_name": "StyleView",
            "_model_name": "DescriptionStyleModel",
            "description_width": "",
            "_view_module": "@jupyter-widgets/base",
            "_model_module_version": "1.5.0",
            "_view_count": null,
            "_view_module_version": "1.2.0",
            "_model_module": "@jupyter-widgets/controls"
          }
        },
        "94f06fa9b41b4f8ea54b2a4bc1f40f91": {
          "model_module": "@jupyter-widgets/base",
          "model_name": "LayoutModel",
          "model_module_version": "1.2.0",
          "state": {
            "_view_name": "LayoutView",
            "grid_template_rows": null,
            "right": null,
            "justify_content": null,
            "_view_module": "@jupyter-widgets/base",
            "overflow": null,
            "_model_module_version": "1.2.0",
            "_view_count": null,
            "flex_flow": null,
            "width": null,
            "min_width": null,
            "border": null,
            "align_items": null,
            "bottom": null,
            "_model_module": "@jupyter-widgets/base",
            "top": null,
            "grid_column": null,
            "overflow_y": null,
            "overflow_x": null,
            "grid_auto_flow": null,
            "grid_area": null,
            "grid_template_columns": null,
            "flex": null,
            "_model_name": "LayoutModel",
            "justify_items": null,
            "grid_row": null,
            "max_height": null,
            "align_content": null,
            "visibility": null,
            "align_self": null,
            "height": null,
            "min_height": null,
            "padding": null,
            "grid_auto_rows": null,
            "grid_gap": null,
            "max_width": null,
            "order": null,
            "_view_module_version": "1.2.0",
            "grid_template_areas": null,
            "object_position": null,
            "object_fit": null,
            "grid_auto_columns": null,
            "margin": null,
            "display": null,
            "left": null
          }
        },
        "80e0391bc50f4821b4075ce802cab276": {
          "model_module": "@jupyter-widgets/controls",
          "model_name": "HBoxModel",
          "model_module_version": "1.5.0",
          "state": {
            "_view_name": "HBoxView",
            "_dom_classes": [],
            "_model_name": "HBoxModel",
            "_view_module": "@jupyter-widgets/controls",
            "_model_module_version": "1.5.0",
            "_view_count": null,
            "_view_module_version": "1.5.0",
            "box_style": "",
            "layout": "IPY_MODEL_691fa8513112491e9d9407931d374620",
            "_model_module": "@jupyter-widgets/controls",
            "children": [
              "IPY_MODEL_a33fd27c720048b58c5a849b44c6c8ad",
              "IPY_MODEL_efd855c4c7c54bd29118f71cb228e6bb",
              "IPY_MODEL_656006123045455d8ff3eb979eff052a"
            ]
          }
        },
        "691fa8513112491e9d9407931d374620": {
          "model_module": "@jupyter-widgets/base",
          "model_name": "LayoutModel",
          "model_module_version": "1.2.0",
          "state": {
            "_view_name": "LayoutView",
            "grid_template_rows": null,
            "right": null,
            "justify_content": null,
            "_view_module": "@jupyter-widgets/base",
            "overflow": null,
            "_model_module_version": "1.2.0",
            "_view_count": null,
            "flex_flow": null,
            "width": null,
            "min_width": null,
            "border": null,
            "align_items": null,
            "bottom": null,
            "_model_module": "@jupyter-widgets/base",
            "top": null,
            "grid_column": null,
            "overflow_y": null,
            "overflow_x": null,
            "grid_auto_flow": null,
            "grid_area": null,
            "grid_template_columns": null,
            "flex": null,
            "_model_name": "LayoutModel",
            "justify_items": null,
            "grid_row": null,
            "max_height": null,
            "align_content": null,
            "visibility": null,
            "align_self": null,
            "height": null,
            "min_height": null,
            "padding": null,
            "grid_auto_rows": null,
            "grid_gap": null,
            "max_width": null,
            "order": null,
            "_view_module_version": "1.2.0",
            "grid_template_areas": null,
            "object_position": null,
            "object_fit": null,
            "grid_auto_columns": null,
            "margin": null,
            "display": null,
            "left": null
          }
        },
        "a33fd27c720048b58c5a849b44c6c8ad": {
          "model_module": "@jupyter-widgets/controls",
          "model_name": "HTMLModel",
          "model_module_version": "1.5.0",
          "state": {
            "_view_name": "HTMLView",
            "style": "IPY_MODEL_b937e9fced8e4d67bc7e8b2777c66acf",
            "_dom_classes": [],
            "description": "",
            "_model_name": "HTMLModel",
            "placeholder": "​",
            "_view_module": "@jupyter-widgets/controls",
            "_model_module_version": "1.5.0",
            "value": "Downloading: 100%",
            "_view_count": null,
            "_view_module_version": "1.5.0",
            "description_tooltip": null,
            "_model_module": "@jupyter-widgets/controls",
            "layout": "IPY_MODEL_546f3144208c492f96cafad9db143732"
          }
        },
        "efd855c4c7c54bd29118f71cb228e6bb": {
          "model_module": "@jupyter-widgets/controls",
          "model_name": "FloatProgressModel",
          "model_module_version": "1.5.0",
          "state": {
            "_view_name": "ProgressView",
            "style": "IPY_MODEL_19708d4f906840a9917e0933ac74281e",
            "_dom_classes": [],
            "description": "",
            "_model_name": "FloatProgressModel",
            "bar_style": "success",
            "max": 9858,
            "_view_module": "@jupyter-widgets/controls",
            "_model_module_version": "1.5.0",
            "value": 9858,
            "_view_count": null,
            "_view_module_version": "1.5.0",
            "orientation": "horizontal",
            "min": 0,
            "description_tooltip": null,
            "_model_module": "@jupyter-widgets/controls",
            "layout": "IPY_MODEL_60cf7eedcd4f4103bd9305a8af85e65b"
          }
        },
        "656006123045455d8ff3eb979eff052a": {
          "model_module": "@jupyter-widgets/controls",
          "model_name": "HTMLModel",
          "model_module_version": "1.5.0",
          "state": {
            "_view_name": "HTMLView",
            "style": "IPY_MODEL_412c94f369d442908268465a83d24885",
            "_dom_classes": [],
            "description": "",
            "_model_name": "HTMLModel",
            "placeholder": "​",
            "_view_module": "@jupyter-widgets/controls",
            "_model_module_version": "1.5.0",
            "value": " 9.86k/9.86k [00:00&lt;00:00, 219kB/s]",
            "_view_count": null,
            "_view_module_version": "1.5.0",
            "description_tooltip": null,
            "_model_module": "@jupyter-widgets/controls",
            "layout": "IPY_MODEL_b91a84b56b5741ef9d84ed9118b1e4b8"
          }
        },
        "b937e9fced8e4d67bc7e8b2777c66acf": {
          "model_module": "@jupyter-widgets/controls",
          "model_name": "DescriptionStyleModel",
          "model_module_version": "1.5.0",
          "state": {
            "_view_name": "StyleView",
            "_model_name": "DescriptionStyleModel",
            "description_width": "",
            "_view_module": "@jupyter-widgets/base",
            "_model_module_version": "1.5.0",
            "_view_count": null,
            "_view_module_version": "1.2.0",
            "_model_module": "@jupyter-widgets/controls"
          }
        },
        "546f3144208c492f96cafad9db143732": {
          "model_module": "@jupyter-widgets/base",
          "model_name": "LayoutModel",
          "model_module_version": "1.2.0",
          "state": {
            "_view_name": "LayoutView",
            "grid_template_rows": null,
            "right": null,
            "justify_content": null,
            "_view_module": "@jupyter-widgets/base",
            "overflow": null,
            "_model_module_version": "1.2.0",
            "_view_count": null,
            "flex_flow": null,
            "width": null,
            "min_width": null,
            "border": null,
            "align_items": null,
            "bottom": null,
            "_model_module": "@jupyter-widgets/base",
            "top": null,
            "grid_column": null,
            "overflow_y": null,
            "overflow_x": null,
            "grid_auto_flow": null,
            "grid_area": null,
            "grid_template_columns": null,
            "flex": null,
            "_model_name": "LayoutModel",
            "justify_items": null,
            "grid_row": null,
            "max_height": null,
            "align_content": null,
            "visibility": null,
            "align_self": null,
            "height": null,
            "min_height": null,
            "padding": null,
            "grid_auto_rows": null,
            "grid_gap": null,
            "max_width": null,
            "order": null,
            "_view_module_version": "1.2.0",
            "grid_template_areas": null,
            "object_position": null,
            "object_fit": null,
            "grid_auto_columns": null,
            "margin": null,
            "display": null,
            "left": null
          }
        },
        "19708d4f906840a9917e0933ac74281e": {
          "model_module": "@jupyter-widgets/controls",
          "model_name": "ProgressStyleModel",
          "model_module_version": "1.5.0",
          "state": {
            "_view_name": "StyleView",
            "_model_name": "ProgressStyleModel",
            "description_width": "",
            "_view_module": "@jupyter-widgets/base",
            "_model_module_version": "1.5.0",
            "_view_count": null,
            "_view_module_version": "1.2.0",
            "bar_color": null,
            "_model_module": "@jupyter-widgets/controls"
          }
        },
        "60cf7eedcd4f4103bd9305a8af85e65b": {
          "model_module": "@jupyter-widgets/base",
          "model_name": "LayoutModel",
          "model_module_version": "1.2.0",
          "state": {
            "_view_name": "LayoutView",
            "grid_template_rows": null,
            "right": null,
            "justify_content": null,
            "_view_module": "@jupyter-widgets/base",
            "overflow": null,
            "_model_module_version": "1.2.0",
            "_view_count": null,
            "flex_flow": null,
            "width": null,
            "min_width": null,
            "border": null,
            "align_items": null,
            "bottom": null,
            "_model_module": "@jupyter-widgets/base",
            "top": null,
            "grid_column": null,
            "overflow_y": null,
            "overflow_x": null,
            "grid_auto_flow": null,
            "grid_area": null,
            "grid_template_columns": null,
            "flex": null,
            "_model_name": "LayoutModel",
            "justify_items": null,
            "grid_row": null,
            "max_height": null,
            "align_content": null,
            "visibility": null,
            "align_self": null,
            "height": null,
            "min_height": null,
            "padding": null,
            "grid_auto_rows": null,
            "grid_gap": null,
            "max_width": null,
            "order": null,
            "_view_module_version": "1.2.0",
            "grid_template_areas": null,
            "object_position": null,
            "object_fit": null,
            "grid_auto_columns": null,
            "margin": null,
            "display": null,
            "left": null
          }
        },
        "412c94f369d442908268465a83d24885": {
          "model_module": "@jupyter-widgets/controls",
          "model_name": "DescriptionStyleModel",
          "model_module_version": "1.5.0",
          "state": {
            "_view_name": "StyleView",
            "_model_name": "DescriptionStyleModel",
            "description_width": "",
            "_view_module": "@jupyter-widgets/base",
            "_model_module_version": "1.5.0",
            "_view_count": null,
            "_view_module_version": "1.2.0",
            "_model_module": "@jupyter-widgets/controls"
          }
        },
        "b91a84b56b5741ef9d84ed9118b1e4b8": {
          "model_module": "@jupyter-widgets/base",
          "model_name": "LayoutModel",
          "model_module_version": "1.2.0",
          "state": {
            "_view_name": "LayoutView",
            "grid_template_rows": null,
            "right": null,
            "justify_content": null,
            "_view_module": "@jupyter-widgets/base",
            "overflow": null,
            "_model_module_version": "1.2.0",
            "_view_count": null,
            "flex_flow": null,
            "width": null,
            "min_width": null,
            "border": null,
            "align_items": null,
            "bottom": null,
            "_model_module": "@jupyter-widgets/base",
            "top": null,
            "grid_column": null,
            "overflow_y": null,
            "overflow_x": null,
            "grid_auto_flow": null,
            "grid_area": null,
            "grid_template_columns": null,
            "flex": null,
            "_model_name": "LayoutModel",
            "justify_items": null,
            "grid_row": null,
            "max_height": null,
            "align_content": null,
            "visibility": null,
            "align_self": null,
            "height": null,
            "min_height": null,
            "padding": null,
            "grid_auto_rows": null,
            "grid_gap": null,
            "max_width": null,
            "order": null,
            "_view_module_version": "1.2.0",
            "grid_template_areas": null,
            "object_position": null,
            "object_fit": null,
            "grid_auto_columns": null,
            "margin": null,
            "display": null,
            "left": null
          }
        },
        "31f6c86d0122449da81a37880cba5454": {
          "model_module": "@jupyter-widgets/controls",
          "model_name": "HBoxModel",
          "model_module_version": "1.5.0",
          "state": {
            "_view_name": "HBoxView",
            "_dom_classes": [],
            "_model_name": "HBoxModel",
            "_view_module": "@jupyter-widgets/controls",
            "_model_module_version": "1.5.0",
            "_view_count": null,
            "_view_module_version": "1.5.0",
            "box_style": "",
            "layout": "IPY_MODEL_066302b47add4cd696034ed33c8e406a",
            "_model_module": "@jupyter-widgets/controls",
            "children": [
              "IPY_MODEL_d8d6c2d1bb9145848b01cd06ddfd2af9",
              "IPY_MODEL_18ecb78dcf7f4de48210e8156246614e",
              "IPY_MODEL_6a1f47b63e8946389c5a89cee5225307"
            ]
          }
        },
        "066302b47add4cd696034ed33c8e406a": {
          "model_module": "@jupyter-widgets/base",
          "model_name": "LayoutModel",
          "model_module_version": "1.2.0",
          "state": {
            "_view_name": "LayoutView",
            "grid_template_rows": null,
            "right": null,
            "justify_content": null,
            "_view_module": "@jupyter-widgets/base",
            "overflow": null,
            "_model_module_version": "1.2.0",
            "_view_count": null,
            "flex_flow": null,
            "width": null,
            "min_width": null,
            "border": null,
            "align_items": null,
            "bottom": null,
            "_model_module": "@jupyter-widgets/base",
            "top": null,
            "grid_column": null,
            "overflow_y": null,
            "overflow_x": null,
            "grid_auto_flow": null,
            "grid_area": null,
            "grid_template_columns": null,
            "flex": null,
            "_model_name": "LayoutModel",
            "justify_items": null,
            "grid_row": null,
            "max_height": null,
            "align_content": null,
            "visibility": null,
            "align_self": null,
            "height": null,
            "min_height": null,
            "padding": null,
            "grid_auto_rows": null,
            "grid_gap": null,
            "max_width": null,
            "order": null,
            "_view_module_version": "1.2.0",
            "grid_template_areas": null,
            "object_position": null,
            "object_fit": null,
            "grid_auto_columns": null,
            "margin": null,
            "display": null,
            "left": null
          }
        },
        "d8d6c2d1bb9145848b01cd06ddfd2af9": {
          "model_module": "@jupyter-widgets/controls",
          "model_name": "HTMLModel",
          "model_module_version": "1.5.0",
          "state": {
            "_view_name": "HTMLView",
            "style": "IPY_MODEL_2ef550d10b6a4cf7950b8b7624ecd53f",
            "_dom_classes": [],
            "description": "",
            "_model_name": "HTMLModel",
            "placeholder": "​",
            "_view_module": "@jupyter-widgets/controls",
            "_model_module_version": "1.5.0",
            "value": "Downloading: 100%",
            "_view_count": null,
            "_view_module_version": "1.5.0",
            "description_tooltip": null,
            "_model_module": "@jupyter-widgets/controls",
            "layout": "IPY_MODEL_c4dfab095ffa4246b3590532443d52fb"
          }
        },
        "18ecb78dcf7f4de48210e8156246614e": {
          "model_module": "@jupyter-widgets/controls",
          "model_name": "FloatProgressModel",
          "model_module_version": "1.5.0",
          "state": {
            "_view_name": "ProgressView",
            "style": "IPY_MODEL_d06f6e9d56da4482be85dd13a30e052b",
            "_dom_classes": [],
            "description": "",
            "_model_name": "FloatProgressModel",
            "bar_style": "success",
            "max": 653,
            "_view_module": "@jupyter-widgets/controls",
            "_model_module_version": "1.5.0",
            "value": 653,
            "_view_count": null,
            "_view_module_version": "1.5.0",
            "orientation": "horizontal",
            "min": 0,
            "description_tooltip": null,
            "_model_module": "@jupyter-widgets/controls",
            "layout": "IPY_MODEL_1bfc0ba227114f3f81aa6db11ba5cc98"
          }
        },
        "6a1f47b63e8946389c5a89cee5225307": {
          "model_module": "@jupyter-widgets/controls",
          "model_name": "HTMLModel",
          "model_module_version": "1.5.0",
          "state": {
            "_view_name": "HTMLView",
            "style": "IPY_MODEL_7e4712201c41422dae6b97ca30969cfa",
            "_dom_classes": [],
            "description": "",
            "_model_name": "HTMLModel",
            "placeholder": "​",
            "_view_module": "@jupyter-widgets/controls",
            "_model_module_version": "1.5.0",
            "value": " 653/653 [00:00&lt;00:00, 17.9kB/s]",
            "_view_count": null,
            "_view_module_version": "1.5.0",
            "description_tooltip": null,
            "_model_module": "@jupyter-widgets/controls",
            "layout": "IPY_MODEL_548aee2c403c4060b5d53c93d5977564"
          }
        },
        "2ef550d10b6a4cf7950b8b7624ecd53f": {
          "model_module": "@jupyter-widgets/controls",
          "model_name": "DescriptionStyleModel",
          "model_module_version": "1.5.0",
          "state": {
            "_view_name": "StyleView",
            "_model_name": "DescriptionStyleModel",
            "description_width": "",
            "_view_module": "@jupyter-widgets/base",
            "_model_module_version": "1.5.0",
            "_view_count": null,
            "_view_module_version": "1.2.0",
            "_model_module": "@jupyter-widgets/controls"
          }
        },
        "c4dfab095ffa4246b3590532443d52fb": {
          "model_module": "@jupyter-widgets/base",
          "model_name": "LayoutModel",
          "model_module_version": "1.2.0",
          "state": {
            "_view_name": "LayoutView",
            "grid_template_rows": null,
            "right": null,
            "justify_content": null,
            "_view_module": "@jupyter-widgets/base",
            "overflow": null,
            "_model_module_version": "1.2.0",
            "_view_count": null,
            "flex_flow": null,
            "width": null,
            "min_width": null,
            "border": null,
            "align_items": null,
            "bottom": null,
            "_model_module": "@jupyter-widgets/base",
            "top": null,
            "grid_column": null,
            "overflow_y": null,
            "overflow_x": null,
            "grid_auto_flow": null,
            "grid_area": null,
            "grid_template_columns": null,
            "flex": null,
            "_model_name": "LayoutModel",
            "justify_items": null,
            "grid_row": null,
            "max_height": null,
            "align_content": null,
            "visibility": null,
            "align_self": null,
            "height": null,
            "min_height": null,
            "padding": null,
            "grid_auto_rows": null,
            "grid_gap": null,
            "max_width": null,
            "order": null,
            "_view_module_version": "1.2.0",
            "grid_template_areas": null,
            "object_position": null,
            "object_fit": null,
            "grid_auto_columns": null,
            "margin": null,
            "display": null,
            "left": null
          }
        },
        "d06f6e9d56da4482be85dd13a30e052b": {
          "model_module": "@jupyter-widgets/controls",
          "model_name": "ProgressStyleModel",
          "model_module_version": "1.5.0",
          "state": {
            "_view_name": "StyleView",
            "_model_name": "ProgressStyleModel",
            "description_width": "",
            "_view_module": "@jupyter-widgets/base",
            "_model_module_version": "1.5.0",
            "_view_count": null,
            "_view_module_version": "1.2.0",
            "bar_color": null,
            "_model_module": "@jupyter-widgets/controls"
          }
        },
        "1bfc0ba227114f3f81aa6db11ba5cc98": {
          "model_module": "@jupyter-widgets/base",
          "model_name": "LayoutModel",
          "model_module_version": "1.2.0",
          "state": {
            "_view_name": "LayoutView",
            "grid_template_rows": null,
            "right": null,
            "justify_content": null,
            "_view_module": "@jupyter-widgets/base",
            "overflow": null,
            "_model_module_version": "1.2.0",
            "_view_count": null,
            "flex_flow": null,
            "width": null,
            "min_width": null,
            "border": null,
            "align_items": null,
            "bottom": null,
            "_model_module": "@jupyter-widgets/base",
            "top": null,
            "grid_column": null,
            "overflow_y": null,
            "overflow_x": null,
            "grid_auto_flow": null,
            "grid_area": null,
            "grid_template_columns": null,
            "flex": null,
            "_model_name": "LayoutModel",
            "justify_items": null,
            "grid_row": null,
            "max_height": null,
            "align_content": null,
            "visibility": null,
            "align_self": null,
            "height": null,
            "min_height": null,
            "padding": null,
            "grid_auto_rows": null,
            "grid_gap": null,
            "max_width": null,
            "order": null,
            "_view_module_version": "1.2.0",
            "grid_template_areas": null,
            "object_position": null,
            "object_fit": null,
            "grid_auto_columns": null,
            "margin": null,
            "display": null,
            "left": null
          }
        },
        "7e4712201c41422dae6b97ca30969cfa": {
          "model_module": "@jupyter-widgets/controls",
          "model_name": "DescriptionStyleModel",
          "model_module_version": "1.5.0",
          "state": {
            "_view_name": "StyleView",
            "_model_name": "DescriptionStyleModel",
            "description_width": "",
            "_view_module": "@jupyter-widgets/base",
            "_model_module_version": "1.5.0",
            "_view_count": null,
            "_view_module_version": "1.2.0",
            "_model_module": "@jupyter-widgets/controls"
          }
        },
        "548aee2c403c4060b5d53c93d5977564": {
          "model_module": "@jupyter-widgets/base",
          "model_name": "LayoutModel",
          "model_module_version": "1.2.0",
          "state": {
            "_view_name": "LayoutView",
            "grid_template_rows": null,
            "right": null,
            "justify_content": null,
            "_view_module": "@jupyter-widgets/base",
            "overflow": null,
            "_model_module_version": "1.2.0",
            "_view_count": null,
            "flex_flow": null,
            "width": null,
            "min_width": null,
            "border": null,
            "align_items": null,
            "bottom": null,
            "_model_module": "@jupyter-widgets/base",
            "top": null,
            "grid_column": null,
            "overflow_y": null,
            "overflow_x": null,
            "grid_auto_flow": null,
            "grid_area": null,
            "grid_template_columns": null,
            "flex": null,
            "_model_name": "LayoutModel",
            "justify_items": null,
            "grid_row": null,
            "max_height": null,
            "align_content": null,
            "visibility": null,
            "align_self": null,
            "height": null,
            "min_height": null,
            "padding": null,
            "grid_auto_rows": null,
            "grid_gap": null,
            "max_width": null,
            "order": null,
            "_view_module_version": "1.2.0",
            "grid_template_areas": null,
            "object_position": null,
            "object_fit": null,
            "grid_auto_columns": null,
            "margin": null,
            "display": null,
            "left": null
          }
        },
        "3625d06fb53b4997828413b1206c9982": {
          "model_module": "@jupyter-widgets/controls",
          "model_name": "HBoxModel",
          "model_module_version": "1.5.0",
          "state": {
            "_view_name": "HBoxView",
            "_dom_classes": [],
            "_model_name": "HBoxModel",
            "_view_module": "@jupyter-widgets/controls",
            "_model_module_version": "1.5.0",
            "_view_count": null,
            "_view_module_version": "1.5.0",
            "box_style": "",
            "layout": "IPY_MODEL_986b9daf820249279e481459ecc6f220",
            "_model_module": "@jupyter-widgets/controls",
            "children": [
              "IPY_MODEL_1fd5a7d2b0974c9a9633d8ff4406a0f1",
              "IPY_MODEL_5c2f721724cd465296909b47841c6301",
              "IPY_MODEL_0ee921239c764806be8a5964212e1c24"
            ]
          }
        },
        "986b9daf820249279e481459ecc6f220": {
          "model_module": "@jupyter-widgets/base",
          "model_name": "LayoutModel",
          "model_module_version": "1.2.0",
          "state": {
            "_view_name": "LayoutView",
            "grid_template_rows": null,
            "right": null,
            "justify_content": null,
            "_view_module": "@jupyter-widgets/base",
            "overflow": null,
            "_model_module_version": "1.2.0",
            "_view_count": null,
            "flex_flow": null,
            "width": null,
            "min_width": null,
            "border": null,
            "align_items": null,
            "bottom": null,
            "_model_module": "@jupyter-widgets/base",
            "top": null,
            "grid_column": null,
            "overflow_y": null,
            "overflow_x": null,
            "grid_auto_flow": null,
            "grid_area": null,
            "grid_template_columns": null,
            "flex": null,
            "_model_name": "LayoutModel",
            "justify_items": null,
            "grid_row": null,
            "max_height": null,
            "align_content": null,
            "visibility": null,
            "align_self": null,
            "height": null,
            "min_height": null,
            "padding": null,
            "grid_auto_rows": null,
            "grid_gap": null,
            "max_width": null,
            "order": null,
            "_view_module_version": "1.2.0",
            "grid_template_areas": null,
            "object_position": null,
            "object_fit": null,
            "grid_auto_columns": null,
            "margin": null,
            "display": null,
            "left": null
          }
        },
        "1fd5a7d2b0974c9a9633d8ff4406a0f1": {
          "model_module": "@jupyter-widgets/controls",
          "model_name": "HTMLModel",
          "model_module_version": "1.5.0",
          "state": {
            "_view_name": "HTMLView",
            "style": "IPY_MODEL_e470538ea4184253bce3782587966ea2",
            "_dom_classes": [],
            "description": "",
            "_model_name": "HTMLModel",
            "placeholder": "​",
            "_view_module": "@jupyter-widgets/controls",
            "_model_module_version": "1.5.0",
            "value": "Downloading: 100%",
            "_view_count": null,
            "_view_module_version": "1.5.0",
            "description_tooltip": null,
            "_model_module": "@jupyter-widgets/controls",
            "layout": "IPY_MODEL_1bdbe185e191456eb58ec6a620c953ed"
          }
        },
        "5c2f721724cd465296909b47841c6301": {
          "model_module": "@jupyter-widgets/controls",
          "model_name": "FloatProgressModel",
          "model_module_version": "1.5.0",
          "state": {
            "_view_name": "ProgressView",
            "style": "IPY_MODEL_a4006dffe11b49c59b959c87108c6e4d",
            "_dom_classes": [],
            "description": "",
            "_model_name": "FloatProgressModel",
            "bar_style": "success",
            "max": 116,
            "_view_module": "@jupyter-widgets/controls",
            "_model_module_version": "1.5.0",
            "value": 116,
            "_view_count": null,
            "_view_module_version": "1.5.0",
            "orientation": "horizontal",
            "min": 0,
            "description_tooltip": null,
            "_model_module": "@jupyter-widgets/controls",
            "layout": "IPY_MODEL_09f9da1f7de2461ba53e128597a8a81d"
          }
        },
        "0ee921239c764806be8a5964212e1c24": {
          "model_module": "@jupyter-widgets/controls",
          "model_name": "HTMLModel",
          "model_module_version": "1.5.0",
          "state": {
            "_view_name": "HTMLView",
            "style": "IPY_MODEL_6685e31cb3a84717867e37e1bacbfb8e",
            "_dom_classes": [],
            "description": "",
            "_model_name": "HTMLModel",
            "placeholder": "​",
            "_view_module": "@jupyter-widgets/controls",
            "_model_module_version": "1.5.0",
            "value": " 116/116 [00:00&lt;00:00, 2.91kB/s]",
            "_view_count": null,
            "_view_module_version": "1.5.0",
            "description_tooltip": null,
            "_model_module": "@jupyter-widgets/controls",
            "layout": "IPY_MODEL_465421e329614092a5257c8f92f7f17f"
          }
        },
        "e470538ea4184253bce3782587966ea2": {
          "model_module": "@jupyter-widgets/controls",
          "model_name": "DescriptionStyleModel",
          "model_module_version": "1.5.0",
          "state": {
            "_view_name": "StyleView",
            "_model_name": "DescriptionStyleModel",
            "description_width": "",
            "_view_module": "@jupyter-widgets/base",
            "_model_module_version": "1.5.0",
            "_view_count": null,
            "_view_module_version": "1.2.0",
            "_model_module": "@jupyter-widgets/controls"
          }
        },
        "1bdbe185e191456eb58ec6a620c953ed": {
          "model_module": "@jupyter-widgets/base",
          "model_name": "LayoutModel",
          "model_module_version": "1.2.0",
          "state": {
            "_view_name": "LayoutView",
            "grid_template_rows": null,
            "right": null,
            "justify_content": null,
            "_view_module": "@jupyter-widgets/base",
            "overflow": null,
            "_model_module_version": "1.2.0",
            "_view_count": null,
            "flex_flow": null,
            "width": null,
            "min_width": null,
            "border": null,
            "align_items": null,
            "bottom": null,
            "_model_module": "@jupyter-widgets/base",
            "top": null,
            "grid_column": null,
            "overflow_y": null,
            "overflow_x": null,
            "grid_auto_flow": null,
            "grid_area": null,
            "grid_template_columns": null,
            "flex": null,
            "_model_name": "LayoutModel",
            "justify_items": null,
            "grid_row": null,
            "max_height": null,
            "align_content": null,
            "visibility": null,
            "align_self": null,
            "height": null,
            "min_height": null,
            "padding": null,
            "grid_auto_rows": null,
            "grid_gap": null,
            "max_width": null,
            "order": null,
            "_view_module_version": "1.2.0",
            "grid_template_areas": null,
            "object_position": null,
            "object_fit": null,
            "grid_auto_columns": null,
            "margin": null,
            "display": null,
            "left": null
          }
        },
        "a4006dffe11b49c59b959c87108c6e4d": {
          "model_module": "@jupyter-widgets/controls",
          "model_name": "ProgressStyleModel",
          "model_module_version": "1.5.0",
          "state": {
            "_view_name": "StyleView",
            "_model_name": "ProgressStyleModel",
            "description_width": "",
            "_view_module": "@jupyter-widgets/base",
            "_model_module_version": "1.5.0",
            "_view_count": null,
            "_view_module_version": "1.2.0",
            "bar_color": null,
            "_model_module": "@jupyter-widgets/controls"
          }
        },
        "09f9da1f7de2461ba53e128597a8a81d": {
          "model_module": "@jupyter-widgets/base",
          "model_name": "LayoutModel",
          "model_module_version": "1.2.0",
          "state": {
            "_view_name": "LayoutView",
            "grid_template_rows": null,
            "right": null,
            "justify_content": null,
            "_view_module": "@jupyter-widgets/base",
            "overflow": null,
            "_model_module_version": "1.2.0",
            "_view_count": null,
            "flex_flow": null,
            "width": null,
            "min_width": null,
            "border": null,
            "align_items": null,
            "bottom": null,
            "_model_module": "@jupyter-widgets/base",
            "top": null,
            "grid_column": null,
            "overflow_y": null,
            "overflow_x": null,
            "grid_auto_flow": null,
            "grid_area": null,
            "grid_template_columns": null,
            "flex": null,
            "_model_name": "LayoutModel",
            "justify_items": null,
            "grid_row": null,
            "max_height": null,
            "align_content": null,
            "visibility": null,
            "align_self": null,
            "height": null,
            "min_height": null,
            "padding": null,
            "grid_auto_rows": null,
            "grid_gap": null,
            "max_width": null,
            "order": null,
            "_view_module_version": "1.2.0",
            "grid_template_areas": null,
            "object_position": null,
            "object_fit": null,
            "grid_auto_columns": null,
            "margin": null,
            "display": null,
            "left": null
          }
        },
        "6685e31cb3a84717867e37e1bacbfb8e": {
          "model_module": "@jupyter-widgets/controls",
          "model_name": "DescriptionStyleModel",
          "model_module_version": "1.5.0",
          "state": {
            "_view_name": "StyleView",
            "_model_name": "DescriptionStyleModel",
            "description_width": "",
            "_view_module": "@jupyter-widgets/base",
            "_model_module_version": "1.5.0",
            "_view_count": null,
            "_view_module_version": "1.2.0",
            "_model_module": "@jupyter-widgets/controls"
          }
        },
        "465421e329614092a5257c8f92f7f17f": {
          "model_module": "@jupyter-widgets/base",
          "model_name": "LayoutModel",
          "model_module_version": "1.2.0",
          "state": {
            "_view_name": "LayoutView",
            "grid_template_rows": null,
            "right": null,
            "justify_content": null,
            "_view_module": "@jupyter-widgets/base",
            "overflow": null,
            "_model_module_version": "1.2.0",
            "_view_count": null,
            "flex_flow": null,
            "width": null,
            "min_width": null,
            "border": null,
            "align_items": null,
            "bottom": null,
            "_model_module": "@jupyter-widgets/base",
            "top": null,
            "grid_column": null,
            "overflow_y": null,
            "overflow_x": null,
            "grid_auto_flow": null,
            "grid_area": null,
            "grid_template_columns": null,
            "flex": null,
            "_model_name": "LayoutModel",
            "justify_items": null,
            "grid_row": null,
            "max_height": null,
            "align_content": null,
            "visibility": null,
            "align_self": null,
            "height": null,
            "min_height": null,
            "padding": null,
            "grid_auto_rows": null,
            "grid_gap": null,
            "max_width": null,
            "order": null,
            "_view_module_version": "1.2.0",
            "grid_template_areas": null,
            "object_position": null,
            "object_fit": null,
            "grid_auto_columns": null,
            "margin": null,
            "display": null,
            "left": null
          }
        },
        "cc4c85edac644ad4b2b2c2c6ddd51ce7": {
          "model_module": "@jupyter-widgets/controls",
          "model_name": "HBoxModel",
          "model_module_version": "1.5.0",
          "state": {
            "_view_name": "HBoxView",
            "_dom_classes": [],
            "_model_name": "HBoxModel",
            "_view_module": "@jupyter-widgets/controls",
            "_model_module_version": "1.5.0",
            "_view_count": null,
            "_view_module_version": "1.5.0",
            "box_style": "",
            "layout": "IPY_MODEL_0a75be8a63a24337a159fb322ed1ab2a",
            "_model_module": "@jupyter-widgets/controls",
            "children": [
              "IPY_MODEL_309aed061f644cf098930418f10b0659",
              "IPY_MODEL_fed3d0f0631348229e092fdaaac41a06",
              "IPY_MODEL_efec012b8d6e4a9b9a80f83d79c352f4"
            ]
          }
        },
        "0a75be8a63a24337a159fb322ed1ab2a": {
          "model_module": "@jupyter-widgets/base",
          "model_name": "LayoutModel",
          "model_module_version": "1.2.0",
          "state": {
            "_view_name": "LayoutView",
            "grid_template_rows": null,
            "right": null,
            "justify_content": null,
            "_view_module": "@jupyter-widgets/base",
            "overflow": null,
            "_model_module_version": "1.2.0",
            "_view_count": null,
            "flex_flow": null,
            "width": null,
            "min_width": null,
            "border": null,
            "align_items": null,
            "bottom": null,
            "_model_module": "@jupyter-widgets/base",
            "top": null,
            "grid_column": null,
            "overflow_y": null,
            "overflow_x": null,
            "grid_auto_flow": null,
            "grid_area": null,
            "grid_template_columns": null,
            "flex": null,
            "_model_name": "LayoutModel",
            "justify_items": null,
            "grid_row": null,
            "max_height": null,
            "align_content": null,
            "visibility": null,
            "align_self": null,
            "height": null,
            "min_height": null,
            "padding": null,
            "grid_auto_rows": null,
            "grid_gap": null,
            "max_width": null,
            "order": null,
            "_view_module_version": "1.2.0",
            "grid_template_areas": null,
            "object_position": null,
            "object_fit": null,
            "grid_auto_columns": null,
            "margin": null,
            "display": null,
            "left": null
          }
        },
        "309aed061f644cf098930418f10b0659": {
          "model_module": "@jupyter-widgets/controls",
          "model_name": "HTMLModel",
          "model_module_version": "1.5.0",
          "state": {
            "_view_name": "HTMLView",
            "style": "IPY_MODEL_13c77e835f3d43bfab750fd2d0a8b23f",
            "_dom_classes": [],
            "description": "",
            "_model_name": "HTMLModel",
            "placeholder": "​",
            "_view_module": "@jupyter-widgets/controls",
            "_model_module_version": "1.5.0",
            "value": "Downloading: 100%",
            "_view_count": null,
            "_view_module_version": "1.5.0",
            "description_tooltip": null,
            "_model_module": "@jupyter-widgets/controls",
            "layout": "IPY_MODEL_f21d05a4d3384aa68eff2238d78ae00b"
          }
        },
        "fed3d0f0631348229e092fdaaac41a06": {
          "model_module": "@jupyter-widgets/controls",
          "model_name": "FloatProgressModel",
          "model_module_version": "1.5.0",
          "state": {
            "_view_name": "ProgressView",
            "style": "IPY_MODEL_fe4e644a467a47a3962077ddfabe7ddc",
            "_dom_classes": [],
            "description": "",
            "_model_name": "FloatProgressModel",
            "bar_style": "success",
            "max": 15679,
            "_view_module": "@jupyter-widgets/controls",
            "_model_module_version": "1.5.0",
            "value": 15679,
            "_view_count": null,
            "_view_module_version": "1.5.0",
            "orientation": "horizontal",
            "min": 0,
            "description_tooltip": null,
            "_model_module": "@jupyter-widgets/controls",
            "layout": "IPY_MODEL_9e5f4f21a6e14e27a930f3f0bd8d4cce"
          }
        },
        "efec012b8d6e4a9b9a80f83d79c352f4": {
          "model_module": "@jupyter-widgets/controls",
          "model_name": "HTMLModel",
          "model_module_version": "1.5.0",
          "state": {
            "_view_name": "HTMLView",
            "style": "IPY_MODEL_9063cc7d217848e395f1bdc014c765c5",
            "_dom_classes": [],
            "description": "",
            "_model_name": "HTMLModel",
            "placeholder": "​",
            "_view_module": "@jupyter-widgets/controls",
            "_model_module_version": "1.5.0",
            "value": " 15.7k/15.7k [00:00&lt;00:00, 372kB/s]",
            "_view_count": null,
            "_view_module_version": "1.5.0",
            "description_tooltip": null,
            "_model_module": "@jupyter-widgets/controls",
            "layout": "IPY_MODEL_da1bec905ac74510b89efce7efc065cc"
          }
        },
        "13c77e835f3d43bfab750fd2d0a8b23f": {
          "model_module": "@jupyter-widgets/controls",
          "model_name": "DescriptionStyleModel",
          "model_module_version": "1.5.0",
          "state": {
            "_view_name": "StyleView",
            "_model_name": "DescriptionStyleModel",
            "description_width": "",
            "_view_module": "@jupyter-widgets/base",
            "_model_module_version": "1.5.0",
            "_view_count": null,
            "_view_module_version": "1.2.0",
            "_model_module": "@jupyter-widgets/controls"
          }
        },
        "f21d05a4d3384aa68eff2238d78ae00b": {
          "model_module": "@jupyter-widgets/base",
          "model_name": "LayoutModel",
          "model_module_version": "1.2.0",
          "state": {
            "_view_name": "LayoutView",
            "grid_template_rows": null,
            "right": null,
            "justify_content": null,
            "_view_module": "@jupyter-widgets/base",
            "overflow": null,
            "_model_module_version": "1.2.0",
            "_view_count": null,
            "flex_flow": null,
            "width": null,
            "min_width": null,
            "border": null,
            "align_items": null,
            "bottom": null,
            "_model_module": "@jupyter-widgets/base",
            "top": null,
            "grid_column": null,
            "overflow_y": null,
            "overflow_x": null,
            "grid_auto_flow": null,
            "grid_area": null,
            "grid_template_columns": null,
            "flex": null,
            "_model_name": "LayoutModel",
            "justify_items": null,
            "grid_row": null,
            "max_height": null,
            "align_content": null,
            "visibility": null,
            "align_self": null,
            "height": null,
            "min_height": null,
            "padding": null,
            "grid_auto_rows": null,
            "grid_gap": null,
            "max_width": null,
            "order": null,
            "_view_module_version": "1.2.0",
            "grid_template_areas": null,
            "object_position": null,
            "object_fit": null,
            "grid_auto_columns": null,
            "margin": null,
            "display": null,
            "left": null
          }
        },
        "fe4e644a467a47a3962077ddfabe7ddc": {
          "model_module": "@jupyter-widgets/controls",
          "model_name": "ProgressStyleModel",
          "model_module_version": "1.5.0",
          "state": {
            "_view_name": "StyleView",
            "_model_name": "ProgressStyleModel",
            "description_width": "",
            "_view_module": "@jupyter-widgets/base",
            "_model_module_version": "1.5.0",
            "_view_count": null,
            "_view_module_version": "1.2.0",
            "bar_color": null,
            "_model_module": "@jupyter-widgets/controls"
          }
        },
        "9e5f4f21a6e14e27a930f3f0bd8d4cce": {
          "model_module": "@jupyter-widgets/base",
          "model_name": "LayoutModel",
          "model_module_version": "1.2.0",
          "state": {
            "_view_name": "LayoutView",
            "grid_template_rows": null,
            "right": null,
            "justify_content": null,
            "_view_module": "@jupyter-widgets/base",
            "overflow": null,
            "_model_module_version": "1.2.0",
            "_view_count": null,
            "flex_flow": null,
            "width": null,
            "min_width": null,
            "border": null,
            "align_items": null,
            "bottom": null,
            "_model_module": "@jupyter-widgets/base",
            "top": null,
            "grid_column": null,
            "overflow_y": null,
            "overflow_x": null,
            "grid_auto_flow": null,
            "grid_area": null,
            "grid_template_columns": null,
            "flex": null,
            "_model_name": "LayoutModel",
            "justify_items": null,
            "grid_row": null,
            "max_height": null,
            "align_content": null,
            "visibility": null,
            "align_self": null,
            "height": null,
            "min_height": null,
            "padding": null,
            "grid_auto_rows": null,
            "grid_gap": null,
            "max_width": null,
            "order": null,
            "_view_module_version": "1.2.0",
            "grid_template_areas": null,
            "object_position": null,
            "object_fit": null,
            "grid_auto_columns": null,
            "margin": null,
            "display": null,
            "left": null
          }
        },
        "9063cc7d217848e395f1bdc014c765c5": {
          "model_module": "@jupyter-widgets/controls",
          "model_name": "DescriptionStyleModel",
          "model_module_version": "1.5.0",
          "state": {
            "_view_name": "StyleView",
            "_model_name": "DescriptionStyleModel",
            "description_width": "",
            "_view_module": "@jupyter-widgets/base",
            "_model_module_version": "1.5.0",
            "_view_count": null,
            "_view_module_version": "1.2.0",
            "_model_module": "@jupyter-widgets/controls"
          }
        },
        "da1bec905ac74510b89efce7efc065cc": {
          "model_module": "@jupyter-widgets/base",
          "model_name": "LayoutModel",
          "model_module_version": "1.2.0",
          "state": {
            "_view_name": "LayoutView",
            "grid_template_rows": null,
            "right": null,
            "justify_content": null,
            "_view_module": "@jupyter-widgets/base",
            "overflow": null,
            "_model_module_version": "1.2.0",
            "_view_count": null,
            "flex_flow": null,
            "width": null,
            "min_width": null,
            "border": null,
            "align_items": null,
            "bottom": null,
            "_model_module": "@jupyter-widgets/base",
            "top": null,
            "grid_column": null,
            "overflow_y": null,
            "overflow_x": null,
            "grid_auto_flow": null,
            "grid_area": null,
            "grid_template_columns": null,
            "flex": null,
            "_model_name": "LayoutModel",
            "justify_items": null,
            "grid_row": null,
            "max_height": null,
            "align_content": null,
            "visibility": null,
            "align_self": null,
            "height": null,
            "min_height": null,
            "padding": null,
            "grid_auto_rows": null,
            "grid_gap": null,
            "max_width": null,
            "order": null,
            "_view_module_version": "1.2.0",
            "grid_template_areas": null,
            "object_position": null,
            "object_fit": null,
            "grid_auto_columns": null,
            "margin": null,
            "display": null,
            "left": null
          }
        },
        "e7683c89a509400cab3c3aea7a0646e3": {
          "model_module": "@jupyter-widgets/controls",
          "model_name": "HBoxModel",
          "model_module_version": "1.5.0",
          "state": {
            "_view_name": "HBoxView",
            "_dom_classes": [],
            "_model_name": "HBoxModel",
            "_view_module": "@jupyter-widgets/controls",
            "_model_module_version": "1.5.0",
            "_view_count": null,
            "_view_module_version": "1.5.0",
            "box_style": "",
            "layout": "IPY_MODEL_ac1a918c1a4e4997be2b6ca8ad9e5783",
            "_model_module": "@jupyter-widgets/controls",
            "children": [
              "IPY_MODEL_d125b5d5979745658568af0c3a980a91",
              "IPY_MODEL_b3894645606a4007bf8aef31a2e4e86a",
              "IPY_MODEL_f01653635b6a4208ad1b47c44ecf7558"
            ]
          }
        },
        "ac1a918c1a4e4997be2b6ca8ad9e5783": {
          "model_module": "@jupyter-widgets/base",
          "model_name": "LayoutModel",
          "model_module_version": "1.2.0",
          "state": {
            "_view_name": "LayoutView",
            "grid_template_rows": null,
            "right": null,
            "justify_content": null,
            "_view_module": "@jupyter-widgets/base",
            "overflow": null,
            "_model_module_version": "1.2.0",
            "_view_count": null,
            "flex_flow": null,
            "width": null,
            "min_width": null,
            "border": null,
            "align_items": null,
            "bottom": null,
            "_model_module": "@jupyter-widgets/base",
            "top": null,
            "grid_column": null,
            "overflow_y": null,
            "overflow_x": null,
            "grid_auto_flow": null,
            "grid_area": null,
            "grid_template_columns": null,
            "flex": null,
            "_model_name": "LayoutModel",
            "justify_items": null,
            "grid_row": null,
            "max_height": null,
            "align_content": null,
            "visibility": null,
            "align_self": null,
            "height": null,
            "min_height": null,
            "padding": null,
            "grid_auto_rows": null,
            "grid_gap": null,
            "max_width": null,
            "order": null,
            "_view_module_version": "1.2.0",
            "grid_template_areas": null,
            "object_position": null,
            "object_fit": null,
            "grid_auto_columns": null,
            "margin": null,
            "display": null,
            "left": null
          }
        },
        "d125b5d5979745658568af0c3a980a91": {
          "model_module": "@jupyter-widgets/controls",
          "model_name": "HTMLModel",
          "model_module_version": "1.5.0",
          "state": {
            "_view_name": "HTMLView",
            "style": "IPY_MODEL_6918e1330d464ec68e5b4c0fe8dccf9e",
            "_dom_classes": [],
            "description": "",
            "_model_name": "HTMLModel",
            "placeholder": "​",
            "_view_module": "@jupyter-widgets/controls",
            "_model_module_version": "1.5.0",
            "value": "Downloading: 100%",
            "_view_count": null,
            "_view_module_version": "1.5.0",
            "description_tooltip": null,
            "_model_module": "@jupyter-widgets/controls",
            "layout": "IPY_MODEL_226182f09da3424c855c9f2f6c5be8bc"
          }
        },
        "b3894645606a4007bf8aef31a2e4e86a": {
          "model_module": "@jupyter-widgets/controls",
          "model_name": "FloatProgressModel",
          "model_module_version": "1.5.0",
          "state": {
            "_view_name": "ProgressView",
            "style": "IPY_MODEL_9b67f4d810ed4577a70ca769ae93cd03",
            "_dom_classes": [],
            "description": "",
            "_model_name": "FloatProgressModel",
            "bar_style": "success",
            "max": 456356,
            "_view_module": "@jupyter-widgets/controls",
            "_model_module_version": "1.5.0",
            "value": 456356,
            "_view_count": null,
            "_view_module_version": "1.5.0",
            "orientation": "horizontal",
            "min": 0,
            "description_tooltip": null,
            "_model_module": "@jupyter-widgets/controls",
            "layout": "IPY_MODEL_c25d79dc03ef45049c7b04066b41a0b5"
          }
        },
        "f01653635b6a4208ad1b47c44ecf7558": {
          "model_module": "@jupyter-widgets/controls",
          "model_name": "HTMLModel",
          "model_module_version": "1.5.0",
          "state": {
            "_view_name": "HTMLView",
            "style": "IPY_MODEL_dabe3c6b84a44e628042c9898ecf80ba",
            "_dom_classes": [],
            "description": "",
            "_model_name": "HTMLModel",
            "placeholder": "​",
            "_view_module": "@jupyter-widgets/controls",
            "_model_module_version": "1.5.0",
            "value": " 456k/456k [00:00&lt;00:00, 1.12MB/s]",
            "_view_count": null,
            "_view_module_version": "1.5.0",
            "description_tooltip": null,
            "_model_module": "@jupyter-widgets/controls",
            "layout": "IPY_MODEL_cccb43ad6f8842c3ac399b787380f411"
          }
        },
        "6918e1330d464ec68e5b4c0fe8dccf9e": {
          "model_module": "@jupyter-widgets/controls",
          "model_name": "DescriptionStyleModel",
          "model_module_version": "1.5.0",
          "state": {
            "_view_name": "StyleView",
            "_model_name": "DescriptionStyleModel",
            "description_width": "",
            "_view_module": "@jupyter-widgets/base",
            "_model_module_version": "1.5.0",
            "_view_count": null,
            "_view_module_version": "1.2.0",
            "_model_module": "@jupyter-widgets/controls"
          }
        },
        "226182f09da3424c855c9f2f6c5be8bc": {
          "model_module": "@jupyter-widgets/base",
          "model_name": "LayoutModel",
          "model_module_version": "1.2.0",
          "state": {
            "_view_name": "LayoutView",
            "grid_template_rows": null,
            "right": null,
            "justify_content": null,
            "_view_module": "@jupyter-widgets/base",
            "overflow": null,
            "_model_module_version": "1.2.0",
            "_view_count": null,
            "flex_flow": null,
            "width": null,
            "min_width": null,
            "border": null,
            "align_items": null,
            "bottom": null,
            "_model_module": "@jupyter-widgets/base",
            "top": null,
            "grid_column": null,
            "overflow_y": null,
            "overflow_x": null,
            "grid_auto_flow": null,
            "grid_area": null,
            "grid_template_columns": null,
            "flex": null,
            "_model_name": "LayoutModel",
            "justify_items": null,
            "grid_row": null,
            "max_height": null,
            "align_content": null,
            "visibility": null,
            "align_self": null,
            "height": null,
            "min_height": null,
            "padding": null,
            "grid_auto_rows": null,
            "grid_gap": null,
            "max_width": null,
            "order": null,
            "_view_module_version": "1.2.0",
            "grid_template_areas": null,
            "object_position": null,
            "object_fit": null,
            "grid_auto_columns": null,
            "margin": null,
            "display": null,
            "left": null
          }
        },
        "9b67f4d810ed4577a70ca769ae93cd03": {
          "model_module": "@jupyter-widgets/controls",
          "model_name": "ProgressStyleModel",
          "model_module_version": "1.5.0",
          "state": {
            "_view_name": "StyleView",
            "_model_name": "ProgressStyleModel",
            "description_width": "",
            "_view_module": "@jupyter-widgets/base",
            "_model_module_version": "1.5.0",
            "_view_count": null,
            "_view_module_version": "1.2.0",
            "bar_color": null,
            "_model_module": "@jupyter-widgets/controls"
          }
        },
        "c25d79dc03ef45049c7b04066b41a0b5": {
          "model_module": "@jupyter-widgets/base",
          "model_name": "LayoutModel",
          "model_module_version": "1.2.0",
          "state": {
            "_view_name": "LayoutView",
            "grid_template_rows": null,
            "right": null,
            "justify_content": null,
            "_view_module": "@jupyter-widgets/base",
            "overflow": null,
            "_model_module_version": "1.2.0",
            "_view_count": null,
            "flex_flow": null,
            "width": null,
            "min_width": null,
            "border": null,
            "align_items": null,
            "bottom": null,
            "_model_module": "@jupyter-widgets/base",
            "top": null,
            "grid_column": null,
            "overflow_y": null,
            "overflow_x": null,
            "grid_auto_flow": null,
            "grid_area": null,
            "grid_template_columns": null,
            "flex": null,
            "_model_name": "LayoutModel",
            "justify_items": null,
            "grid_row": null,
            "max_height": null,
            "align_content": null,
            "visibility": null,
            "align_self": null,
            "height": null,
            "min_height": null,
            "padding": null,
            "grid_auto_rows": null,
            "grid_gap": null,
            "max_width": null,
            "order": null,
            "_view_module_version": "1.2.0",
            "grid_template_areas": null,
            "object_position": null,
            "object_fit": null,
            "grid_auto_columns": null,
            "margin": null,
            "display": null,
            "left": null
          }
        },
        "dabe3c6b84a44e628042c9898ecf80ba": {
          "model_module": "@jupyter-widgets/controls",
          "model_name": "DescriptionStyleModel",
          "model_module_version": "1.5.0",
          "state": {
            "_view_name": "StyleView",
            "_model_name": "DescriptionStyleModel",
            "description_width": "",
            "_view_module": "@jupyter-widgets/base",
            "_model_module_version": "1.5.0",
            "_view_count": null,
            "_view_module_version": "1.2.0",
            "_model_module": "@jupyter-widgets/controls"
          }
        },
        "cccb43ad6f8842c3ac399b787380f411": {
          "model_module": "@jupyter-widgets/base",
          "model_name": "LayoutModel",
          "model_module_version": "1.2.0",
          "state": {
            "_view_name": "LayoutView",
            "grid_template_rows": null,
            "right": null,
            "justify_content": null,
            "_view_module": "@jupyter-widgets/base",
            "overflow": null,
            "_model_module_version": "1.2.0",
            "_view_count": null,
            "flex_flow": null,
            "width": null,
            "min_width": null,
            "border": null,
            "align_items": null,
            "bottom": null,
            "_model_module": "@jupyter-widgets/base",
            "top": null,
            "grid_column": null,
            "overflow_y": null,
            "overflow_x": null,
            "grid_auto_flow": null,
            "grid_area": null,
            "grid_template_columns": null,
            "flex": null,
            "_model_name": "LayoutModel",
            "justify_items": null,
            "grid_row": null,
            "max_height": null,
            "align_content": null,
            "visibility": null,
            "align_self": null,
            "height": null,
            "min_height": null,
            "padding": null,
            "grid_auto_rows": null,
            "grid_gap": null,
            "max_width": null,
            "order": null,
            "_view_module_version": "1.2.0",
            "grid_template_areas": null,
            "object_position": null,
            "object_fit": null,
            "grid_auto_columns": null,
            "margin": null,
            "display": null,
            "left": null
          }
        },
        "2f1f6a3420e4490daad7bf29e7330687": {
          "model_module": "@jupyter-widgets/controls",
          "model_name": "HBoxModel",
          "model_module_version": "1.5.0",
          "state": {
            "_view_name": "HBoxView",
            "_dom_classes": [],
            "_model_name": "HBoxModel",
            "_view_module": "@jupyter-widgets/controls",
            "_model_module_version": "1.5.0",
            "_view_count": null,
            "_view_module_version": "1.5.0",
            "box_style": "",
            "layout": "IPY_MODEL_1e7ab540f1fb4e2ebcdf20ac3a0feb51",
            "_model_module": "@jupyter-widgets/controls",
            "children": [
              "IPY_MODEL_76914578563f4df888b679f27852497d",
              "IPY_MODEL_0ead30aee83348ba9921de373fcd753e",
              "IPY_MODEL_d4729d7f139a4583913a49df3b44090e"
            ]
          }
        },
        "1e7ab540f1fb4e2ebcdf20ac3a0feb51": {
          "model_module": "@jupyter-widgets/base",
          "model_name": "LayoutModel",
          "model_module_version": "1.2.0",
          "state": {
            "_view_name": "LayoutView",
            "grid_template_rows": null,
            "right": null,
            "justify_content": null,
            "_view_module": "@jupyter-widgets/base",
            "overflow": null,
            "_model_module_version": "1.2.0",
            "_view_count": null,
            "flex_flow": null,
            "width": null,
            "min_width": null,
            "border": null,
            "align_items": null,
            "bottom": null,
            "_model_module": "@jupyter-widgets/base",
            "top": null,
            "grid_column": null,
            "overflow_y": null,
            "overflow_x": null,
            "grid_auto_flow": null,
            "grid_area": null,
            "grid_template_columns": null,
            "flex": null,
            "_model_name": "LayoutModel",
            "justify_items": null,
            "grid_row": null,
            "max_height": null,
            "align_content": null,
            "visibility": null,
            "align_self": null,
            "height": null,
            "min_height": null,
            "padding": null,
            "grid_auto_rows": null,
            "grid_gap": null,
            "max_width": null,
            "order": null,
            "_view_module_version": "1.2.0",
            "grid_template_areas": null,
            "object_position": null,
            "object_fit": null,
            "grid_auto_columns": null,
            "margin": null,
            "display": null,
            "left": null
          }
        },
        "76914578563f4df888b679f27852497d": {
          "model_module": "@jupyter-widgets/controls",
          "model_name": "HTMLModel",
          "model_module_version": "1.5.0",
          "state": {
            "_view_name": "HTMLView",
            "style": "IPY_MODEL_3c374b4ca9d04e148ac391dd4ced4169",
            "_dom_classes": [],
            "description": "",
            "_model_name": "HTMLModel",
            "placeholder": "​",
            "_view_module": "@jupyter-widgets/controls",
            "_model_module_version": "1.5.0",
            "value": "Downloading: 100%",
            "_view_count": null,
            "_view_module_version": "1.5.0",
            "description_tooltip": null,
            "_model_module": "@jupyter-widgets/controls",
            "layout": "IPY_MODEL_d2ec22ba57b443889fc5716329c14fd8"
          }
        },
        "0ead30aee83348ba9921de373fcd753e": {
          "model_module": "@jupyter-widgets/controls",
          "model_name": "FloatProgressModel",
          "model_module_version": "1.5.0",
          "state": {
            "_view_name": "ProgressView",
            "style": "IPY_MODEL_0b346713b58941f483295c553b0504ea",
            "_dom_classes": [],
            "description": "",
            "_model_name": "FloatProgressModel",
            "bar_style": "success",
            "max": 349,
            "_view_module": "@jupyter-widgets/controls",
            "_model_module_version": "1.5.0",
            "value": 349,
            "_view_count": null,
            "_view_module_version": "1.5.0",
            "orientation": "horizontal",
            "min": 0,
            "description_tooltip": null,
            "_model_module": "@jupyter-widgets/controls",
            "layout": "IPY_MODEL_0aae04a47855432d962c3ceb3cbd19b3"
          }
        },
        "d4729d7f139a4583913a49df3b44090e": {
          "model_module": "@jupyter-widgets/controls",
          "model_name": "HTMLModel",
          "model_module_version": "1.5.0",
          "state": {
            "_view_name": "HTMLView",
            "style": "IPY_MODEL_5e5b3ce7ed4248af8794136a9c9d6fa4",
            "_dom_classes": [],
            "description": "",
            "_model_name": "HTMLModel",
            "placeholder": "​",
            "_view_module": "@jupyter-widgets/controls",
            "_model_module_version": "1.5.0",
            "value": " 349/349 [00:00&lt;00:00, 9.82kB/s]",
            "_view_count": null,
            "_view_module_version": "1.5.0",
            "description_tooltip": null,
            "_model_module": "@jupyter-widgets/controls",
            "layout": "IPY_MODEL_2a532dcdc8664a0587d80774abf3cb83"
          }
        },
        "3c374b4ca9d04e148ac391dd4ced4169": {
          "model_module": "@jupyter-widgets/controls",
          "model_name": "DescriptionStyleModel",
          "model_module_version": "1.5.0",
          "state": {
            "_view_name": "StyleView",
            "_model_name": "DescriptionStyleModel",
            "description_width": "",
            "_view_module": "@jupyter-widgets/base",
            "_model_module_version": "1.5.0",
            "_view_count": null,
            "_view_module_version": "1.2.0",
            "_model_module": "@jupyter-widgets/controls"
          }
        },
        "d2ec22ba57b443889fc5716329c14fd8": {
          "model_module": "@jupyter-widgets/base",
          "model_name": "LayoutModel",
          "model_module_version": "1.2.0",
          "state": {
            "_view_name": "LayoutView",
            "grid_template_rows": null,
            "right": null,
            "justify_content": null,
            "_view_module": "@jupyter-widgets/base",
            "overflow": null,
            "_model_module_version": "1.2.0",
            "_view_count": null,
            "flex_flow": null,
            "width": null,
            "min_width": null,
            "border": null,
            "align_items": null,
            "bottom": null,
            "_model_module": "@jupyter-widgets/base",
            "top": null,
            "grid_column": null,
            "overflow_y": null,
            "overflow_x": null,
            "grid_auto_flow": null,
            "grid_area": null,
            "grid_template_columns": null,
            "flex": null,
            "_model_name": "LayoutModel",
            "justify_items": null,
            "grid_row": null,
            "max_height": null,
            "align_content": null,
            "visibility": null,
            "align_self": null,
            "height": null,
            "min_height": null,
            "padding": null,
            "grid_auto_rows": null,
            "grid_gap": null,
            "max_width": null,
            "order": null,
            "_view_module_version": "1.2.0",
            "grid_template_areas": null,
            "object_position": null,
            "object_fit": null,
            "grid_auto_columns": null,
            "margin": null,
            "display": null,
            "left": null
          }
        },
        "0b346713b58941f483295c553b0504ea": {
          "model_module": "@jupyter-widgets/controls",
          "model_name": "ProgressStyleModel",
          "model_module_version": "1.5.0",
          "state": {
            "_view_name": "StyleView",
            "_model_name": "ProgressStyleModel",
            "description_width": "",
            "_view_module": "@jupyter-widgets/base",
            "_model_module_version": "1.5.0",
            "_view_count": null,
            "_view_module_version": "1.2.0",
            "bar_color": null,
            "_model_module": "@jupyter-widgets/controls"
          }
        },
        "0aae04a47855432d962c3ceb3cbd19b3": {
          "model_module": "@jupyter-widgets/base",
          "model_name": "LayoutModel",
          "model_module_version": "1.2.0",
          "state": {
            "_view_name": "LayoutView",
            "grid_template_rows": null,
            "right": null,
            "justify_content": null,
            "_view_module": "@jupyter-widgets/base",
            "overflow": null,
            "_model_module_version": "1.2.0",
            "_view_count": null,
            "flex_flow": null,
            "width": null,
            "min_width": null,
            "border": null,
            "align_items": null,
            "bottom": null,
            "_model_module": "@jupyter-widgets/base",
            "top": null,
            "grid_column": null,
            "overflow_y": null,
            "overflow_x": null,
            "grid_auto_flow": null,
            "grid_area": null,
            "grid_template_columns": null,
            "flex": null,
            "_model_name": "LayoutModel",
            "justify_items": null,
            "grid_row": null,
            "max_height": null,
            "align_content": null,
            "visibility": null,
            "align_self": null,
            "height": null,
            "min_height": null,
            "padding": null,
            "grid_auto_rows": null,
            "grid_gap": null,
            "max_width": null,
            "order": null,
            "_view_module_version": "1.2.0",
            "grid_template_areas": null,
            "object_position": null,
            "object_fit": null,
            "grid_auto_columns": null,
            "margin": null,
            "display": null,
            "left": null
          }
        },
        "5e5b3ce7ed4248af8794136a9c9d6fa4": {
          "model_module": "@jupyter-widgets/controls",
          "model_name": "DescriptionStyleModel",
          "model_module_version": "1.5.0",
          "state": {
            "_view_name": "StyleView",
            "_model_name": "DescriptionStyleModel",
            "description_width": "",
            "_view_module": "@jupyter-widgets/base",
            "_model_module_version": "1.5.0",
            "_view_count": null,
            "_view_module_version": "1.2.0",
            "_model_module": "@jupyter-widgets/controls"
          }
        },
        "2a532dcdc8664a0587d80774abf3cb83": {
          "model_module": "@jupyter-widgets/base",
          "model_name": "LayoutModel",
          "model_module_version": "1.2.0",
          "state": {
            "_view_name": "LayoutView",
            "grid_template_rows": null,
            "right": null,
            "justify_content": null,
            "_view_module": "@jupyter-widgets/base",
            "overflow": null,
            "_model_module_version": "1.2.0",
            "_view_count": null,
            "flex_flow": null,
            "width": null,
            "min_width": null,
            "border": null,
            "align_items": null,
            "bottom": null,
            "_model_module": "@jupyter-widgets/base",
            "top": null,
            "grid_column": null,
            "overflow_y": null,
            "overflow_x": null,
            "grid_auto_flow": null,
            "grid_area": null,
            "grid_template_columns": null,
            "flex": null,
            "_model_name": "LayoutModel",
            "justify_items": null,
            "grid_row": null,
            "max_height": null,
            "align_content": null,
            "visibility": null,
            "align_self": null,
            "height": null,
            "min_height": null,
            "padding": null,
            "grid_auto_rows": null,
            "grid_gap": null,
            "max_width": null,
            "order": null,
            "_view_module_version": "1.2.0",
            "grid_template_areas": null,
            "object_position": null,
            "object_fit": null,
            "grid_auto_columns": null,
            "margin": null,
            "display": null,
            "left": null
          }
        },
        "0da312280fb540f7b7871bb4d5178ab9": {
          "model_module": "@jupyter-widgets/controls",
          "model_name": "HBoxModel",
          "model_module_version": "1.5.0",
          "state": {
            "_view_name": "HBoxView",
            "_dom_classes": [],
            "_model_name": "HBoxModel",
            "_view_module": "@jupyter-widgets/controls",
            "_model_module_version": "1.5.0",
            "_view_count": null,
            "_view_module_version": "1.5.0",
            "box_style": "",
            "layout": "IPY_MODEL_1fd9a55d2ae94764b8c61cdb645baaca",
            "_model_module": "@jupyter-widgets/controls",
            "children": [
              "IPY_MODEL_1d1a5fcd39314182a84803f923fce952",
              "IPY_MODEL_fe3fac7ab00c4b09aa9b5bab68214c82",
              "IPY_MODEL_cedd5953922b47c3a1512d64c77fd491"
            ]
          }
        },
        "1fd9a55d2ae94764b8c61cdb645baaca": {
          "model_module": "@jupyter-widgets/base",
          "model_name": "LayoutModel",
          "model_module_version": "1.2.0",
          "state": {
            "_view_name": "LayoutView",
            "grid_template_rows": null,
            "right": null,
            "justify_content": null,
            "_view_module": "@jupyter-widgets/base",
            "overflow": null,
            "_model_module_version": "1.2.0",
            "_view_count": null,
            "flex_flow": null,
            "width": null,
            "min_width": null,
            "border": null,
            "align_items": null,
            "bottom": null,
            "_model_module": "@jupyter-widgets/base",
            "top": null,
            "grid_column": null,
            "overflow_y": null,
            "overflow_x": null,
            "grid_auto_flow": null,
            "grid_area": null,
            "grid_template_columns": null,
            "flex": null,
            "_model_name": "LayoutModel",
            "justify_items": null,
            "grid_row": null,
            "max_height": null,
            "align_content": null,
            "visibility": null,
            "align_self": null,
            "height": null,
            "min_height": null,
            "padding": null,
            "grid_auto_rows": null,
            "grid_gap": null,
            "max_width": null,
            "order": null,
            "_view_module_version": "1.2.0",
            "grid_template_areas": null,
            "object_position": null,
            "object_fit": null,
            "grid_auto_columns": null,
            "margin": null,
            "display": null,
            "left": null
          }
        },
        "1d1a5fcd39314182a84803f923fce952": {
          "model_module": "@jupyter-widgets/controls",
          "model_name": "HTMLModel",
          "model_module_version": "1.5.0",
          "state": {
            "_view_name": "HTMLView",
            "style": "IPY_MODEL_3c24f34c8e564bb393c0d48763f4dd10",
            "_dom_classes": [],
            "description": "",
            "_model_name": "HTMLModel",
            "placeholder": "​",
            "_view_module": "@jupyter-widgets/controls",
            "_model_module_version": "1.5.0",
            "value": "Downloading: 100%",
            "_view_count": null,
            "_view_module_version": "1.5.0",
            "description_tooltip": null,
            "_model_module": "@jupyter-widgets/controls",
            "layout": "IPY_MODEL_1bd802ace55a4974868ee40894dafea8"
          }
        },
        "fe3fac7ab00c4b09aa9b5bab68214c82": {
          "model_module": "@jupyter-widgets/controls",
          "model_name": "FloatProgressModel",
          "model_module_version": "1.5.0",
          "state": {
            "_view_name": "ProgressView",
            "style": "IPY_MODEL_d0e0f10b461d49468f47a3674e3e9fb7",
            "_dom_classes": [],
            "description": "",
            "_model_name": "FloatProgressModel",
            "bar_style": "success",
            "max": 328509745,
            "_view_module": "@jupyter-widgets/controls",
            "_model_module_version": "1.5.0",
            "value": 328509745,
            "_view_count": null,
            "_view_module_version": "1.5.0",
            "orientation": "horizontal",
            "min": 0,
            "description_tooltip": null,
            "_model_module": "@jupyter-widgets/controls",
            "layout": "IPY_MODEL_f406790dee384024bc511c15d51902f5"
          }
        },
        "cedd5953922b47c3a1512d64c77fd491": {
          "model_module": "@jupyter-widgets/controls",
          "model_name": "HTMLModel",
          "model_module_version": "1.5.0",
          "state": {
            "_view_name": "HTMLView",
            "style": "IPY_MODEL_d982d89df8404f1ca77a785d12449d17",
            "_dom_classes": [],
            "description": "",
            "_model_name": "HTMLModel",
            "placeholder": "​",
            "_view_module": "@jupyter-widgets/controls",
            "_model_module_version": "1.5.0",
            "value": " 329M/329M [00:30&lt;00:00, 15.9MB/s]",
            "_view_count": null,
            "_view_module_version": "1.5.0",
            "description_tooltip": null,
            "_model_module": "@jupyter-widgets/controls",
            "layout": "IPY_MODEL_c2bea9afa4a6486fac30a033bbf3fd54"
          }
        },
        "3c24f34c8e564bb393c0d48763f4dd10": {
          "model_module": "@jupyter-widgets/controls",
          "model_name": "DescriptionStyleModel",
          "model_module_version": "1.5.0",
          "state": {
            "_view_name": "StyleView",
            "_model_name": "DescriptionStyleModel",
            "description_width": "",
            "_view_module": "@jupyter-widgets/base",
            "_model_module_version": "1.5.0",
            "_view_count": null,
            "_view_module_version": "1.2.0",
            "_model_module": "@jupyter-widgets/controls"
          }
        },
        "1bd802ace55a4974868ee40894dafea8": {
          "model_module": "@jupyter-widgets/base",
          "model_name": "LayoutModel",
          "model_module_version": "1.2.0",
          "state": {
            "_view_name": "LayoutView",
            "grid_template_rows": null,
            "right": null,
            "justify_content": null,
            "_view_module": "@jupyter-widgets/base",
            "overflow": null,
            "_model_module_version": "1.2.0",
            "_view_count": null,
            "flex_flow": null,
            "width": null,
            "min_width": null,
            "border": null,
            "align_items": null,
            "bottom": null,
            "_model_module": "@jupyter-widgets/base",
            "top": null,
            "grid_column": null,
            "overflow_y": null,
            "overflow_x": null,
            "grid_auto_flow": null,
            "grid_area": null,
            "grid_template_columns": null,
            "flex": null,
            "_model_name": "LayoutModel",
            "justify_items": null,
            "grid_row": null,
            "max_height": null,
            "align_content": null,
            "visibility": null,
            "align_self": null,
            "height": null,
            "min_height": null,
            "padding": null,
            "grid_auto_rows": null,
            "grid_gap": null,
            "max_width": null,
            "order": null,
            "_view_module_version": "1.2.0",
            "grid_template_areas": null,
            "object_position": null,
            "object_fit": null,
            "grid_auto_columns": null,
            "margin": null,
            "display": null,
            "left": null
          }
        },
        "d0e0f10b461d49468f47a3674e3e9fb7": {
          "model_module": "@jupyter-widgets/controls",
          "model_name": "ProgressStyleModel",
          "model_module_version": "1.5.0",
          "state": {
            "_view_name": "StyleView",
            "_model_name": "ProgressStyleModel",
            "description_width": "",
            "_view_module": "@jupyter-widgets/base",
            "_model_module_version": "1.5.0",
            "_view_count": null,
            "_view_module_version": "1.2.0",
            "bar_color": null,
            "_model_module": "@jupyter-widgets/controls"
          }
        },
        "f406790dee384024bc511c15d51902f5": {
          "model_module": "@jupyter-widgets/base",
          "model_name": "LayoutModel",
          "model_module_version": "1.2.0",
          "state": {
            "_view_name": "LayoutView",
            "grid_template_rows": null,
            "right": null,
            "justify_content": null,
            "_view_module": "@jupyter-widgets/base",
            "overflow": null,
            "_model_module_version": "1.2.0",
            "_view_count": null,
            "flex_flow": null,
            "width": null,
            "min_width": null,
            "border": null,
            "align_items": null,
            "bottom": null,
            "_model_module": "@jupyter-widgets/base",
            "top": null,
            "grid_column": null,
            "overflow_y": null,
            "overflow_x": null,
            "grid_auto_flow": null,
            "grid_area": null,
            "grid_template_columns": null,
            "flex": null,
            "_model_name": "LayoutModel",
            "justify_items": null,
            "grid_row": null,
            "max_height": null,
            "align_content": null,
            "visibility": null,
            "align_self": null,
            "height": null,
            "min_height": null,
            "padding": null,
            "grid_auto_rows": null,
            "grid_gap": null,
            "max_width": null,
            "order": null,
            "_view_module_version": "1.2.0",
            "grid_template_areas": null,
            "object_position": null,
            "object_fit": null,
            "grid_auto_columns": null,
            "margin": null,
            "display": null,
            "left": null
          }
        },
        "d982d89df8404f1ca77a785d12449d17": {
          "model_module": "@jupyter-widgets/controls",
          "model_name": "DescriptionStyleModel",
          "model_module_version": "1.5.0",
          "state": {
            "_view_name": "StyleView",
            "_model_name": "DescriptionStyleModel",
            "description_width": "",
            "_view_module": "@jupyter-widgets/base",
            "_model_module_version": "1.5.0",
            "_view_count": null,
            "_view_module_version": "1.2.0",
            "_model_module": "@jupyter-widgets/controls"
          }
        },
        "c2bea9afa4a6486fac30a033bbf3fd54": {
          "model_module": "@jupyter-widgets/base",
          "model_name": "LayoutModel",
          "model_module_version": "1.2.0",
          "state": {
            "_view_name": "LayoutView",
            "grid_template_rows": null,
            "right": null,
            "justify_content": null,
            "_view_module": "@jupyter-widgets/base",
            "overflow": null,
            "_model_module_version": "1.2.0",
            "_view_count": null,
            "flex_flow": null,
            "width": null,
            "min_width": null,
            "border": null,
            "align_items": null,
            "bottom": null,
            "_model_module": "@jupyter-widgets/base",
            "top": null,
            "grid_column": null,
            "overflow_y": null,
            "overflow_x": null,
            "grid_auto_flow": null,
            "grid_area": null,
            "grid_template_columns": null,
            "flex": null,
            "_model_name": "LayoutModel",
            "justify_items": null,
            "grid_row": null,
            "max_height": null,
            "align_content": null,
            "visibility": null,
            "align_self": null,
            "height": null,
            "min_height": null,
            "padding": null,
            "grid_auto_rows": null,
            "grid_gap": null,
            "max_width": null,
            "order": null,
            "_view_module_version": "1.2.0",
            "grid_template_areas": null,
            "object_position": null,
            "object_fit": null,
            "grid_auto_columns": null,
            "margin": null,
            "display": null,
            "left": null
          }
        },
        "def2e7bb40cb42308558e56dae44aafb": {
          "model_module": "@jupyter-widgets/controls",
          "model_name": "HBoxModel",
          "model_module_version": "1.5.0",
          "state": {
            "_view_name": "HBoxView",
            "_dom_classes": [],
            "_model_name": "HBoxModel",
            "_view_module": "@jupyter-widgets/controls",
            "_model_module_version": "1.5.0",
            "_view_count": null,
            "_view_module_version": "1.5.0",
            "box_style": "",
            "layout": "IPY_MODEL_1f3019c9e1154d2ab93815a34e2bffb1",
            "_model_module": "@jupyter-widgets/controls",
            "children": [
              "IPY_MODEL_2e38b218552249468ebd8d4574ecd462",
              "IPY_MODEL_7b31b0c3ec4f4574bff0ab7d9857e811",
              "IPY_MODEL_e6a69e3fdd1c48cca09e60d9c43c1248"
            ]
          }
        },
        "1f3019c9e1154d2ab93815a34e2bffb1": {
          "model_module": "@jupyter-widgets/base",
          "model_name": "LayoutModel",
          "model_module_version": "1.2.0",
          "state": {
            "_view_name": "LayoutView",
            "grid_template_rows": null,
            "right": null,
            "justify_content": null,
            "_view_module": "@jupyter-widgets/base",
            "overflow": null,
            "_model_module_version": "1.2.0",
            "_view_count": null,
            "flex_flow": null,
            "width": null,
            "min_width": null,
            "border": null,
            "align_items": null,
            "bottom": null,
            "_model_module": "@jupyter-widgets/base",
            "top": null,
            "grid_column": null,
            "overflow_y": null,
            "overflow_x": null,
            "grid_auto_flow": null,
            "grid_area": null,
            "grid_template_columns": null,
            "flex": null,
            "_model_name": "LayoutModel",
            "justify_items": null,
            "grid_row": null,
            "max_height": null,
            "align_content": null,
            "visibility": null,
            "align_self": null,
            "height": null,
            "min_height": null,
            "padding": null,
            "grid_auto_rows": null,
            "grid_gap": null,
            "max_width": null,
            "order": null,
            "_view_module_version": "1.2.0",
            "grid_template_areas": null,
            "object_position": null,
            "object_fit": null,
            "grid_auto_columns": null,
            "margin": null,
            "display": null,
            "left": null
          }
        },
        "2e38b218552249468ebd8d4574ecd462": {
          "model_module": "@jupyter-widgets/controls",
          "model_name": "HTMLModel",
          "model_module_version": "1.5.0",
          "state": {
            "_view_name": "HTMLView",
            "style": "IPY_MODEL_f3ba57e4a0d84b0ca81ba0ef6df7e1cc",
            "_dom_classes": [],
            "description": "",
            "_model_name": "HTMLModel",
            "placeholder": "​",
            "_view_module": "@jupyter-widgets/controls",
            "_model_module_version": "1.5.0",
            "value": "Downloading: 100%",
            "_view_count": null,
            "_view_module_version": "1.5.0",
            "description_tooltip": null,
            "_model_module": "@jupyter-widgets/controls",
            "layout": "IPY_MODEL_583139f0426b4f97b4b390c2776f02ff"
          }
        },
        "7b31b0c3ec4f4574bff0ab7d9857e811": {
          "model_module": "@jupyter-widgets/controls",
          "model_name": "FloatProgressModel",
          "model_module_version": "1.5.0",
          "state": {
            "_view_name": "ProgressView",
            "style": "IPY_MODEL_03fd1919b3ee47ef853d9e180e368329",
            "_dom_classes": [],
            "description": "",
            "_model_name": "FloatProgressModel",
            "bar_style": "success",
            "max": 53,
            "_view_module": "@jupyter-widgets/controls",
            "_model_module_version": "1.5.0",
            "value": 53,
            "_view_count": null,
            "_view_module_version": "1.5.0",
            "orientation": "horizontal",
            "min": 0,
            "description_tooltip": null,
            "_model_module": "@jupyter-widgets/controls",
            "layout": "IPY_MODEL_d777f2a153b441a3b54b20a0fde08078"
          }
        },
        "e6a69e3fdd1c48cca09e60d9c43c1248": {
          "model_module": "@jupyter-widgets/controls",
          "model_name": "HTMLModel",
          "model_module_version": "1.5.0",
          "state": {
            "_view_name": "HTMLView",
            "style": "IPY_MODEL_eee30f4f9d0d4f338759099eae581b26",
            "_dom_classes": [],
            "description": "",
            "_model_name": "HTMLModel",
            "placeholder": "​",
            "_view_module": "@jupyter-widgets/controls",
            "_model_module_version": "1.5.0",
            "value": " 53.0/53.0 [00:00&lt;00:00, 457B/s]",
            "_view_count": null,
            "_view_module_version": "1.5.0",
            "description_tooltip": null,
            "_model_module": "@jupyter-widgets/controls",
            "layout": "IPY_MODEL_3c6d059a5b314d48910adddc6e991db7"
          }
        },
        "f3ba57e4a0d84b0ca81ba0ef6df7e1cc": {
          "model_module": "@jupyter-widgets/controls",
          "model_name": "DescriptionStyleModel",
          "model_module_version": "1.5.0",
          "state": {
            "_view_name": "StyleView",
            "_model_name": "DescriptionStyleModel",
            "description_width": "",
            "_view_module": "@jupyter-widgets/base",
            "_model_module_version": "1.5.0",
            "_view_count": null,
            "_view_module_version": "1.2.0",
            "_model_module": "@jupyter-widgets/controls"
          }
        },
        "583139f0426b4f97b4b390c2776f02ff": {
          "model_module": "@jupyter-widgets/base",
          "model_name": "LayoutModel",
          "model_module_version": "1.2.0",
          "state": {
            "_view_name": "LayoutView",
            "grid_template_rows": null,
            "right": null,
            "justify_content": null,
            "_view_module": "@jupyter-widgets/base",
            "overflow": null,
            "_model_module_version": "1.2.0",
            "_view_count": null,
            "flex_flow": null,
            "width": null,
            "min_width": null,
            "border": null,
            "align_items": null,
            "bottom": null,
            "_model_module": "@jupyter-widgets/base",
            "top": null,
            "grid_column": null,
            "overflow_y": null,
            "overflow_x": null,
            "grid_auto_flow": null,
            "grid_area": null,
            "grid_template_columns": null,
            "flex": null,
            "_model_name": "LayoutModel",
            "justify_items": null,
            "grid_row": null,
            "max_height": null,
            "align_content": null,
            "visibility": null,
            "align_self": null,
            "height": null,
            "min_height": null,
            "padding": null,
            "grid_auto_rows": null,
            "grid_gap": null,
            "max_width": null,
            "order": null,
            "_view_module_version": "1.2.0",
            "grid_template_areas": null,
            "object_position": null,
            "object_fit": null,
            "grid_auto_columns": null,
            "margin": null,
            "display": null,
            "left": null
          }
        },
        "03fd1919b3ee47ef853d9e180e368329": {
          "model_module": "@jupyter-widgets/controls",
          "model_name": "ProgressStyleModel",
          "model_module_version": "1.5.0",
          "state": {
            "_view_name": "StyleView",
            "_model_name": "ProgressStyleModel",
            "description_width": "",
            "_view_module": "@jupyter-widgets/base",
            "_model_module_version": "1.5.0",
            "_view_count": null,
            "_view_module_version": "1.2.0",
            "bar_color": null,
            "_model_module": "@jupyter-widgets/controls"
          }
        },
        "d777f2a153b441a3b54b20a0fde08078": {
          "model_module": "@jupyter-widgets/base",
          "model_name": "LayoutModel",
          "model_module_version": "1.2.0",
          "state": {
            "_view_name": "LayoutView",
            "grid_template_rows": null,
            "right": null,
            "justify_content": null,
            "_view_module": "@jupyter-widgets/base",
            "overflow": null,
            "_model_module_version": "1.2.0",
            "_view_count": null,
            "flex_flow": null,
            "width": null,
            "min_width": null,
            "border": null,
            "align_items": null,
            "bottom": null,
            "_model_module": "@jupyter-widgets/base",
            "top": null,
            "grid_column": null,
            "overflow_y": null,
            "overflow_x": null,
            "grid_auto_flow": null,
            "grid_area": null,
            "grid_template_columns": null,
            "flex": null,
            "_model_name": "LayoutModel",
            "justify_items": null,
            "grid_row": null,
            "max_height": null,
            "align_content": null,
            "visibility": null,
            "align_self": null,
            "height": null,
            "min_height": null,
            "padding": null,
            "grid_auto_rows": null,
            "grid_gap": null,
            "max_width": null,
            "order": null,
            "_view_module_version": "1.2.0",
            "grid_template_areas": null,
            "object_position": null,
            "object_fit": null,
            "grid_auto_columns": null,
            "margin": null,
            "display": null,
            "left": null
          }
        },
        "eee30f4f9d0d4f338759099eae581b26": {
          "model_module": "@jupyter-widgets/controls",
          "model_name": "DescriptionStyleModel",
          "model_module_version": "1.5.0",
          "state": {
            "_view_name": "StyleView",
            "_model_name": "DescriptionStyleModel",
            "description_width": "",
            "_view_module": "@jupyter-widgets/base",
            "_model_module_version": "1.5.0",
            "_view_count": null,
            "_view_module_version": "1.2.0",
            "_model_module": "@jupyter-widgets/controls"
          }
        },
        "3c6d059a5b314d48910adddc6e991db7": {
          "model_module": "@jupyter-widgets/base",
          "model_name": "LayoutModel",
          "model_module_version": "1.2.0",
          "state": {
            "_view_name": "LayoutView",
            "grid_template_rows": null,
            "right": null,
            "justify_content": null,
            "_view_module": "@jupyter-widgets/base",
            "overflow": null,
            "_model_module_version": "1.2.0",
            "_view_count": null,
            "flex_flow": null,
            "width": null,
            "min_width": null,
            "border": null,
            "align_items": null,
            "bottom": null,
            "_model_module": "@jupyter-widgets/base",
            "top": null,
            "grid_column": null,
            "overflow_y": null,
            "overflow_x": null,
            "grid_auto_flow": null,
            "grid_area": null,
            "grid_template_columns": null,
            "flex": null,
            "_model_name": "LayoutModel",
            "justify_items": null,
            "grid_row": null,
            "max_height": null,
            "align_content": null,
            "visibility": null,
            "align_self": null,
            "height": null,
            "min_height": null,
            "padding": null,
            "grid_auto_rows": null,
            "grid_gap": null,
            "max_width": null,
            "order": null,
            "_view_module_version": "1.2.0",
            "grid_template_areas": null,
            "object_position": null,
            "object_fit": null,
            "grid_auto_columns": null,
            "margin": null,
            "display": null,
            "left": null
          }
        },
        "790a6fbafe9e445ea579f29e13af3493": {
          "model_module": "@jupyter-widgets/controls",
          "model_name": "HBoxModel",
          "model_module_version": "1.5.0",
          "state": {
            "_view_name": "HBoxView",
            "_dom_classes": [],
            "_model_name": "HBoxModel",
            "_view_module": "@jupyter-widgets/controls",
            "_model_module_version": "1.5.0",
            "_view_count": null,
            "_view_module_version": "1.5.0",
            "box_style": "",
            "layout": "IPY_MODEL_75fd2a8c8de34fd182e1f344dc827bd1",
            "_model_module": "@jupyter-widgets/controls",
            "children": [
              "IPY_MODEL_0022be5561774d4d92fa2f4d9198753d",
              "IPY_MODEL_958e056b612d42bf9b80fe841c33c1e8",
              "IPY_MODEL_b5cc5e6fe22f4c48a7b126c405c9cb20"
            ]
          }
        },
        "75fd2a8c8de34fd182e1f344dc827bd1": {
          "model_module": "@jupyter-widgets/base",
          "model_name": "LayoutModel",
          "model_module_version": "1.2.0",
          "state": {
            "_view_name": "LayoutView",
            "grid_template_rows": null,
            "right": null,
            "justify_content": null,
            "_view_module": "@jupyter-widgets/base",
            "overflow": null,
            "_model_module_version": "1.2.0",
            "_view_count": null,
            "flex_flow": null,
            "width": null,
            "min_width": null,
            "border": null,
            "align_items": null,
            "bottom": null,
            "_model_module": "@jupyter-widgets/base",
            "top": null,
            "grid_column": null,
            "overflow_y": null,
            "overflow_x": null,
            "grid_auto_flow": null,
            "grid_area": null,
            "grid_template_columns": null,
            "flex": null,
            "_model_name": "LayoutModel",
            "justify_items": null,
            "grid_row": null,
            "max_height": null,
            "align_content": null,
            "visibility": null,
            "align_self": null,
            "height": null,
            "min_height": null,
            "padding": null,
            "grid_auto_rows": null,
            "grid_gap": null,
            "max_width": null,
            "order": null,
            "_view_module_version": "1.2.0",
            "grid_template_areas": null,
            "object_position": null,
            "object_fit": null,
            "grid_auto_columns": null,
            "margin": null,
            "display": null,
            "left": null
          }
        },
        "0022be5561774d4d92fa2f4d9198753d": {
          "model_module": "@jupyter-widgets/controls",
          "model_name": "HTMLModel",
          "model_module_version": "1.5.0",
          "state": {
            "_view_name": "HTMLView",
            "style": "IPY_MODEL_d079d2988feb41b8ad56e9b20d1c258e",
            "_dom_classes": [],
            "description": "",
            "_model_name": "HTMLModel",
            "placeholder": "​",
            "_view_module": "@jupyter-widgets/controls",
            "_model_module_version": "1.5.0",
            "value": "Downloading: 100%",
            "_view_count": null,
            "_view_module_version": "1.5.0",
            "description_tooltip": null,
            "_model_module": "@jupyter-widgets/controls",
            "layout": "IPY_MODEL_6836e6cf2f9e4ab080e96cb61fa38c23"
          }
        },
        "958e056b612d42bf9b80fe841c33c1e8": {
          "model_module": "@jupyter-widgets/controls",
          "model_name": "FloatProgressModel",
          "model_module_version": "1.5.0",
          "state": {
            "_view_name": "ProgressView",
            "style": "IPY_MODEL_b756ed643aa64f5fba4a0a65034ab672",
            "_dom_classes": [],
            "description": "",
            "_model_name": "FloatProgressModel",
            "bar_style": "success",
            "max": 239,
            "_view_module": "@jupyter-widgets/controls",
            "_model_module_version": "1.5.0",
            "value": 239,
            "_view_count": null,
            "_view_module_version": "1.5.0",
            "orientation": "horizontal",
            "min": 0,
            "description_tooltip": null,
            "_model_module": "@jupyter-widgets/controls",
            "layout": "IPY_MODEL_0d7b8e1e69324251b918369ebc02aa20"
          }
        },
        "b5cc5e6fe22f4c48a7b126c405c9cb20": {
          "model_module": "@jupyter-widgets/controls",
          "model_name": "HTMLModel",
          "model_module_version": "1.5.0",
          "state": {
            "_view_name": "HTMLView",
            "style": "IPY_MODEL_8da48dd4531b415ea6cec9a6fe7d8b04",
            "_dom_classes": [],
            "description": "",
            "_model_name": "HTMLModel",
            "placeholder": "​",
            "_view_module": "@jupyter-widgets/controls",
            "_model_module_version": "1.5.0",
            "value": " 239/239 [00:00&lt;00:00, 1.60kB/s]",
            "_view_count": null,
            "_view_module_version": "1.5.0",
            "description_tooltip": null,
            "_model_module": "@jupyter-widgets/controls",
            "layout": "IPY_MODEL_bb926dc83f6c4279a0f6de2720359a14"
          }
        },
        "d079d2988feb41b8ad56e9b20d1c258e": {
          "model_module": "@jupyter-widgets/controls",
          "model_name": "DescriptionStyleModel",
          "model_module_version": "1.5.0",
          "state": {
            "_view_name": "StyleView",
            "_model_name": "DescriptionStyleModel",
            "description_width": "",
            "_view_module": "@jupyter-widgets/base",
            "_model_module_version": "1.5.0",
            "_view_count": null,
            "_view_module_version": "1.2.0",
            "_model_module": "@jupyter-widgets/controls"
          }
        },
        "6836e6cf2f9e4ab080e96cb61fa38c23": {
          "model_module": "@jupyter-widgets/base",
          "model_name": "LayoutModel",
          "model_module_version": "1.2.0",
          "state": {
            "_view_name": "LayoutView",
            "grid_template_rows": null,
            "right": null,
            "justify_content": null,
            "_view_module": "@jupyter-widgets/base",
            "overflow": null,
            "_model_module_version": "1.2.0",
            "_view_count": null,
            "flex_flow": null,
            "width": null,
            "min_width": null,
            "border": null,
            "align_items": null,
            "bottom": null,
            "_model_module": "@jupyter-widgets/base",
            "top": null,
            "grid_column": null,
            "overflow_y": null,
            "overflow_x": null,
            "grid_auto_flow": null,
            "grid_area": null,
            "grid_template_columns": null,
            "flex": null,
            "_model_name": "LayoutModel",
            "justify_items": null,
            "grid_row": null,
            "max_height": null,
            "align_content": null,
            "visibility": null,
            "align_self": null,
            "height": null,
            "min_height": null,
            "padding": null,
            "grid_auto_rows": null,
            "grid_gap": null,
            "max_width": null,
            "order": null,
            "_view_module_version": "1.2.0",
            "grid_template_areas": null,
            "object_position": null,
            "object_fit": null,
            "grid_auto_columns": null,
            "margin": null,
            "display": null,
            "left": null
          }
        },
        "b756ed643aa64f5fba4a0a65034ab672": {
          "model_module": "@jupyter-widgets/controls",
          "model_name": "ProgressStyleModel",
          "model_module_version": "1.5.0",
          "state": {
            "_view_name": "StyleView",
            "_model_name": "ProgressStyleModel",
            "description_width": "",
            "_view_module": "@jupyter-widgets/base",
            "_model_module_version": "1.5.0",
            "_view_count": null,
            "_view_module_version": "1.2.0",
            "bar_color": null,
            "_model_module": "@jupyter-widgets/controls"
          }
        },
        "0d7b8e1e69324251b918369ebc02aa20": {
          "model_module": "@jupyter-widgets/base",
          "model_name": "LayoutModel",
          "model_module_version": "1.2.0",
          "state": {
            "_view_name": "LayoutView",
            "grid_template_rows": null,
            "right": null,
            "justify_content": null,
            "_view_module": "@jupyter-widgets/base",
            "overflow": null,
            "_model_module_version": "1.2.0",
            "_view_count": null,
            "flex_flow": null,
            "width": null,
            "min_width": null,
            "border": null,
            "align_items": null,
            "bottom": null,
            "_model_module": "@jupyter-widgets/base",
            "top": null,
            "grid_column": null,
            "overflow_y": null,
            "overflow_x": null,
            "grid_auto_flow": null,
            "grid_area": null,
            "grid_template_columns": null,
            "flex": null,
            "_model_name": "LayoutModel",
            "justify_items": null,
            "grid_row": null,
            "max_height": null,
            "align_content": null,
            "visibility": null,
            "align_self": null,
            "height": null,
            "min_height": null,
            "padding": null,
            "grid_auto_rows": null,
            "grid_gap": null,
            "max_width": null,
            "order": null,
            "_view_module_version": "1.2.0",
            "grid_template_areas": null,
            "object_position": null,
            "object_fit": null,
            "grid_auto_columns": null,
            "margin": null,
            "display": null,
            "left": null
          }
        },
        "8da48dd4531b415ea6cec9a6fe7d8b04": {
          "model_module": "@jupyter-widgets/controls",
          "model_name": "DescriptionStyleModel",
          "model_module_version": "1.5.0",
          "state": {
            "_view_name": "StyleView",
            "_model_name": "DescriptionStyleModel",
            "description_width": "",
            "_view_module": "@jupyter-widgets/base",
            "_model_module_version": "1.5.0",
            "_view_count": null,
            "_view_module_version": "1.2.0",
            "_model_module": "@jupyter-widgets/controls"
          }
        },
        "bb926dc83f6c4279a0f6de2720359a14": {
          "model_module": "@jupyter-widgets/base",
          "model_name": "LayoutModel",
          "model_module_version": "1.2.0",
          "state": {
            "_view_name": "LayoutView",
            "grid_template_rows": null,
            "right": null,
            "justify_content": null,
            "_view_module": "@jupyter-widgets/base",
            "overflow": null,
            "_model_module_version": "1.2.0",
            "_view_count": null,
            "flex_flow": null,
            "width": null,
            "min_width": null,
            "border": null,
            "align_items": null,
            "bottom": null,
            "_model_module": "@jupyter-widgets/base",
            "top": null,
            "grid_column": null,
            "overflow_y": null,
            "overflow_x": null,
            "grid_auto_flow": null,
            "grid_area": null,
            "grid_template_columns": null,
            "flex": null,
            "_model_name": "LayoutModel",
            "justify_items": null,
            "grid_row": null,
            "max_height": null,
            "align_content": null,
            "visibility": null,
            "align_self": null,
            "height": null,
            "min_height": null,
            "padding": null,
            "grid_auto_rows": null,
            "grid_gap": null,
            "max_width": null,
            "order": null,
            "_view_module_version": "1.2.0",
            "grid_template_areas": null,
            "object_position": null,
            "object_fit": null,
            "grid_auto_columns": null,
            "margin": null,
            "display": null,
            "left": null
          }
        },
        "aa8d8f1abada40c28a95992f05c3d490": {
          "model_module": "@jupyter-widgets/controls",
          "model_name": "HBoxModel",
          "model_module_version": "1.5.0",
          "state": {
            "_view_name": "HBoxView",
            "_dom_classes": [],
            "_model_name": "HBoxModel",
            "_view_module": "@jupyter-widgets/controls",
            "_model_module_version": "1.5.0",
            "_view_count": null,
            "_view_module_version": "1.5.0",
            "box_style": "",
            "layout": "IPY_MODEL_a1f521b00ca2481485c3ddf9bd6a133d",
            "_model_module": "@jupyter-widgets/controls",
            "children": [
              "IPY_MODEL_6906e5cc9c204d31b392435649a8ee3c",
              "IPY_MODEL_f4c5600a6eb846e488c23ffb122e7753",
              "IPY_MODEL_69abb548bfca4650b6f3503b54bf197d"
            ]
          }
        },
        "a1f521b00ca2481485c3ddf9bd6a133d": {
          "model_module": "@jupyter-widgets/base",
          "model_name": "LayoutModel",
          "model_module_version": "1.2.0",
          "state": {
            "_view_name": "LayoutView",
            "grid_template_rows": null,
            "right": null,
            "justify_content": null,
            "_view_module": "@jupyter-widgets/base",
            "overflow": null,
            "_model_module_version": "1.2.0",
            "_view_count": null,
            "flex_flow": null,
            "width": null,
            "min_width": null,
            "border": null,
            "align_items": null,
            "bottom": null,
            "_model_module": "@jupyter-widgets/base",
            "top": null,
            "grid_column": null,
            "overflow_y": null,
            "overflow_x": null,
            "grid_auto_flow": null,
            "grid_area": null,
            "grid_template_columns": null,
            "flex": null,
            "_model_name": "LayoutModel",
            "justify_items": null,
            "grid_row": null,
            "max_height": null,
            "align_content": null,
            "visibility": null,
            "align_self": null,
            "height": null,
            "min_height": null,
            "padding": null,
            "grid_auto_rows": null,
            "grid_gap": null,
            "max_width": null,
            "order": null,
            "_view_module_version": "1.2.0",
            "grid_template_areas": null,
            "object_position": null,
            "object_fit": null,
            "grid_auto_columns": null,
            "margin": null,
            "display": null,
            "left": null
          }
        },
        "6906e5cc9c204d31b392435649a8ee3c": {
          "model_module": "@jupyter-widgets/controls",
          "model_name": "HTMLModel",
          "model_module_version": "1.5.0",
          "state": {
            "_view_name": "HTMLView",
            "style": "IPY_MODEL_7ebac5b931464091ad663d88468ed24e",
            "_dom_classes": [],
            "description": "",
            "_model_name": "HTMLModel",
            "placeholder": "​",
            "_view_module": "@jupyter-widgets/controls",
            "_model_module_version": "1.5.0",
            "value": "Downloading: 100%",
            "_view_count": null,
            "_view_module_version": "1.5.0",
            "description_tooltip": null,
            "_model_module": "@jupyter-widgets/controls",
            "layout": "IPY_MODEL_3646986d2f2544ac946fd7fe7b1f5d47"
          }
        },
        "f4c5600a6eb846e488c23ffb122e7753": {
          "model_module": "@jupyter-widgets/controls",
          "model_name": "FloatProgressModel",
          "model_module_version": "1.5.0",
          "state": {
            "_view_name": "ProgressView",
            "style": "IPY_MODEL_290799b25c974efb8ab1005e24c2acbe",
            "_dom_classes": [],
            "description": "",
            "_model_name": "FloatProgressModel",
            "bar_style": "success",
            "max": 1356047,
            "_view_module": "@jupyter-widgets/controls",
            "_model_module_version": "1.5.0",
            "value": 1356047,
            "_view_count": null,
            "_view_module_version": "1.5.0",
            "orientation": "horizontal",
            "min": 0,
            "description_tooltip": null,
            "_model_module": "@jupyter-widgets/controls",
            "layout": "IPY_MODEL_b6c792d9d4cc4c85af40b53baafb1b25"
          }
        },
        "69abb548bfca4650b6f3503b54bf197d": {
          "model_module": "@jupyter-widgets/controls",
          "model_name": "HTMLModel",
          "model_module_version": "1.5.0",
          "state": {
            "_view_name": "HTMLView",
            "style": "IPY_MODEL_514730ee74684794882ec39c3d066fd0",
            "_dom_classes": [],
            "description": "",
            "_model_name": "HTMLModel",
            "placeholder": "​",
            "_view_module": "@jupyter-widgets/controls",
            "_model_module_version": "1.5.0",
            "value": " 1.36M/1.36M [00:00&lt;00:00, 1.25MB/s]",
            "_view_count": null,
            "_view_module_version": "1.5.0",
            "description_tooltip": null,
            "_model_module": "@jupyter-widgets/controls",
            "layout": "IPY_MODEL_3ecf6f037eac4df898aafd0cbd218043"
          }
        },
        "7ebac5b931464091ad663d88468ed24e": {
          "model_module": "@jupyter-widgets/controls",
          "model_name": "DescriptionStyleModel",
          "model_module_version": "1.5.0",
          "state": {
            "_view_name": "StyleView",
            "_model_name": "DescriptionStyleModel",
            "description_width": "",
            "_view_module": "@jupyter-widgets/base",
            "_model_module_version": "1.5.0",
            "_view_count": null,
            "_view_module_version": "1.2.0",
            "_model_module": "@jupyter-widgets/controls"
          }
        },
        "3646986d2f2544ac946fd7fe7b1f5d47": {
          "model_module": "@jupyter-widgets/base",
          "model_name": "LayoutModel",
          "model_module_version": "1.2.0",
          "state": {
            "_view_name": "LayoutView",
            "grid_template_rows": null,
            "right": null,
            "justify_content": null,
            "_view_module": "@jupyter-widgets/base",
            "overflow": null,
            "_model_module_version": "1.2.0",
            "_view_count": null,
            "flex_flow": null,
            "width": null,
            "min_width": null,
            "border": null,
            "align_items": null,
            "bottom": null,
            "_model_module": "@jupyter-widgets/base",
            "top": null,
            "grid_column": null,
            "overflow_y": null,
            "overflow_x": null,
            "grid_auto_flow": null,
            "grid_area": null,
            "grid_template_columns": null,
            "flex": null,
            "_model_name": "LayoutModel",
            "justify_items": null,
            "grid_row": null,
            "max_height": null,
            "align_content": null,
            "visibility": null,
            "align_self": null,
            "height": null,
            "min_height": null,
            "padding": null,
            "grid_auto_rows": null,
            "grid_gap": null,
            "max_width": null,
            "order": null,
            "_view_module_version": "1.2.0",
            "grid_template_areas": null,
            "object_position": null,
            "object_fit": null,
            "grid_auto_columns": null,
            "margin": null,
            "display": null,
            "left": null
          }
        },
        "290799b25c974efb8ab1005e24c2acbe": {
          "model_module": "@jupyter-widgets/controls",
          "model_name": "ProgressStyleModel",
          "model_module_version": "1.5.0",
          "state": {
            "_view_name": "StyleView",
            "_model_name": "ProgressStyleModel",
            "description_width": "",
            "_view_module": "@jupyter-widgets/base",
            "_model_module_version": "1.5.0",
            "_view_count": null,
            "_view_module_version": "1.2.0",
            "bar_color": null,
            "_model_module": "@jupyter-widgets/controls"
          }
        },
        "b6c792d9d4cc4c85af40b53baafb1b25": {
          "model_module": "@jupyter-widgets/base",
          "model_name": "LayoutModel",
          "model_module_version": "1.2.0",
          "state": {
            "_view_name": "LayoutView",
            "grid_template_rows": null,
            "right": null,
            "justify_content": null,
            "_view_module": "@jupyter-widgets/base",
            "overflow": null,
            "_model_module_version": "1.2.0",
            "_view_count": null,
            "flex_flow": null,
            "width": null,
            "min_width": null,
            "border": null,
            "align_items": null,
            "bottom": null,
            "_model_module": "@jupyter-widgets/base",
            "top": null,
            "grid_column": null,
            "overflow_y": null,
            "overflow_x": null,
            "grid_auto_flow": null,
            "grid_area": null,
            "grid_template_columns": null,
            "flex": null,
            "_model_name": "LayoutModel",
            "justify_items": null,
            "grid_row": null,
            "max_height": null,
            "align_content": null,
            "visibility": null,
            "align_self": null,
            "height": null,
            "min_height": null,
            "padding": null,
            "grid_auto_rows": null,
            "grid_gap": null,
            "max_width": null,
            "order": null,
            "_view_module_version": "1.2.0",
            "grid_template_areas": null,
            "object_position": null,
            "object_fit": null,
            "grid_auto_columns": null,
            "margin": null,
            "display": null,
            "left": null
          }
        },
        "514730ee74684794882ec39c3d066fd0": {
          "model_module": "@jupyter-widgets/controls",
          "model_name": "DescriptionStyleModel",
          "model_module_version": "1.5.0",
          "state": {
            "_view_name": "StyleView",
            "_model_name": "DescriptionStyleModel",
            "description_width": "",
            "_view_module": "@jupyter-widgets/base",
            "_model_module_version": "1.5.0",
            "_view_count": null,
            "_view_module_version": "1.2.0",
            "_model_module": "@jupyter-widgets/controls"
          }
        },
        "3ecf6f037eac4df898aafd0cbd218043": {
          "model_module": "@jupyter-widgets/base",
          "model_name": "LayoutModel",
          "model_module_version": "1.2.0",
          "state": {
            "_view_name": "LayoutView",
            "grid_template_rows": null,
            "right": null,
            "justify_content": null,
            "_view_module": "@jupyter-widgets/base",
            "overflow": null,
            "_model_module_version": "1.2.0",
            "_view_count": null,
            "flex_flow": null,
            "width": null,
            "min_width": null,
            "border": null,
            "align_items": null,
            "bottom": null,
            "_model_module": "@jupyter-widgets/base",
            "top": null,
            "grid_column": null,
            "overflow_y": null,
            "overflow_x": null,
            "grid_auto_flow": null,
            "grid_area": null,
            "grid_template_columns": null,
            "flex": null,
            "_model_name": "LayoutModel",
            "justify_items": null,
            "grid_row": null,
            "max_height": null,
            "align_content": null,
            "visibility": null,
            "align_self": null,
            "height": null,
            "min_height": null,
            "padding": null,
            "grid_auto_rows": null,
            "grid_gap": null,
            "max_width": null,
            "order": null,
            "_view_module_version": "1.2.0",
            "grid_template_areas": null,
            "object_position": null,
            "object_fit": null,
            "grid_auto_columns": null,
            "margin": null,
            "display": null,
            "left": null
          }
        },
        "778aabbff6b14f348509cc389d0523a0": {
          "model_module": "@jupyter-widgets/controls",
          "model_name": "HBoxModel",
          "model_module_version": "1.5.0",
          "state": {
            "_view_name": "HBoxView",
            "_dom_classes": [],
            "_model_name": "HBoxModel",
            "_view_module": "@jupyter-widgets/controls",
            "_model_module_version": "1.5.0",
            "_view_count": null,
            "_view_module_version": "1.5.0",
            "box_style": "",
            "layout": "IPY_MODEL_9eaf7d33f19a45cd88bbf75922c689c6",
            "_model_module": "@jupyter-widgets/controls",
            "children": [
              "IPY_MODEL_e82b34a655594694bd1f80b65ddd2146",
              "IPY_MODEL_8ce6b490442546359dd45a09fe5e87a0",
              "IPY_MODEL_4f049c570ac34e1caef672b91db3aeea"
            ]
          }
        },
        "9eaf7d33f19a45cd88bbf75922c689c6": {
          "model_module": "@jupyter-widgets/base",
          "model_name": "LayoutModel",
          "model_module_version": "1.2.0",
          "state": {
            "_view_name": "LayoutView",
            "grid_template_rows": null,
            "right": null,
            "justify_content": null,
            "_view_module": "@jupyter-widgets/base",
            "overflow": null,
            "_model_module_version": "1.2.0",
            "_view_count": null,
            "flex_flow": null,
            "width": null,
            "min_width": null,
            "border": null,
            "align_items": null,
            "bottom": null,
            "_model_module": "@jupyter-widgets/base",
            "top": null,
            "grid_column": null,
            "overflow_y": null,
            "overflow_x": null,
            "grid_auto_flow": null,
            "grid_area": null,
            "grid_template_columns": null,
            "flex": null,
            "_model_name": "LayoutModel",
            "justify_items": null,
            "grid_row": null,
            "max_height": null,
            "align_content": null,
            "visibility": null,
            "align_self": null,
            "height": null,
            "min_height": null,
            "padding": null,
            "grid_auto_rows": null,
            "grid_gap": null,
            "max_width": null,
            "order": null,
            "_view_module_version": "1.2.0",
            "grid_template_areas": null,
            "object_position": null,
            "object_fit": null,
            "grid_auto_columns": null,
            "margin": null,
            "display": null,
            "left": null
          }
        },
        "e82b34a655594694bd1f80b65ddd2146": {
          "model_module": "@jupyter-widgets/controls",
          "model_name": "HTMLModel",
          "model_module_version": "1.5.0",
          "state": {
            "_view_name": "HTMLView",
            "style": "IPY_MODEL_a0225e3190664df6a6b5c85541b8aac5",
            "_dom_classes": [],
            "description": "",
            "_model_name": "HTMLModel",
            "placeholder": "​",
            "_view_module": "@jupyter-widgets/controls",
            "_model_module_version": "1.5.0",
            "value": "Downloading: 100%",
            "_view_count": null,
            "_view_module_version": "1.5.0",
            "description_tooltip": null,
            "_model_module": "@jupyter-widgets/controls",
            "layout": "IPY_MODEL_36a43d4f47134b7e82fe3bcf4d901b6d"
          }
        },
        "8ce6b490442546359dd45a09fe5e87a0": {
          "model_module": "@jupyter-widgets/controls",
          "model_name": "FloatProgressModel",
          "model_module_version": "1.5.0",
          "state": {
            "_view_name": "ProgressView",
            "style": "IPY_MODEL_ba230d43b9894dfebbaad91a29a5199c",
            "_dom_classes": [],
            "description": "",
            "_model_name": "FloatProgressModel",
            "bar_style": "success",
            "max": 333,
            "_view_module": "@jupyter-widgets/controls",
            "_model_module_version": "1.5.0",
            "value": 333,
            "_view_count": null,
            "_view_module_version": "1.5.0",
            "orientation": "horizontal",
            "min": 0,
            "description_tooltip": null,
            "_model_module": "@jupyter-widgets/controls",
            "layout": "IPY_MODEL_03f2b1d87f90493d919dcac75bf3407e"
          }
        },
        "4f049c570ac34e1caef672b91db3aeea": {
          "model_module": "@jupyter-widgets/controls",
          "model_name": "HTMLModel",
          "model_module_version": "1.5.0",
          "state": {
            "_view_name": "HTMLView",
            "style": "IPY_MODEL_d8c88ae5ef7f454796da7e64d7061967",
            "_dom_classes": [],
            "description": "",
            "_model_name": "HTMLModel",
            "placeholder": "​",
            "_view_module": "@jupyter-widgets/controls",
            "_model_module_version": "1.5.0",
            "value": " 333/333 [00:00&lt;00:00, 3.54kB/s]",
            "_view_count": null,
            "_view_module_version": "1.5.0",
            "description_tooltip": null,
            "_model_module": "@jupyter-widgets/controls",
            "layout": "IPY_MODEL_9f6b2c16b82e46cd828c6f4b4077876e"
          }
        },
        "a0225e3190664df6a6b5c85541b8aac5": {
          "model_module": "@jupyter-widgets/controls",
          "model_name": "DescriptionStyleModel",
          "model_module_version": "1.5.0",
          "state": {
            "_view_name": "StyleView",
            "_model_name": "DescriptionStyleModel",
            "description_width": "",
            "_view_module": "@jupyter-widgets/base",
            "_model_module_version": "1.5.0",
            "_view_count": null,
            "_view_module_version": "1.2.0",
            "_model_module": "@jupyter-widgets/controls"
          }
        },
        "36a43d4f47134b7e82fe3bcf4d901b6d": {
          "model_module": "@jupyter-widgets/base",
          "model_name": "LayoutModel",
          "model_module_version": "1.2.0",
          "state": {
            "_view_name": "LayoutView",
            "grid_template_rows": null,
            "right": null,
            "justify_content": null,
            "_view_module": "@jupyter-widgets/base",
            "overflow": null,
            "_model_module_version": "1.2.0",
            "_view_count": null,
            "flex_flow": null,
            "width": null,
            "min_width": null,
            "border": null,
            "align_items": null,
            "bottom": null,
            "_model_module": "@jupyter-widgets/base",
            "top": null,
            "grid_column": null,
            "overflow_y": null,
            "overflow_x": null,
            "grid_auto_flow": null,
            "grid_area": null,
            "grid_template_columns": null,
            "flex": null,
            "_model_name": "LayoutModel",
            "justify_items": null,
            "grid_row": null,
            "max_height": null,
            "align_content": null,
            "visibility": null,
            "align_self": null,
            "height": null,
            "min_height": null,
            "padding": null,
            "grid_auto_rows": null,
            "grid_gap": null,
            "max_width": null,
            "order": null,
            "_view_module_version": "1.2.0",
            "grid_template_areas": null,
            "object_position": null,
            "object_fit": null,
            "grid_auto_columns": null,
            "margin": null,
            "display": null,
            "left": null
          }
        },
        "ba230d43b9894dfebbaad91a29a5199c": {
          "model_module": "@jupyter-widgets/controls",
          "model_name": "ProgressStyleModel",
          "model_module_version": "1.5.0",
          "state": {
            "_view_name": "StyleView",
            "_model_name": "ProgressStyleModel",
            "description_width": "",
            "_view_module": "@jupyter-widgets/base",
            "_model_module_version": "1.5.0",
            "_view_count": null,
            "_view_module_version": "1.2.0",
            "bar_color": null,
            "_model_module": "@jupyter-widgets/controls"
          }
        },
        "03f2b1d87f90493d919dcac75bf3407e": {
          "model_module": "@jupyter-widgets/base",
          "model_name": "LayoutModel",
          "model_module_version": "1.2.0",
          "state": {
            "_view_name": "LayoutView",
            "grid_template_rows": null,
            "right": null,
            "justify_content": null,
            "_view_module": "@jupyter-widgets/base",
            "overflow": null,
            "_model_module_version": "1.2.0",
            "_view_count": null,
            "flex_flow": null,
            "width": null,
            "min_width": null,
            "border": null,
            "align_items": null,
            "bottom": null,
            "_model_module": "@jupyter-widgets/base",
            "top": null,
            "grid_column": null,
            "overflow_y": null,
            "overflow_x": null,
            "grid_auto_flow": null,
            "grid_area": null,
            "grid_template_columns": null,
            "flex": null,
            "_model_name": "LayoutModel",
            "justify_items": null,
            "grid_row": null,
            "max_height": null,
            "align_content": null,
            "visibility": null,
            "align_self": null,
            "height": null,
            "min_height": null,
            "padding": null,
            "grid_auto_rows": null,
            "grid_gap": null,
            "max_width": null,
            "order": null,
            "_view_module_version": "1.2.0",
            "grid_template_areas": null,
            "object_position": null,
            "object_fit": null,
            "grid_auto_columns": null,
            "margin": null,
            "display": null,
            "left": null
          }
        },
        "d8c88ae5ef7f454796da7e64d7061967": {
          "model_module": "@jupyter-widgets/controls",
          "model_name": "DescriptionStyleModel",
          "model_module_version": "1.5.0",
          "state": {
            "_view_name": "StyleView",
            "_model_name": "DescriptionStyleModel",
            "description_width": "",
            "_view_module": "@jupyter-widgets/base",
            "_model_module_version": "1.5.0",
            "_view_count": null,
            "_view_module_version": "1.2.0",
            "_model_module": "@jupyter-widgets/controls"
          }
        },
        "9f6b2c16b82e46cd828c6f4b4077876e": {
          "model_module": "@jupyter-widgets/base",
          "model_name": "LayoutModel",
          "model_module_version": "1.2.0",
          "state": {
            "_view_name": "LayoutView",
            "grid_template_rows": null,
            "right": null,
            "justify_content": null,
            "_view_module": "@jupyter-widgets/base",
            "overflow": null,
            "_model_module_version": "1.2.0",
            "_view_count": null,
            "flex_flow": null,
            "width": null,
            "min_width": null,
            "border": null,
            "align_items": null,
            "bottom": null,
            "_model_module": "@jupyter-widgets/base",
            "top": null,
            "grid_column": null,
            "overflow_y": null,
            "overflow_x": null,
            "grid_auto_flow": null,
            "grid_area": null,
            "grid_template_columns": null,
            "flex": null,
            "_model_name": "LayoutModel",
            "justify_items": null,
            "grid_row": null,
            "max_height": null,
            "align_content": null,
            "visibility": null,
            "align_self": null,
            "height": null,
            "min_height": null,
            "padding": null,
            "grid_auto_rows": null,
            "grid_gap": null,
            "max_width": null,
            "order": null,
            "_view_module_version": "1.2.0",
            "grid_template_areas": null,
            "object_position": null,
            "object_fit": null,
            "grid_auto_columns": null,
            "margin": null,
            "display": null,
            "left": null
          }
        },
        "72104bd9543e4e8b93d0fde819d2438b": {
          "model_module": "@jupyter-widgets/controls",
          "model_name": "HBoxModel",
          "model_module_version": "1.5.0",
          "state": {
            "_view_name": "HBoxView",
            "_dom_classes": [],
            "_model_name": "HBoxModel",
            "_view_module": "@jupyter-widgets/controls",
            "_model_module_version": "1.5.0",
            "_view_count": null,
            "_view_module_version": "1.5.0",
            "box_style": "",
            "layout": "IPY_MODEL_631bdb4150304447b71e39d387f55130",
            "_model_module": "@jupyter-widgets/controls",
            "children": [
              "IPY_MODEL_3681568979c94c3187354ead8ea6f50c",
              "IPY_MODEL_c7d5ec1a7ab0482e9361226efd1d10fd",
              "IPY_MODEL_6e618d3c11db42d0b8f1b1c19d33e804"
            ]
          }
        },
        "631bdb4150304447b71e39d387f55130": {
          "model_module": "@jupyter-widgets/base",
          "model_name": "LayoutModel",
          "model_module_version": "1.2.0",
          "state": {
            "_view_name": "LayoutView",
            "grid_template_rows": null,
            "right": null,
            "justify_content": null,
            "_view_module": "@jupyter-widgets/base",
            "overflow": null,
            "_model_module_version": "1.2.0",
            "_view_count": null,
            "flex_flow": null,
            "width": null,
            "min_width": null,
            "border": null,
            "align_items": null,
            "bottom": null,
            "_model_module": "@jupyter-widgets/base",
            "top": null,
            "grid_column": null,
            "overflow_y": null,
            "overflow_x": null,
            "grid_auto_flow": null,
            "grid_area": null,
            "grid_template_columns": null,
            "flex": null,
            "_model_name": "LayoutModel",
            "justify_items": null,
            "grid_row": null,
            "max_height": null,
            "align_content": null,
            "visibility": null,
            "align_self": null,
            "height": null,
            "min_height": null,
            "padding": null,
            "grid_auto_rows": null,
            "grid_gap": null,
            "max_width": null,
            "order": null,
            "_view_module_version": "1.2.0",
            "grid_template_areas": null,
            "object_position": null,
            "object_fit": null,
            "grid_auto_columns": null,
            "margin": null,
            "display": null,
            "left": null
          }
        },
        "3681568979c94c3187354ead8ea6f50c": {
          "model_module": "@jupyter-widgets/controls",
          "model_name": "HTMLModel",
          "model_module_version": "1.5.0",
          "state": {
            "_view_name": "HTMLView",
            "style": "IPY_MODEL_0f9fc9d344b24354b68e5cea94b7317a",
            "_dom_classes": [],
            "description": "",
            "_model_name": "HTMLModel",
            "placeholder": "​",
            "_view_module": "@jupyter-widgets/controls",
            "_model_module_version": "1.5.0",
            "value": "Downloading: 100%",
            "_view_count": null,
            "_view_module_version": "1.5.0",
            "description_tooltip": null,
            "_model_module": "@jupyter-widgets/controls",
            "layout": "IPY_MODEL_a46381cff7ce4e6a974669691aac9be4"
          }
        },
        "c7d5ec1a7ab0482e9361226efd1d10fd": {
          "model_module": "@jupyter-widgets/controls",
          "model_name": "FloatProgressModel",
          "model_module_version": "1.5.0",
          "state": {
            "_view_name": "ProgressView",
            "style": "IPY_MODEL_172ff2d20c174672988f099c631c017d",
            "_dom_classes": [],
            "description": "",
            "_model_name": "FloatProgressModel",
            "bar_style": "success",
            "max": 13129,
            "_view_module": "@jupyter-widgets/controls",
            "_model_module_version": "1.5.0",
            "value": 13129,
            "_view_count": null,
            "_view_module_version": "1.5.0",
            "orientation": "horizontal",
            "min": 0,
            "description_tooltip": null,
            "_model_module": "@jupyter-widgets/controls",
            "layout": "IPY_MODEL_1423bb13c1b84ef7a8b26af1f848743b"
          }
        },
        "6e618d3c11db42d0b8f1b1c19d33e804": {
          "model_module": "@jupyter-widgets/controls",
          "model_name": "HTMLModel",
          "model_module_version": "1.5.0",
          "state": {
            "_view_name": "HTMLView",
            "style": "IPY_MODEL_279f6937ac444352b48dc94b6a371fdb",
            "_dom_classes": [],
            "description": "",
            "_model_name": "HTMLModel",
            "placeholder": "​",
            "_view_module": "@jupyter-widgets/controls",
            "_model_module_version": "1.5.0",
            "value": " 13.1k/13.1k [00:00&lt;00:00, 7.31kB/s]",
            "_view_count": null,
            "_view_module_version": "1.5.0",
            "description_tooltip": null,
            "_model_module": "@jupyter-widgets/controls",
            "layout": "IPY_MODEL_3b72969b212b4de486e89dcfe01a56cc"
          }
        },
        "0f9fc9d344b24354b68e5cea94b7317a": {
          "model_module": "@jupyter-widgets/controls",
          "model_name": "DescriptionStyleModel",
          "model_module_version": "1.5.0",
          "state": {
            "_view_name": "StyleView",
            "_model_name": "DescriptionStyleModel",
            "description_width": "",
            "_view_module": "@jupyter-widgets/base",
            "_model_module_version": "1.5.0",
            "_view_count": null,
            "_view_module_version": "1.2.0",
            "_model_module": "@jupyter-widgets/controls"
          }
        },
        "a46381cff7ce4e6a974669691aac9be4": {
          "model_module": "@jupyter-widgets/base",
          "model_name": "LayoutModel",
          "model_module_version": "1.2.0",
          "state": {
            "_view_name": "LayoutView",
            "grid_template_rows": null,
            "right": null,
            "justify_content": null,
            "_view_module": "@jupyter-widgets/base",
            "overflow": null,
            "_model_module_version": "1.2.0",
            "_view_count": null,
            "flex_flow": null,
            "width": null,
            "min_width": null,
            "border": null,
            "align_items": null,
            "bottom": null,
            "_model_module": "@jupyter-widgets/base",
            "top": null,
            "grid_column": null,
            "overflow_y": null,
            "overflow_x": null,
            "grid_auto_flow": null,
            "grid_area": null,
            "grid_template_columns": null,
            "flex": null,
            "_model_name": "LayoutModel",
            "justify_items": null,
            "grid_row": null,
            "max_height": null,
            "align_content": null,
            "visibility": null,
            "align_self": null,
            "height": null,
            "min_height": null,
            "padding": null,
            "grid_auto_rows": null,
            "grid_gap": null,
            "max_width": null,
            "order": null,
            "_view_module_version": "1.2.0",
            "grid_template_areas": null,
            "object_position": null,
            "object_fit": null,
            "grid_auto_columns": null,
            "margin": null,
            "display": null,
            "left": null
          }
        },
        "172ff2d20c174672988f099c631c017d": {
          "model_module": "@jupyter-widgets/controls",
          "model_name": "ProgressStyleModel",
          "model_module_version": "1.5.0",
          "state": {
            "_view_name": "StyleView",
            "_model_name": "ProgressStyleModel",
            "description_width": "",
            "_view_module": "@jupyter-widgets/base",
            "_model_module_version": "1.5.0",
            "_view_count": null,
            "_view_module_version": "1.2.0",
            "bar_color": null,
            "_model_module": "@jupyter-widgets/controls"
          }
        },
        "1423bb13c1b84ef7a8b26af1f848743b": {
          "model_module": "@jupyter-widgets/base",
          "model_name": "LayoutModel",
          "model_module_version": "1.2.0",
          "state": {
            "_view_name": "LayoutView",
            "grid_template_rows": null,
            "right": null,
            "justify_content": null,
            "_view_module": "@jupyter-widgets/base",
            "overflow": null,
            "_model_module_version": "1.2.0",
            "_view_count": null,
            "flex_flow": null,
            "width": null,
            "min_width": null,
            "border": null,
            "align_items": null,
            "bottom": null,
            "_model_module": "@jupyter-widgets/base",
            "top": null,
            "grid_column": null,
            "overflow_y": null,
            "overflow_x": null,
            "grid_auto_flow": null,
            "grid_area": null,
            "grid_template_columns": null,
            "flex": null,
            "_model_name": "LayoutModel",
            "justify_items": null,
            "grid_row": null,
            "max_height": null,
            "align_content": null,
            "visibility": null,
            "align_self": null,
            "height": null,
            "min_height": null,
            "padding": null,
            "grid_auto_rows": null,
            "grid_gap": null,
            "max_width": null,
            "order": null,
            "_view_module_version": "1.2.0",
            "grid_template_areas": null,
            "object_position": null,
            "object_fit": null,
            "grid_auto_columns": null,
            "margin": null,
            "display": null,
            "left": null
          }
        },
        "279f6937ac444352b48dc94b6a371fdb": {
          "model_module": "@jupyter-widgets/controls",
          "model_name": "DescriptionStyleModel",
          "model_module_version": "1.5.0",
          "state": {
            "_view_name": "StyleView",
            "_model_name": "DescriptionStyleModel",
            "description_width": "",
            "_view_module": "@jupyter-widgets/base",
            "_model_module_version": "1.5.0",
            "_view_count": null,
            "_view_module_version": "1.2.0",
            "_model_module": "@jupyter-widgets/controls"
          }
        },
        "3b72969b212b4de486e89dcfe01a56cc": {
          "model_module": "@jupyter-widgets/base",
          "model_name": "LayoutModel",
          "model_module_version": "1.2.0",
          "state": {
            "_view_name": "LayoutView",
            "grid_template_rows": null,
            "right": null,
            "justify_content": null,
            "_view_module": "@jupyter-widgets/base",
            "overflow": null,
            "_model_module_version": "1.2.0",
            "_view_count": null,
            "flex_flow": null,
            "width": null,
            "min_width": null,
            "border": null,
            "align_items": null,
            "bottom": null,
            "_model_module": "@jupyter-widgets/base",
            "top": null,
            "grid_column": null,
            "overflow_y": null,
            "overflow_x": null,
            "grid_auto_flow": null,
            "grid_area": null,
            "grid_template_columns": null,
            "flex": null,
            "_model_name": "LayoutModel",
            "justify_items": null,
            "grid_row": null,
            "max_height": null,
            "align_content": null,
            "visibility": null,
            "align_self": null,
            "height": null,
            "min_height": null,
            "padding": null,
            "grid_auto_rows": null,
            "grid_gap": null,
            "max_width": null,
            "order": null,
            "_view_module_version": "1.2.0",
            "grid_template_areas": null,
            "object_position": null,
            "object_fit": null,
            "grid_auto_columns": null,
            "margin": null,
            "display": null,
            "left": null
          }
        },
        "442bea69d9af4d89aacda87502dec885": {
          "model_module": "@jupyter-widgets/controls",
          "model_name": "HBoxModel",
          "model_module_version": "1.5.0",
          "state": {
            "_view_name": "HBoxView",
            "_dom_classes": [],
            "_model_name": "HBoxModel",
            "_view_module": "@jupyter-widgets/controls",
            "_model_module_version": "1.5.0",
            "_view_count": null,
            "_view_module_version": "1.5.0",
            "box_style": "",
            "layout": "IPY_MODEL_575bf66b4c5c40eea889fd97dc2d8590",
            "_model_module": "@jupyter-widgets/controls",
            "children": [
              "IPY_MODEL_46e6ae7f510249458fa2662087c64098",
              "IPY_MODEL_34b80b75b8c74abdab1682fb08cf4b1b",
              "IPY_MODEL_a064bda417724a8e84aeab754471840a"
            ]
          }
        },
        "575bf66b4c5c40eea889fd97dc2d8590": {
          "model_module": "@jupyter-widgets/base",
          "model_name": "LayoutModel",
          "model_module_version": "1.2.0",
          "state": {
            "_view_name": "LayoutView",
            "grid_template_rows": null,
            "right": null,
            "justify_content": null,
            "_view_module": "@jupyter-widgets/base",
            "overflow": null,
            "_model_module_version": "1.2.0",
            "_view_count": null,
            "flex_flow": null,
            "width": null,
            "min_width": null,
            "border": null,
            "align_items": null,
            "bottom": null,
            "_model_module": "@jupyter-widgets/base",
            "top": null,
            "grid_column": null,
            "overflow_y": null,
            "overflow_x": null,
            "grid_auto_flow": null,
            "grid_area": null,
            "grid_template_columns": null,
            "flex": null,
            "_model_name": "LayoutModel",
            "justify_items": null,
            "grid_row": null,
            "max_height": null,
            "align_content": null,
            "visibility": null,
            "align_self": null,
            "height": null,
            "min_height": null,
            "padding": null,
            "grid_auto_rows": null,
            "grid_gap": null,
            "max_width": null,
            "order": null,
            "_view_module_version": "1.2.0",
            "grid_template_areas": null,
            "object_position": null,
            "object_fit": null,
            "grid_auto_columns": null,
            "margin": null,
            "display": null,
            "left": null
          }
        },
        "46e6ae7f510249458fa2662087c64098": {
          "model_module": "@jupyter-widgets/controls",
          "model_name": "HTMLModel",
          "model_module_version": "1.5.0",
          "state": {
            "_view_name": "HTMLView",
            "style": "IPY_MODEL_57fda2372cf04d5b8cb2da2fa0dce5c6",
            "_dom_classes": [],
            "description": "",
            "_model_name": "HTMLModel",
            "placeholder": "​",
            "_view_module": "@jupyter-widgets/controls",
            "_model_module_version": "1.5.0",
            "value": "Downloading: 100%",
            "_view_count": null,
            "_view_module_version": "1.5.0",
            "description_tooltip": null,
            "_model_module": "@jupyter-widgets/controls",
            "layout": "IPY_MODEL_31188806b025434bbd1fc7f999c0aba6"
          }
        },
        "34b80b75b8c74abdab1682fb08cf4b1b": {
          "model_module": "@jupyter-widgets/controls",
          "model_name": "FloatProgressModel",
          "model_module_version": "1.5.0",
          "state": {
            "_view_name": "ProgressView",
            "style": "IPY_MODEL_3d8b8cae9868453eb7e90318c0c9b81e",
            "_dom_classes": [],
            "description": "",
            "_model_name": "FloatProgressModel",
            "bar_style": "success",
            "max": 798293,
            "_view_module": "@jupyter-widgets/controls",
            "_model_module_version": "1.5.0",
            "value": 798293,
            "_view_count": null,
            "_view_module_version": "1.5.0",
            "orientation": "horizontal",
            "min": 0,
            "description_tooltip": null,
            "_model_module": "@jupyter-widgets/controls",
            "layout": "IPY_MODEL_e3c4c61c17e94f0db5357f0d7265a480"
          }
        },
        "a064bda417724a8e84aeab754471840a": {
          "model_module": "@jupyter-widgets/controls",
          "model_name": "HTMLModel",
          "model_module_version": "1.5.0",
          "state": {
            "_view_name": "HTMLView",
            "style": "IPY_MODEL_f86b0f441f1441fb9beded01875d3def",
            "_dom_classes": [],
            "description": "",
            "_model_name": "HTMLModel",
            "placeholder": "​",
            "_view_module": "@jupyter-widgets/controls",
            "_model_module_version": "1.5.0",
            "value": " 798k/798k [00:00&lt;00:00, 1.95MB/s]",
            "_view_count": null,
            "_view_module_version": "1.5.0",
            "description_tooltip": null,
            "_model_module": "@jupyter-widgets/controls",
            "layout": "IPY_MODEL_fff985756979444ebc4653a9638e0124"
          }
        },
        "57fda2372cf04d5b8cb2da2fa0dce5c6": {
          "model_module": "@jupyter-widgets/controls",
          "model_name": "DescriptionStyleModel",
          "model_module_version": "1.5.0",
          "state": {
            "_view_name": "StyleView",
            "_model_name": "DescriptionStyleModel",
            "description_width": "",
            "_view_module": "@jupyter-widgets/base",
            "_model_module_version": "1.5.0",
            "_view_count": null,
            "_view_module_version": "1.2.0",
            "_model_module": "@jupyter-widgets/controls"
          }
        },
        "31188806b025434bbd1fc7f999c0aba6": {
          "model_module": "@jupyter-widgets/base",
          "model_name": "LayoutModel",
          "model_module_version": "1.2.0",
          "state": {
            "_view_name": "LayoutView",
            "grid_template_rows": null,
            "right": null,
            "justify_content": null,
            "_view_module": "@jupyter-widgets/base",
            "overflow": null,
            "_model_module_version": "1.2.0",
            "_view_count": null,
            "flex_flow": null,
            "width": null,
            "min_width": null,
            "border": null,
            "align_items": null,
            "bottom": null,
            "_model_module": "@jupyter-widgets/base",
            "top": null,
            "grid_column": null,
            "overflow_y": null,
            "overflow_x": null,
            "grid_auto_flow": null,
            "grid_area": null,
            "grid_template_columns": null,
            "flex": null,
            "_model_name": "LayoutModel",
            "justify_items": null,
            "grid_row": null,
            "max_height": null,
            "align_content": null,
            "visibility": null,
            "align_self": null,
            "height": null,
            "min_height": null,
            "padding": null,
            "grid_auto_rows": null,
            "grid_gap": null,
            "max_width": null,
            "order": null,
            "_view_module_version": "1.2.0",
            "grid_template_areas": null,
            "object_position": null,
            "object_fit": null,
            "grid_auto_columns": null,
            "margin": null,
            "display": null,
            "left": null
          }
        },
        "3d8b8cae9868453eb7e90318c0c9b81e": {
          "model_module": "@jupyter-widgets/controls",
          "model_name": "ProgressStyleModel",
          "model_module_version": "1.5.0",
          "state": {
            "_view_name": "StyleView",
            "_model_name": "ProgressStyleModel",
            "description_width": "",
            "_view_module": "@jupyter-widgets/base",
            "_model_module_version": "1.5.0",
            "_view_count": null,
            "_view_module_version": "1.2.0",
            "bar_color": null,
            "_model_module": "@jupyter-widgets/controls"
          }
        },
        "e3c4c61c17e94f0db5357f0d7265a480": {
          "model_module": "@jupyter-widgets/base",
          "model_name": "LayoutModel",
          "model_module_version": "1.2.0",
          "state": {
            "_view_name": "LayoutView",
            "grid_template_rows": null,
            "right": null,
            "justify_content": null,
            "_view_module": "@jupyter-widgets/base",
            "overflow": null,
            "_model_module_version": "1.2.0",
            "_view_count": null,
            "flex_flow": null,
            "width": null,
            "min_width": null,
            "border": null,
            "align_items": null,
            "bottom": null,
            "_model_module": "@jupyter-widgets/base",
            "top": null,
            "grid_column": null,
            "overflow_y": null,
            "overflow_x": null,
            "grid_auto_flow": null,
            "grid_area": null,
            "grid_template_columns": null,
            "flex": null,
            "_model_name": "LayoutModel",
            "justify_items": null,
            "grid_row": null,
            "max_height": null,
            "align_content": null,
            "visibility": null,
            "align_self": null,
            "height": null,
            "min_height": null,
            "padding": null,
            "grid_auto_rows": null,
            "grid_gap": null,
            "max_width": null,
            "order": null,
            "_view_module_version": "1.2.0",
            "grid_template_areas": null,
            "object_position": null,
            "object_fit": null,
            "grid_auto_columns": null,
            "margin": null,
            "display": null,
            "left": null
          }
        },
        "f86b0f441f1441fb9beded01875d3def": {
          "model_module": "@jupyter-widgets/controls",
          "model_name": "DescriptionStyleModel",
          "model_module_version": "1.5.0",
          "state": {
            "_view_name": "StyleView",
            "_model_name": "DescriptionStyleModel",
            "description_width": "",
            "_view_module": "@jupyter-widgets/base",
            "_model_module_version": "1.5.0",
            "_view_count": null,
            "_view_module_version": "1.2.0",
            "_model_module": "@jupyter-widgets/controls"
          }
        },
        "fff985756979444ebc4653a9638e0124": {
          "model_module": "@jupyter-widgets/base",
          "model_name": "LayoutModel",
          "model_module_version": "1.2.0",
          "state": {
            "_view_name": "LayoutView",
            "grid_template_rows": null,
            "right": null,
            "justify_content": null,
            "_view_module": "@jupyter-widgets/base",
            "overflow": null,
            "_model_module_version": "1.2.0",
            "_view_count": null,
            "flex_flow": null,
            "width": null,
            "min_width": null,
            "border": null,
            "align_items": null,
            "bottom": null,
            "_model_module": "@jupyter-widgets/base",
            "top": null,
            "grid_column": null,
            "overflow_y": null,
            "overflow_x": null,
            "grid_auto_flow": null,
            "grid_area": null,
            "grid_template_columns": null,
            "flex": null,
            "_model_name": "LayoutModel",
            "justify_items": null,
            "grid_row": null,
            "max_height": null,
            "align_content": null,
            "visibility": null,
            "align_self": null,
            "height": null,
            "min_height": null,
            "padding": null,
            "grid_auto_rows": null,
            "grid_gap": null,
            "max_width": null,
            "order": null,
            "_view_module_version": "1.2.0",
            "grid_template_areas": null,
            "object_position": null,
            "object_fit": null,
            "grid_auto_columns": null,
            "margin": null,
            "display": null,
            "left": null
          }
        },
        "c2a771140d3746f3a1549d330205a885": {
          "model_module": "@jupyter-widgets/controls",
          "model_name": "HBoxModel",
          "model_module_version": "1.5.0",
          "state": {
            "_view_name": "HBoxView",
            "_dom_classes": [],
            "_model_name": "HBoxModel",
            "_view_module": "@jupyter-widgets/controls",
            "_model_module_version": "1.5.0",
            "_view_count": null,
            "_view_module_version": "1.5.0",
            "box_style": "",
            "layout": "IPY_MODEL_5ab56b4bed3f48a190e8342a2bd1b3ed",
            "_model_module": "@jupyter-widgets/controls",
            "children": [
              "IPY_MODEL_f82f02f5368c4cf49e57637a1fd30824",
              "IPY_MODEL_443b65bff99441c9a3e22cede3dca919",
              "IPY_MODEL_01e10680c05b4f389b9282cd1598209a"
            ]
          }
        },
        "5ab56b4bed3f48a190e8342a2bd1b3ed": {
          "model_module": "@jupyter-widgets/base",
          "model_name": "LayoutModel",
          "model_module_version": "1.2.0",
          "state": {
            "_view_name": "LayoutView",
            "grid_template_rows": null,
            "right": null,
            "justify_content": null,
            "_view_module": "@jupyter-widgets/base",
            "overflow": null,
            "_model_module_version": "1.2.0",
            "_view_count": null,
            "flex_flow": null,
            "width": null,
            "min_width": null,
            "border": null,
            "align_items": null,
            "bottom": null,
            "_model_module": "@jupyter-widgets/base",
            "top": null,
            "grid_column": null,
            "overflow_y": null,
            "overflow_x": null,
            "grid_auto_flow": null,
            "grid_area": null,
            "grid_template_columns": null,
            "flex": null,
            "_model_name": "LayoutModel",
            "justify_items": null,
            "grid_row": null,
            "max_height": null,
            "align_content": null,
            "visibility": null,
            "align_self": null,
            "height": null,
            "min_height": null,
            "padding": null,
            "grid_auto_rows": null,
            "grid_gap": null,
            "max_width": null,
            "order": null,
            "_view_module_version": "1.2.0",
            "grid_template_areas": null,
            "object_position": null,
            "object_fit": null,
            "grid_auto_columns": null,
            "margin": null,
            "display": null,
            "left": null
          }
        },
        "f82f02f5368c4cf49e57637a1fd30824": {
          "model_module": "@jupyter-widgets/controls",
          "model_name": "HTMLModel",
          "model_module_version": "1.5.0",
          "state": {
            "_view_name": "HTMLView",
            "style": "IPY_MODEL_bc8dcb35f75c42aba01065ec22cff6ed",
            "_dom_classes": [],
            "description": "",
            "_model_name": "HTMLModel",
            "placeholder": "​",
            "_view_module": "@jupyter-widgets/controls",
            "_model_module_version": "1.5.0",
            "value": "Downloading: 100%",
            "_view_count": null,
            "_view_module_version": "1.5.0",
            "description_tooltip": null,
            "_model_module": "@jupyter-widgets/controls",
            "layout": "IPY_MODEL_d3a569544a11430b967ed47d43118cfb"
          }
        },
        "443b65bff99441c9a3e22cede3dca919": {
          "model_module": "@jupyter-widgets/controls",
          "model_name": "FloatProgressModel",
          "model_module_version": "1.5.0",
          "state": {
            "_view_name": "ProgressView",
            "style": "IPY_MODEL_3e7387fbdb674abba6f923420dbc74e6",
            "_dom_classes": [],
            "description": "",
            "_model_name": "FloatProgressModel",
            "bar_style": "success",
            "max": 190,
            "_view_module": "@jupyter-widgets/controls",
            "_model_module_version": "1.5.0",
            "value": 190,
            "_view_count": null,
            "_view_module_version": "1.5.0",
            "orientation": "horizontal",
            "min": 0,
            "description_tooltip": null,
            "_model_module": "@jupyter-widgets/controls",
            "layout": "IPY_MODEL_60705a41039045f5b478ff6d273015db"
          }
        },
        "01e10680c05b4f389b9282cd1598209a": {
          "model_module": "@jupyter-widgets/controls",
          "model_name": "HTMLModel",
          "model_module_version": "1.5.0",
          "state": {
            "_view_name": "HTMLView",
            "style": "IPY_MODEL_28d62ad85fda4d328c5fd3c6e3631157",
            "_dom_classes": [],
            "description": "",
            "_model_name": "HTMLModel",
            "placeholder": "​",
            "_view_module": "@jupyter-widgets/controls",
            "_model_module_version": "1.5.0",
            "value": " 190/190 [00:00&lt;00:00, 1.97kB/s]",
            "_view_count": null,
            "_view_module_version": "1.5.0",
            "description_tooltip": null,
            "_model_module": "@jupyter-widgets/controls",
            "layout": "IPY_MODEL_4e39a88f5f16483d99da8f2cd98aad3e"
          }
        },
        "bc8dcb35f75c42aba01065ec22cff6ed": {
          "model_module": "@jupyter-widgets/controls",
          "model_name": "DescriptionStyleModel",
          "model_module_version": "1.5.0",
          "state": {
            "_view_name": "StyleView",
            "_model_name": "DescriptionStyleModel",
            "description_width": "",
            "_view_module": "@jupyter-widgets/base",
            "_model_module_version": "1.5.0",
            "_view_count": null,
            "_view_module_version": "1.2.0",
            "_model_module": "@jupyter-widgets/controls"
          }
        },
        "d3a569544a11430b967ed47d43118cfb": {
          "model_module": "@jupyter-widgets/base",
          "model_name": "LayoutModel",
          "model_module_version": "1.2.0",
          "state": {
            "_view_name": "LayoutView",
            "grid_template_rows": null,
            "right": null,
            "justify_content": null,
            "_view_module": "@jupyter-widgets/base",
            "overflow": null,
            "_model_module_version": "1.2.0",
            "_view_count": null,
            "flex_flow": null,
            "width": null,
            "min_width": null,
            "border": null,
            "align_items": null,
            "bottom": null,
            "_model_module": "@jupyter-widgets/base",
            "top": null,
            "grid_column": null,
            "overflow_y": null,
            "overflow_x": null,
            "grid_auto_flow": null,
            "grid_area": null,
            "grid_template_columns": null,
            "flex": null,
            "_model_name": "LayoutModel",
            "justify_items": null,
            "grid_row": null,
            "max_height": null,
            "align_content": null,
            "visibility": null,
            "align_self": null,
            "height": null,
            "min_height": null,
            "padding": null,
            "grid_auto_rows": null,
            "grid_gap": null,
            "max_width": null,
            "order": null,
            "_view_module_version": "1.2.0",
            "grid_template_areas": null,
            "object_position": null,
            "object_fit": null,
            "grid_auto_columns": null,
            "margin": null,
            "display": null,
            "left": null
          }
        },
        "3e7387fbdb674abba6f923420dbc74e6": {
          "model_module": "@jupyter-widgets/controls",
          "model_name": "ProgressStyleModel",
          "model_module_version": "1.5.0",
          "state": {
            "_view_name": "StyleView",
            "_model_name": "ProgressStyleModel",
            "description_width": "",
            "_view_module": "@jupyter-widgets/base",
            "_model_module_version": "1.5.0",
            "_view_count": null,
            "_view_module_version": "1.2.0",
            "bar_color": null,
            "_model_module": "@jupyter-widgets/controls"
          }
        },
        "60705a41039045f5b478ff6d273015db": {
          "model_module": "@jupyter-widgets/base",
          "model_name": "LayoutModel",
          "model_module_version": "1.2.0",
          "state": {
            "_view_name": "LayoutView",
            "grid_template_rows": null,
            "right": null,
            "justify_content": null,
            "_view_module": "@jupyter-widgets/base",
            "overflow": null,
            "_model_module_version": "1.2.0",
            "_view_count": null,
            "flex_flow": null,
            "width": null,
            "min_width": null,
            "border": null,
            "align_items": null,
            "bottom": null,
            "_model_module": "@jupyter-widgets/base",
            "top": null,
            "grid_column": null,
            "overflow_y": null,
            "overflow_x": null,
            "grid_auto_flow": null,
            "grid_area": null,
            "grid_template_columns": null,
            "flex": null,
            "_model_name": "LayoutModel",
            "justify_items": null,
            "grid_row": null,
            "max_height": null,
            "align_content": null,
            "visibility": null,
            "align_self": null,
            "height": null,
            "min_height": null,
            "padding": null,
            "grid_auto_rows": null,
            "grid_gap": null,
            "max_width": null,
            "order": null,
            "_view_module_version": "1.2.0",
            "grid_template_areas": null,
            "object_position": null,
            "object_fit": null,
            "grid_auto_columns": null,
            "margin": null,
            "display": null,
            "left": null
          }
        },
        "28d62ad85fda4d328c5fd3c6e3631157": {
          "model_module": "@jupyter-widgets/controls",
          "model_name": "DescriptionStyleModel",
          "model_module_version": "1.5.0",
          "state": {
            "_view_name": "StyleView",
            "_model_name": "DescriptionStyleModel",
            "description_width": "",
            "_view_module": "@jupyter-widgets/base",
            "_model_module_version": "1.5.0",
            "_view_count": null,
            "_view_module_version": "1.2.0",
            "_model_module": "@jupyter-widgets/controls"
          }
        },
        "4e39a88f5f16483d99da8f2cd98aad3e": {
          "model_module": "@jupyter-widgets/base",
          "model_name": "LayoutModel",
          "model_module_version": "1.2.0",
          "state": {
            "_view_name": "LayoutView",
            "grid_template_rows": null,
            "right": null,
            "justify_content": null,
            "_view_module": "@jupyter-widgets/base",
            "overflow": null,
            "_model_module_version": "1.2.0",
            "_view_count": null,
            "flex_flow": null,
            "width": null,
            "min_width": null,
            "border": null,
            "align_items": null,
            "bottom": null,
            "_model_module": "@jupyter-widgets/base",
            "top": null,
            "grid_column": null,
            "overflow_y": null,
            "overflow_x": null,
            "grid_auto_flow": null,
            "grid_area": null,
            "grid_template_columns": null,
            "flex": null,
            "_model_name": "LayoutModel",
            "justify_items": null,
            "grid_row": null,
            "max_height": null,
            "align_content": null,
            "visibility": null,
            "align_self": null,
            "height": null,
            "min_height": null,
            "padding": null,
            "grid_auto_rows": null,
            "grid_gap": null,
            "max_width": null,
            "order": null,
            "_view_module_version": "1.2.0",
            "grid_template_areas": null,
            "object_position": null,
            "object_fit": null,
            "grid_auto_columns": null,
            "margin": null,
            "display": null,
            "left": null
          }
        },
        "8bd388c87e72414e91f54370d6b66cac": {
          "model_module": "@jupyter-widgets/controls",
          "model_name": "HBoxModel",
          "model_module_version": "1.5.0",
          "state": {
            "_view_name": "HBoxView",
            "_dom_classes": [],
            "_model_name": "HBoxModel",
            "_view_module": "@jupyter-widgets/controls",
            "_model_module_version": "1.5.0",
            "_view_count": null,
            "_view_module_version": "1.5.0",
            "box_style": "",
            "layout": "IPY_MODEL_342d0f67066c44e49de38662da82681c",
            "_model_module": "@jupyter-widgets/controls",
            "children": [
              "IPY_MODEL_7533969ef9614177aa2504cf119cac77",
              "IPY_MODEL_13c407ff20c0487ea3c8fd56352998e9",
              "IPY_MODEL_803acb58d50a4469950a7a31d677447b"
            ]
          }
        },
        "342d0f67066c44e49de38662da82681c": {
          "model_module": "@jupyter-widgets/base",
          "model_name": "LayoutModel",
          "model_module_version": "1.2.0",
          "state": {
            "_view_name": "LayoutView",
            "grid_template_rows": null,
            "right": null,
            "justify_content": null,
            "_view_module": "@jupyter-widgets/base",
            "overflow": null,
            "_model_module_version": "1.2.0",
            "_view_count": null,
            "flex_flow": null,
            "width": null,
            "min_width": null,
            "border": null,
            "align_items": null,
            "bottom": null,
            "_model_module": "@jupyter-widgets/base",
            "top": null,
            "grid_column": null,
            "overflow_y": null,
            "overflow_x": null,
            "grid_auto_flow": null,
            "grid_area": null,
            "grid_template_columns": null,
            "flex": null,
            "_model_name": "LayoutModel",
            "justify_items": null,
            "grid_row": null,
            "max_height": null,
            "align_content": null,
            "visibility": null,
            "align_self": null,
            "height": null,
            "min_height": null,
            "padding": null,
            "grid_auto_rows": null,
            "grid_gap": null,
            "max_width": null,
            "order": null,
            "_view_module_version": "1.2.0",
            "grid_template_areas": null,
            "object_position": null,
            "object_fit": null,
            "grid_auto_columns": null,
            "margin": null,
            "display": null,
            "left": null
          }
        },
        "7533969ef9614177aa2504cf119cac77": {
          "model_module": "@jupyter-widgets/controls",
          "model_name": "HTMLModel",
          "model_module_version": "1.5.0",
          "state": {
            "_view_name": "HTMLView",
            "style": "IPY_MODEL_82aedd4dbcaa4327a1f6f63aaca54a77",
            "_dom_classes": [],
            "description": "",
            "_model_name": "HTMLModel",
            "placeholder": "​",
            "_view_module": "@jupyter-widgets/controls",
            "_model_module_version": "1.5.0",
            "value": "Epoch: 100%",
            "_view_count": null,
            "_view_module_version": "1.5.0",
            "description_tooltip": null,
            "_model_module": "@jupyter-widgets/controls",
            "layout": "IPY_MODEL_520fce89914a41aa9a9564eb350544d7"
          }
        },
        "13c407ff20c0487ea3c8fd56352998e9": {
          "model_module": "@jupyter-widgets/controls",
          "model_name": "FloatProgressModel",
          "model_module_version": "1.5.0",
          "state": {
            "_view_name": "ProgressView",
            "style": "IPY_MODEL_b3c909e9631c4d2a9d1c78d72291be76",
            "_dom_classes": [],
            "description": "",
            "_model_name": "FloatProgressModel",
            "bar_style": "success",
            "max": 1,
            "_view_module": "@jupyter-widgets/controls",
            "_model_module_version": "1.5.0",
            "value": 1,
            "_view_count": null,
            "_view_module_version": "1.5.0",
            "orientation": "horizontal",
            "min": 0,
            "description_tooltip": null,
            "_model_module": "@jupyter-widgets/controls",
            "layout": "IPY_MODEL_4b4902b76fff464196525032545e64bf"
          }
        },
        "803acb58d50a4469950a7a31d677447b": {
          "model_module": "@jupyter-widgets/controls",
          "model_name": "HTMLModel",
          "model_module_version": "1.5.0",
          "state": {
            "_view_name": "HTMLView",
            "style": "IPY_MODEL_3ae875897d6e43abb8f03be4106e1d12",
            "_dom_classes": [],
            "description": "",
            "_model_name": "HTMLModel",
            "placeholder": "​",
            "_view_module": "@jupyter-widgets/controls",
            "_model_module_version": "1.5.0",
            "value": " 1/1 [00:00&lt;00:00,  1.97it/s]",
            "_view_count": null,
            "_view_module_version": "1.5.0",
            "description_tooltip": null,
            "_model_module": "@jupyter-widgets/controls",
            "layout": "IPY_MODEL_4f12e1fae81940b1a6ac2769c1fc9fa5"
          }
        },
        "82aedd4dbcaa4327a1f6f63aaca54a77": {
          "model_module": "@jupyter-widgets/controls",
          "model_name": "DescriptionStyleModel",
          "model_module_version": "1.5.0",
          "state": {
            "_view_name": "StyleView",
            "_model_name": "DescriptionStyleModel",
            "description_width": "",
            "_view_module": "@jupyter-widgets/base",
            "_model_module_version": "1.5.0",
            "_view_count": null,
            "_view_module_version": "1.2.0",
            "_model_module": "@jupyter-widgets/controls"
          }
        },
        "520fce89914a41aa9a9564eb350544d7": {
          "model_module": "@jupyter-widgets/base",
          "model_name": "LayoutModel",
          "model_module_version": "1.2.0",
          "state": {
            "_view_name": "LayoutView",
            "grid_template_rows": null,
            "right": null,
            "justify_content": null,
            "_view_module": "@jupyter-widgets/base",
            "overflow": null,
            "_model_module_version": "1.2.0",
            "_view_count": null,
            "flex_flow": null,
            "width": null,
            "min_width": null,
            "border": null,
            "align_items": null,
            "bottom": null,
            "_model_module": "@jupyter-widgets/base",
            "top": null,
            "grid_column": null,
            "overflow_y": null,
            "overflow_x": null,
            "grid_auto_flow": null,
            "grid_area": null,
            "grid_template_columns": null,
            "flex": null,
            "_model_name": "LayoutModel",
            "justify_items": null,
            "grid_row": null,
            "max_height": null,
            "align_content": null,
            "visibility": null,
            "align_self": null,
            "height": null,
            "min_height": null,
            "padding": null,
            "grid_auto_rows": null,
            "grid_gap": null,
            "max_width": null,
            "order": null,
            "_view_module_version": "1.2.0",
            "grid_template_areas": null,
            "object_position": null,
            "object_fit": null,
            "grid_auto_columns": null,
            "margin": null,
            "display": null,
            "left": null
          }
        },
        "b3c909e9631c4d2a9d1c78d72291be76": {
          "model_module": "@jupyter-widgets/controls",
          "model_name": "ProgressStyleModel",
          "model_module_version": "1.5.0",
          "state": {
            "_view_name": "StyleView",
            "_model_name": "ProgressStyleModel",
            "description_width": "",
            "_view_module": "@jupyter-widgets/base",
            "_model_module_version": "1.5.0",
            "_view_count": null,
            "_view_module_version": "1.2.0",
            "bar_color": null,
            "_model_module": "@jupyter-widgets/controls"
          }
        },
        "4b4902b76fff464196525032545e64bf": {
          "model_module": "@jupyter-widgets/base",
          "model_name": "LayoutModel",
          "model_module_version": "1.2.0",
          "state": {
            "_view_name": "LayoutView",
            "grid_template_rows": null,
            "right": null,
            "justify_content": null,
            "_view_module": "@jupyter-widgets/base",
            "overflow": null,
            "_model_module_version": "1.2.0",
            "_view_count": null,
            "flex_flow": null,
            "width": null,
            "min_width": null,
            "border": null,
            "align_items": null,
            "bottom": null,
            "_model_module": "@jupyter-widgets/base",
            "top": null,
            "grid_column": null,
            "overflow_y": null,
            "overflow_x": null,
            "grid_auto_flow": null,
            "grid_area": null,
            "grid_template_columns": null,
            "flex": null,
            "_model_name": "LayoutModel",
            "justify_items": null,
            "grid_row": null,
            "max_height": null,
            "align_content": null,
            "visibility": null,
            "align_self": null,
            "height": null,
            "min_height": null,
            "padding": null,
            "grid_auto_rows": null,
            "grid_gap": null,
            "max_width": null,
            "order": null,
            "_view_module_version": "1.2.0",
            "grid_template_areas": null,
            "object_position": null,
            "object_fit": null,
            "grid_auto_columns": null,
            "margin": null,
            "display": null,
            "left": null
          }
        },
        "3ae875897d6e43abb8f03be4106e1d12": {
          "model_module": "@jupyter-widgets/controls",
          "model_name": "DescriptionStyleModel",
          "model_module_version": "1.5.0",
          "state": {
            "_view_name": "StyleView",
            "_model_name": "DescriptionStyleModel",
            "description_width": "",
            "_view_module": "@jupyter-widgets/base",
            "_model_module_version": "1.5.0",
            "_view_count": null,
            "_view_module_version": "1.2.0",
            "_model_module": "@jupyter-widgets/controls"
          }
        },
        "4f12e1fae81940b1a6ac2769c1fc9fa5": {
          "model_module": "@jupyter-widgets/base",
          "model_name": "LayoutModel",
          "model_module_version": "1.2.0",
          "state": {
            "_view_name": "LayoutView",
            "grid_template_rows": null,
            "right": null,
            "justify_content": null,
            "_view_module": "@jupyter-widgets/base",
            "overflow": null,
            "_model_module_version": "1.2.0",
            "_view_count": null,
            "flex_flow": null,
            "width": null,
            "min_width": null,
            "border": null,
            "align_items": null,
            "bottom": null,
            "_model_module": "@jupyter-widgets/base",
            "top": null,
            "grid_column": null,
            "overflow_y": null,
            "overflow_x": null,
            "grid_auto_flow": null,
            "grid_area": null,
            "grid_template_columns": null,
            "flex": null,
            "_model_name": "LayoutModel",
            "justify_items": null,
            "grid_row": null,
            "max_height": null,
            "align_content": null,
            "visibility": null,
            "align_self": null,
            "height": null,
            "min_height": null,
            "padding": null,
            "grid_auto_rows": null,
            "grid_gap": null,
            "max_width": null,
            "order": null,
            "_view_module_version": "1.2.0",
            "grid_template_areas": null,
            "object_position": null,
            "object_fit": null,
            "grid_auto_columns": null,
            "margin": null,
            "display": null,
            "left": null
          }
        },
        "ebae4d4301d24aa68c8fb46e2803972b": {
          "model_module": "@jupyter-widgets/controls",
          "model_name": "HBoxModel",
          "model_module_version": "1.5.0",
          "state": {
            "_view_name": "HBoxView",
            "_dom_classes": [],
            "_model_name": "HBoxModel",
            "_view_module": "@jupyter-widgets/controls",
            "_model_module_version": "1.5.0",
            "_view_count": null,
            "_view_module_version": "1.5.0",
            "box_style": "",
            "layout": "IPY_MODEL_1ea7b1389aae4f6788229af53ff621bd",
            "_model_module": "@jupyter-widgets/controls",
            "children": [
              "IPY_MODEL_1f79aa8bb0504cff9f5768c49ad726dc",
              "IPY_MODEL_65ac492957e44cb4975dc2a87bf9f957",
              "IPY_MODEL_b1b4152648804f68a4f33d66ab8a2cae"
            ]
          }
        },
        "1ea7b1389aae4f6788229af53ff621bd": {
          "model_module": "@jupyter-widgets/base",
          "model_name": "LayoutModel",
          "model_module_version": "1.2.0",
          "state": {
            "_view_name": "LayoutView",
            "grid_template_rows": null,
            "right": null,
            "justify_content": null,
            "_view_module": "@jupyter-widgets/base",
            "overflow": null,
            "_model_module_version": "1.2.0",
            "_view_count": null,
            "flex_flow": null,
            "width": null,
            "min_width": null,
            "border": null,
            "align_items": null,
            "bottom": null,
            "_model_module": "@jupyter-widgets/base",
            "top": null,
            "grid_column": null,
            "overflow_y": null,
            "overflow_x": null,
            "grid_auto_flow": null,
            "grid_area": null,
            "grid_template_columns": null,
            "flex": null,
            "_model_name": "LayoutModel",
            "justify_items": null,
            "grid_row": null,
            "max_height": null,
            "align_content": null,
            "visibility": null,
            "align_self": null,
            "height": null,
            "min_height": null,
            "padding": null,
            "grid_auto_rows": null,
            "grid_gap": null,
            "max_width": null,
            "order": null,
            "_view_module_version": "1.2.0",
            "grid_template_areas": null,
            "object_position": null,
            "object_fit": null,
            "grid_auto_columns": null,
            "margin": null,
            "display": null,
            "left": null
          }
        },
        "1f79aa8bb0504cff9f5768c49ad726dc": {
          "model_module": "@jupyter-widgets/controls",
          "model_name": "HTMLModel",
          "model_module_version": "1.5.0",
          "state": {
            "_view_name": "HTMLView",
            "style": "IPY_MODEL_1c22c4e373a148e08979c0d321e2e6c8",
            "_dom_classes": [],
            "description": "",
            "_model_name": "HTMLModel",
            "placeholder": "​",
            "_view_module": "@jupyter-widgets/controls",
            "_model_module_version": "1.5.0",
            "value": "Iteration: 100%",
            "_view_count": null,
            "_view_module_version": "1.5.0",
            "description_tooltip": null,
            "_model_module": "@jupyter-widgets/controls",
            "layout": "IPY_MODEL_faa2120c967b4bffb535d1f33a1d8c56"
          }
        },
        "65ac492957e44cb4975dc2a87bf9f957": {
          "model_module": "@jupyter-widgets/controls",
          "model_name": "FloatProgressModel",
          "model_module_version": "1.5.0",
          "state": {
            "_view_name": "ProgressView",
            "style": "IPY_MODEL_4c00822c28174d6b9d816812e5596201",
            "_dom_classes": [],
            "description": "",
            "_model_name": "FloatProgressModel",
            "bar_style": "success",
            "max": 1,
            "_view_module": "@jupyter-widgets/controls",
            "_model_module_version": "1.5.0",
            "value": 1,
            "_view_count": null,
            "_view_module_version": "1.5.0",
            "orientation": "horizontal",
            "min": 0,
            "description_tooltip": null,
            "_model_module": "@jupyter-widgets/controls",
            "layout": "IPY_MODEL_3088025b16e746558e310ef79e09e378"
          }
        },
        "b1b4152648804f68a4f33d66ab8a2cae": {
          "model_module": "@jupyter-widgets/controls",
          "model_name": "HTMLModel",
          "model_module_version": "1.5.0",
          "state": {
            "_view_name": "HTMLView",
            "style": "IPY_MODEL_d57a24ea11c041df8109aa30c887a88b",
            "_dom_classes": [],
            "description": "",
            "_model_name": "HTMLModel",
            "placeholder": "​",
            "_view_module": "@jupyter-widgets/controls",
            "_model_module_version": "1.5.0",
            "value": " 1/1 [00:00&lt;00:00,  2.16it/s]",
            "_view_count": null,
            "_view_module_version": "1.5.0",
            "description_tooltip": null,
            "_model_module": "@jupyter-widgets/controls",
            "layout": "IPY_MODEL_41237568e72a4670a04c63a2acdf0cd5"
          }
        },
        "1c22c4e373a148e08979c0d321e2e6c8": {
          "model_module": "@jupyter-widgets/controls",
          "model_name": "DescriptionStyleModel",
          "model_module_version": "1.5.0",
          "state": {
            "_view_name": "StyleView",
            "_model_name": "DescriptionStyleModel",
            "description_width": "",
            "_view_module": "@jupyter-widgets/base",
            "_model_module_version": "1.5.0",
            "_view_count": null,
            "_view_module_version": "1.2.0",
            "_model_module": "@jupyter-widgets/controls"
          }
        },
        "faa2120c967b4bffb535d1f33a1d8c56": {
          "model_module": "@jupyter-widgets/base",
          "model_name": "LayoutModel",
          "model_module_version": "1.2.0",
          "state": {
            "_view_name": "LayoutView",
            "grid_template_rows": null,
            "right": null,
            "justify_content": null,
            "_view_module": "@jupyter-widgets/base",
            "overflow": null,
            "_model_module_version": "1.2.0",
            "_view_count": null,
            "flex_flow": null,
            "width": null,
            "min_width": null,
            "border": null,
            "align_items": null,
            "bottom": null,
            "_model_module": "@jupyter-widgets/base",
            "top": null,
            "grid_column": null,
            "overflow_y": null,
            "overflow_x": null,
            "grid_auto_flow": null,
            "grid_area": null,
            "grid_template_columns": null,
            "flex": null,
            "_model_name": "LayoutModel",
            "justify_items": null,
            "grid_row": null,
            "max_height": null,
            "align_content": null,
            "visibility": null,
            "align_self": null,
            "height": null,
            "min_height": null,
            "padding": null,
            "grid_auto_rows": null,
            "grid_gap": null,
            "max_width": null,
            "order": null,
            "_view_module_version": "1.2.0",
            "grid_template_areas": null,
            "object_position": null,
            "object_fit": null,
            "grid_auto_columns": null,
            "margin": null,
            "display": null,
            "left": null
          }
        },
        "4c00822c28174d6b9d816812e5596201": {
          "model_module": "@jupyter-widgets/controls",
          "model_name": "ProgressStyleModel",
          "model_module_version": "1.5.0",
          "state": {
            "_view_name": "StyleView",
            "_model_name": "ProgressStyleModel",
            "description_width": "",
            "_view_module": "@jupyter-widgets/base",
            "_model_module_version": "1.5.0",
            "_view_count": null,
            "_view_module_version": "1.2.0",
            "bar_color": null,
            "_model_module": "@jupyter-widgets/controls"
          }
        },
        "3088025b16e746558e310ef79e09e378": {
          "model_module": "@jupyter-widgets/base",
          "model_name": "LayoutModel",
          "model_module_version": "1.2.0",
          "state": {
            "_view_name": "LayoutView",
            "grid_template_rows": null,
            "right": null,
            "justify_content": null,
            "_view_module": "@jupyter-widgets/base",
            "overflow": null,
            "_model_module_version": "1.2.0",
            "_view_count": null,
            "flex_flow": null,
            "width": null,
            "min_width": null,
            "border": null,
            "align_items": null,
            "bottom": null,
            "_model_module": "@jupyter-widgets/base",
            "top": null,
            "grid_column": null,
            "overflow_y": null,
            "overflow_x": null,
            "grid_auto_flow": null,
            "grid_area": null,
            "grid_template_columns": null,
            "flex": null,
            "_model_name": "LayoutModel",
            "justify_items": null,
            "grid_row": null,
            "max_height": null,
            "align_content": null,
            "visibility": null,
            "align_self": null,
            "height": null,
            "min_height": null,
            "padding": null,
            "grid_auto_rows": null,
            "grid_gap": null,
            "max_width": null,
            "order": null,
            "_view_module_version": "1.2.0",
            "grid_template_areas": null,
            "object_position": null,
            "object_fit": null,
            "grid_auto_columns": null,
            "margin": null,
            "display": null,
            "left": null
          }
        },
        "d57a24ea11c041df8109aa30c887a88b": {
          "model_module": "@jupyter-widgets/controls",
          "model_name": "DescriptionStyleModel",
          "model_module_version": "1.5.0",
          "state": {
            "_view_name": "StyleView",
            "_model_name": "DescriptionStyleModel",
            "description_width": "",
            "_view_module": "@jupyter-widgets/base",
            "_model_module_version": "1.5.0",
            "_view_count": null,
            "_view_module_version": "1.2.0",
            "_model_module": "@jupyter-widgets/controls"
          }
        },
        "41237568e72a4670a04c63a2acdf0cd5": {
          "model_module": "@jupyter-widgets/base",
          "model_name": "LayoutModel",
          "model_module_version": "1.2.0",
          "state": {
            "_view_name": "LayoutView",
            "grid_template_rows": null,
            "right": null,
            "justify_content": null,
            "_view_module": "@jupyter-widgets/base",
            "overflow": null,
            "_model_module_version": "1.2.0",
            "_view_count": null,
            "flex_flow": null,
            "width": null,
            "min_width": null,
            "border": null,
            "align_items": null,
            "bottom": null,
            "_model_module": "@jupyter-widgets/base",
            "top": null,
            "grid_column": null,
            "overflow_y": null,
            "overflow_x": null,
            "grid_auto_flow": null,
            "grid_area": null,
            "grid_template_columns": null,
            "flex": null,
            "_model_name": "LayoutModel",
            "justify_items": null,
            "grid_row": null,
            "max_height": null,
            "align_content": null,
            "visibility": null,
            "align_self": null,
            "height": null,
            "min_height": null,
            "padding": null,
            "grid_auto_rows": null,
            "grid_gap": null,
            "max_width": null,
            "order": null,
            "_view_module_version": "1.2.0",
            "grid_template_areas": null,
            "object_position": null,
            "object_fit": null,
            "grid_auto_columns": null,
            "margin": null,
            "display": null,
            "left": null
          }
        },
        "114ba47bca874a0e94e9962023ff31ad": {
          "model_module": "@jupyter-widgets/controls",
          "model_name": "HBoxModel",
          "model_module_version": "1.5.0",
          "state": {
            "_view_name": "HBoxView",
            "_dom_classes": [],
            "_model_name": "HBoxModel",
            "_view_module": "@jupyter-widgets/controls",
            "_model_module_version": "1.5.0",
            "_view_count": null,
            "_view_module_version": "1.5.0",
            "box_style": "",
            "layout": "IPY_MODEL_c7adc758e2bb482e8b5997bc7bd506f4",
            "_model_module": "@jupyter-widgets/controls",
            "children": [
              "IPY_MODEL_191529e71f45441593e7a7189507c7a8",
              "IPY_MODEL_c93c731b29274499ac286161cadc7913",
              "IPY_MODEL_8d6a4b898d4a4a79a2c5146c16e7b329"
            ]
          }
        },
        "c7adc758e2bb482e8b5997bc7bd506f4": {
          "model_module": "@jupyter-widgets/base",
          "model_name": "LayoutModel",
          "model_module_version": "1.2.0",
          "state": {
            "_view_name": "LayoutView",
            "grid_template_rows": null,
            "right": null,
            "justify_content": null,
            "_view_module": "@jupyter-widgets/base",
            "overflow": null,
            "_model_module_version": "1.2.0",
            "_view_count": null,
            "flex_flow": null,
            "width": null,
            "min_width": null,
            "border": null,
            "align_items": null,
            "bottom": null,
            "_model_module": "@jupyter-widgets/base",
            "top": null,
            "grid_column": null,
            "overflow_y": null,
            "overflow_x": null,
            "grid_auto_flow": null,
            "grid_area": null,
            "grid_template_columns": null,
            "flex": null,
            "_model_name": "LayoutModel",
            "justify_items": null,
            "grid_row": null,
            "max_height": null,
            "align_content": null,
            "visibility": null,
            "align_self": null,
            "height": null,
            "min_height": null,
            "padding": null,
            "grid_auto_rows": null,
            "grid_gap": null,
            "max_width": null,
            "order": null,
            "_view_module_version": "1.2.0",
            "grid_template_areas": null,
            "object_position": null,
            "object_fit": null,
            "grid_auto_columns": null,
            "margin": null,
            "display": null,
            "left": null
          }
        },
        "191529e71f45441593e7a7189507c7a8": {
          "model_module": "@jupyter-widgets/controls",
          "model_name": "HTMLModel",
          "model_module_version": "1.5.0",
          "state": {
            "_view_name": "HTMLView",
            "style": "IPY_MODEL_aedb92be62054dd39bfe78ea27bfe1c3",
            "_dom_classes": [],
            "description": "",
            "_model_name": "HTMLModel",
            "placeholder": "​",
            "_view_module": "@jupyter-widgets/controls",
            "_model_module_version": "1.5.0",
            "value": "Batches: 100%",
            "_view_count": null,
            "_view_module_version": "1.5.0",
            "description_tooltip": null,
            "_model_module": "@jupyter-widgets/controls",
            "layout": "IPY_MODEL_65d60cb0b61446e4ac9fab6d0844bd7f"
          }
        },
        "c93c731b29274499ac286161cadc7913": {
          "model_module": "@jupyter-widgets/controls",
          "model_name": "FloatProgressModel",
          "model_module_version": "1.5.0",
          "state": {
            "_view_name": "ProgressView",
            "style": "IPY_MODEL_02bc5330a09541e2a6073573c59139b1",
            "_dom_classes": [],
            "description": "",
            "_model_name": "FloatProgressModel",
            "bar_style": "success",
            "max": 3125,
            "_view_module": "@jupyter-widgets/controls",
            "_model_module_version": "1.5.0",
            "value": 3125,
            "_view_count": null,
            "_view_module_version": "1.5.0",
            "orientation": "horizontal",
            "min": 0,
            "description_tooltip": null,
            "_model_module": "@jupyter-widgets/controls",
            "layout": "IPY_MODEL_0336e09b7eb0419b8e359850d5fdbb39"
          }
        },
        "8d6a4b898d4a4a79a2c5146c16e7b329": {
          "model_module": "@jupyter-widgets/controls",
          "model_name": "HTMLModel",
          "model_module_version": "1.5.0",
          "state": {
            "_view_name": "HTMLView",
            "style": "IPY_MODEL_44add614855048ce904c8c1654b7ecee",
            "_dom_classes": [],
            "description": "",
            "_model_name": "HTMLModel",
            "placeholder": "​",
            "_view_module": "@jupyter-widgets/controls",
            "_model_module_version": "1.5.0",
            "value": " 3125/3125 [07:29&lt;00:00, 89.40it/s]",
            "_view_count": null,
            "_view_module_version": "1.5.0",
            "description_tooltip": null,
            "_model_module": "@jupyter-widgets/controls",
            "layout": "IPY_MODEL_5986db3147aa4a27b48615f6139bd02b"
          }
        },
        "aedb92be62054dd39bfe78ea27bfe1c3": {
          "model_module": "@jupyter-widgets/controls",
          "model_name": "DescriptionStyleModel",
          "model_module_version": "1.5.0",
          "state": {
            "_view_name": "StyleView",
            "_model_name": "DescriptionStyleModel",
            "description_width": "",
            "_view_module": "@jupyter-widgets/base",
            "_model_module_version": "1.5.0",
            "_view_count": null,
            "_view_module_version": "1.2.0",
            "_model_module": "@jupyter-widgets/controls"
          }
        },
        "65d60cb0b61446e4ac9fab6d0844bd7f": {
          "model_module": "@jupyter-widgets/base",
          "model_name": "LayoutModel",
          "model_module_version": "1.2.0",
          "state": {
            "_view_name": "LayoutView",
            "grid_template_rows": null,
            "right": null,
            "justify_content": null,
            "_view_module": "@jupyter-widgets/base",
            "overflow": null,
            "_model_module_version": "1.2.0",
            "_view_count": null,
            "flex_flow": null,
            "width": null,
            "min_width": null,
            "border": null,
            "align_items": null,
            "bottom": null,
            "_model_module": "@jupyter-widgets/base",
            "top": null,
            "grid_column": null,
            "overflow_y": null,
            "overflow_x": null,
            "grid_auto_flow": null,
            "grid_area": null,
            "grid_template_columns": null,
            "flex": null,
            "_model_name": "LayoutModel",
            "justify_items": null,
            "grid_row": null,
            "max_height": null,
            "align_content": null,
            "visibility": null,
            "align_self": null,
            "height": null,
            "min_height": null,
            "padding": null,
            "grid_auto_rows": null,
            "grid_gap": null,
            "max_width": null,
            "order": null,
            "_view_module_version": "1.2.0",
            "grid_template_areas": null,
            "object_position": null,
            "object_fit": null,
            "grid_auto_columns": null,
            "margin": null,
            "display": null,
            "left": null
          }
        },
        "02bc5330a09541e2a6073573c59139b1": {
          "model_module": "@jupyter-widgets/controls",
          "model_name": "ProgressStyleModel",
          "model_module_version": "1.5.0",
          "state": {
            "_view_name": "StyleView",
            "_model_name": "ProgressStyleModel",
            "description_width": "",
            "_view_module": "@jupyter-widgets/base",
            "_model_module_version": "1.5.0",
            "_view_count": null,
            "_view_module_version": "1.2.0",
            "bar_color": null,
            "_model_module": "@jupyter-widgets/controls"
          }
        },
        "0336e09b7eb0419b8e359850d5fdbb39": {
          "model_module": "@jupyter-widgets/base",
          "model_name": "LayoutModel",
          "model_module_version": "1.2.0",
          "state": {
            "_view_name": "LayoutView",
            "grid_template_rows": null,
            "right": null,
            "justify_content": null,
            "_view_module": "@jupyter-widgets/base",
            "overflow": null,
            "_model_module_version": "1.2.0",
            "_view_count": null,
            "flex_flow": null,
            "width": null,
            "min_width": null,
            "border": null,
            "align_items": null,
            "bottom": null,
            "_model_module": "@jupyter-widgets/base",
            "top": null,
            "grid_column": null,
            "overflow_y": null,
            "overflow_x": null,
            "grid_auto_flow": null,
            "grid_area": null,
            "grid_template_columns": null,
            "flex": null,
            "_model_name": "LayoutModel",
            "justify_items": null,
            "grid_row": null,
            "max_height": null,
            "align_content": null,
            "visibility": null,
            "align_self": null,
            "height": null,
            "min_height": null,
            "padding": null,
            "grid_auto_rows": null,
            "grid_gap": null,
            "max_width": null,
            "order": null,
            "_view_module_version": "1.2.0",
            "grid_template_areas": null,
            "object_position": null,
            "object_fit": null,
            "grid_auto_columns": null,
            "margin": null,
            "display": null,
            "left": null
          }
        },
        "44add614855048ce904c8c1654b7ecee": {
          "model_module": "@jupyter-widgets/controls",
          "model_name": "DescriptionStyleModel",
          "model_module_version": "1.5.0",
          "state": {
            "_view_name": "StyleView",
            "_model_name": "DescriptionStyleModel",
            "description_width": "",
            "_view_module": "@jupyter-widgets/base",
            "_model_module_version": "1.5.0",
            "_view_count": null,
            "_view_module_version": "1.2.0",
            "_model_module": "@jupyter-widgets/controls"
          }
        },
        "5986db3147aa4a27b48615f6139bd02b": {
          "model_module": "@jupyter-widgets/base",
          "model_name": "LayoutModel",
          "model_module_version": "1.2.0",
          "state": {
            "_view_name": "LayoutView",
            "grid_template_rows": null,
            "right": null,
            "justify_content": null,
            "_view_module": "@jupyter-widgets/base",
            "overflow": null,
            "_model_module_version": "1.2.0",
            "_view_count": null,
            "flex_flow": null,
            "width": null,
            "min_width": null,
            "border": null,
            "align_items": null,
            "bottom": null,
            "_model_module": "@jupyter-widgets/base",
            "top": null,
            "grid_column": null,
            "overflow_y": null,
            "overflow_x": null,
            "grid_auto_flow": null,
            "grid_area": null,
            "grid_template_columns": null,
            "flex": null,
            "_model_name": "LayoutModel",
            "justify_items": null,
            "grid_row": null,
            "max_height": null,
            "align_content": null,
            "visibility": null,
            "align_self": null,
            "height": null,
            "min_height": null,
            "padding": null,
            "grid_auto_rows": null,
            "grid_gap": null,
            "max_width": null,
            "order": null,
            "_view_module_version": "1.2.0",
            "grid_template_areas": null,
            "object_position": null,
            "object_fit": null,
            "grid_auto_columns": null,
            "margin": null,
            "display": null,
            "left": null
          }
        },
        "3e33d55c2c3f4d92974c28b7c4f15436": {
          "model_module": "@jupyter-widgets/controls",
          "model_name": "HBoxModel",
          "model_module_version": "1.5.0",
          "state": {
            "_view_name": "HBoxView",
            "_dom_classes": [],
            "_model_name": "HBoxModel",
            "_view_module": "@jupyter-widgets/controls",
            "_model_module_version": "1.5.0",
            "_view_count": null,
            "_view_module_version": "1.5.0",
            "box_style": "",
            "layout": "IPY_MODEL_b0f1aac7f26b4020b70de56179d96bc4",
            "_model_module": "@jupyter-widgets/controls",
            "children": [
              "IPY_MODEL_732cafb91e6c49f6bcf34524c7ed41c2",
              "IPY_MODEL_a160bf130c754f70ad4336481affd236",
              "IPY_MODEL_32d0625dc9e0449a8668073eeb78761f"
            ]
          }
        },
        "b0f1aac7f26b4020b70de56179d96bc4": {
          "model_module": "@jupyter-widgets/base",
          "model_name": "LayoutModel",
          "model_module_version": "1.2.0",
          "state": {
            "_view_name": "LayoutView",
            "grid_template_rows": null,
            "right": null,
            "justify_content": null,
            "_view_module": "@jupyter-widgets/base",
            "overflow": null,
            "_model_module_version": "1.2.0",
            "_view_count": null,
            "flex_flow": null,
            "width": null,
            "min_width": null,
            "border": null,
            "align_items": null,
            "bottom": null,
            "_model_module": "@jupyter-widgets/base",
            "top": null,
            "grid_column": null,
            "overflow_y": null,
            "overflow_x": null,
            "grid_auto_flow": null,
            "grid_area": null,
            "grid_template_columns": null,
            "flex": null,
            "_model_name": "LayoutModel",
            "justify_items": null,
            "grid_row": null,
            "max_height": null,
            "align_content": null,
            "visibility": null,
            "align_self": null,
            "height": null,
            "min_height": null,
            "padding": null,
            "grid_auto_rows": null,
            "grid_gap": null,
            "max_width": null,
            "order": null,
            "_view_module_version": "1.2.0",
            "grid_template_areas": null,
            "object_position": null,
            "object_fit": null,
            "grid_auto_columns": null,
            "margin": null,
            "display": null,
            "left": null
          }
        },
        "732cafb91e6c49f6bcf34524c7ed41c2": {
          "model_module": "@jupyter-widgets/controls",
          "model_name": "HTMLModel",
          "model_module_version": "1.5.0",
          "state": {
            "_view_name": "HTMLView",
            "style": "IPY_MODEL_4375c10211094aab8bc6f731ebd9dfb2",
            "_dom_classes": [],
            "description": "",
            "_model_name": "HTMLModel",
            "placeholder": "​",
            "_view_module": "@jupyter-widgets/controls",
            "_model_module_version": "1.5.0",
            "value": "Computing transition probabilities: 100%",
            "_view_count": null,
            "_view_module_version": "1.5.0",
            "description_tooltip": null,
            "_model_module": "@jupyter-widgets/controls",
            "layout": "IPY_MODEL_e664f7cc00db43febcd2daa107c7b7d6"
          }
        },
        "a160bf130c754f70ad4336481affd236": {
          "model_module": "@jupyter-widgets/controls",
          "model_name": "FloatProgressModel",
          "model_module_version": "1.5.0",
          "state": {
            "_view_name": "ProgressView",
            "style": "IPY_MODEL_f529c09a68494e13881c4962a03e0fde",
            "_dom_classes": [],
            "description": "",
            "_model_name": "FloatProgressModel",
            "bar_style": "success",
            "max": 1661,
            "_view_module": "@jupyter-widgets/controls",
            "_model_module_version": "1.5.0",
            "value": 1661,
            "_view_count": null,
            "_view_module_version": "1.5.0",
            "orientation": "horizontal",
            "min": 0,
            "description_tooltip": null,
            "_model_module": "@jupyter-widgets/controls",
            "layout": "IPY_MODEL_45364563ab42404b8b679f4f58396cc1"
          }
        },
        "32d0625dc9e0449a8668073eeb78761f": {
          "model_module": "@jupyter-widgets/controls",
          "model_name": "HTMLModel",
          "model_module_version": "1.5.0",
          "state": {
            "_view_name": "HTMLView",
            "style": "IPY_MODEL_d321708ece4b429f84ab1d708fbf5186",
            "_dom_classes": [],
            "description": "",
            "_model_name": "HTMLModel",
            "placeholder": "​",
            "_view_module": "@jupyter-widgets/controls",
            "_model_module_version": "1.5.0",
            "value": " 1661/1661 [00:36&lt;00:00, 252.78it/s]",
            "_view_count": null,
            "_view_module_version": "1.5.0",
            "description_tooltip": null,
            "_model_module": "@jupyter-widgets/controls",
            "layout": "IPY_MODEL_89d5f9d3d5f3400ab1c1e0a75e24d29c"
          }
        },
        "4375c10211094aab8bc6f731ebd9dfb2": {
          "model_module": "@jupyter-widgets/controls",
          "model_name": "DescriptionStyleModel",
          "model_module_version": "1.5.0",
          "state": {
            "_view_name": "StyleView",
            "_model_name": "DescriptionStyleModel",
            "description_width": "",
            "_view_module": "@jupyter-widgets/base",
            "_model_module_version": "1.5.0",
            "_view_count": null,
            "_view_module_version": "1.2.0",
            "_model_module": "@jupyter-widgets/controls"
          }
        },
        "e664f7cc00db43febcd2daa107c7b7d6": {
          "model_module": "@jupyter-widgets/base",
          "model_name": "LayoutModel",
          "model_module_version": "1.2.0",
          "state": {
            "_view_name": "LayoutView",
            "grid_template_rows": null,
            "right": null,
            "justify_content": null,
            "_view_module": "@jupyter-widgets/base",
            "overflow": null,
            "_model_module_version": "1.2.0",
            "_view_count": null,
            "flex_flow": null,
            "width": null,
            "min_width": null,
            "border": null,
            "align_items": null,
            "bottom": null,
            "_model_module": "@jupyter-widgets/base",
            "top": null,
            "grid_column": null,
            "overflow_y": null,
            "overflow_x": null,
            "grid_auto_flow": null,
            "grid_area": null,
            "grid_template_columns": null,
            "flex": null,
            "_model_name": "LayoutModel",
            "justify_items": null,
            "grid_row": null,
            "max_height": null,
            "align_content": null,
            "visibility": null,
            "align_self": null,
            "height": null,
            "min_height": null,
            "padding": null,
            "grid_auto_rows": null,
            "grid_gap": null,
            "max_width": null,
            "order": null,
            "_view_module_version": "1.2.0",
            "grid_template_areas": null,
            "object_position": null,
            "object_fit": null,
            "grid_auto_columns": null,
            "margin": null,
            "display": null,
            "left": null
          }
        },
        "f529c09a68494e13881c4962a03e0fde": {
          "model_module": "@jupyter-widgets/controls",
          "model_name": "ProgressStyleModel",
          "model_module_version": "1.5.0",
          "state": {
            "_view_name": "StyleView",
            "_model_name": "ProgressStyleModel",
            "description_width": "",
            "_view_module": "@jupyter-widgets/base",
            "_model_module_version": "1.5.0",
            "_view_count": null,
            "_view_module_version": "1.2.0",
            "bar_color": null,
            "_model_module": "@jupyter-widgets/controls"
          }
        },
        "45364563ab42404b8b679f4f58396cc1": {
          "model_module": "@jupyter-widgets/base",
          "model_name": "LayoutModel",
          "model_module_version": "1.2.0",
          "state": {
            "_view_name": "LayoutView",
            "grid_template_rows": null,
            "right": null,
            "justify_content": null,
            "_view_module": "@jupyter-widgets/base",
            "overflow": null,
            "_model_module_version": "1.2.0",
            "_view_count": null,
            "flex_flow": null,
            "width": null,
            "min_width": null,
            "border": null,
            "align_items": null,
            "bottom": null,
            "_model_module": "@jupyter-widgets/base",
            "top": null,
            "grid_column": null,
            "overflow_y": null,
            "overflow_x": null,
            "grid_auto_flow": null,
            "grid_area": null,
            "grid_template_columns": null,
            "flex": null,
            "_model_name": "LayoutModel",
            "justify_items": null,
            "grid_row": null,
            "max_height": null,
            "align_content": null,
            "visibility": null,
            "align_self": null,
            "height": null,
            "min_height": null,
            "padding": null,
            "grid_auto_rows": null,
            "grid_gap": null,
            "max_width": null,
            "order": null,
            "_view_module_version": "1.2.0",
            "grid_template_areas": null,
            "object_position": null,
            "object_fit": null,
            "grid_auto_columns": null,
            "margin": null,
            "display": null,
            "left": null
          }
        },
        "d321708ece4b429f84ab1d708fbf5186": {
          "model_module": "@jupyter-widgets/controls",
          "model_name": "DescriptionStyleModel",
          "model_module_version": "1.5.0",
          "state": {
            "_view_name": "StyleView",
            "_model_name": "DescriptionStyleModel",
            "description_width": "",
            "_view_module": "@jupyter-widgets/base",
            "_model_module_version": "1.5.0",
            "_view_count": null,
            "_view_module_version": "1.2.0",
            "_model_module": "@jupyter-widgets/controls"
          }
        },
        "89d5f9d3d5f3400ab1c1e0a75e24d29c": {
          "model_module": "@jupyter-widgets/base",
          "model_name": "LayoutModel",
          "model_module_version": "1.2.0",
          "state": {
            "_view_name": "LayoutView",
            "grid_template_rows": null,
            "right": null,
            "justify_content": null,
            "_view_module": "@jupyter-widgets/base",
            "overflow": null,
            "_model_module_version": "1.2.0",
            "_view_count": null,
            "flex_flow": null,
            "width": null,
            "min_width": null,
            "border": null,
            "align_items": null,
            "bottom": null,
            "_model_module": "@jupyter-widgets/base",
            "top": null,
            "grid_column": null,
            "overflow_y": null,
            "overflow_x": null,
            "grid_auto_flow": null,
            "grid_area": null,
            "grid_template_columns": null,
            "flex": null,
            "_model_name": "LayoutModel",
            "justify_items": null,
            "grid_row": null,
            "max_height": null,
            "align_content": null,
            "visibility": null,
            "align_self": null,
            "height": null,
            "min_height": null,
            "padding": null,
            "grid_auto_rows": null,
            "grid_gap": null,
            "max_width": null,
            "order": null,
            "_view_module_version": "1.2.0",
            "grid_template_areas": null,
            "object_position": null,
            "object_fit": null,
            "grid_auto_columns": null,
            "margin": null,
            "display": null,
            "left": null
          }
        }
      }
    },
    "accelerator": "GPU"
  },
  "nbformat": 4,
  "nbformat_minor": 5
}